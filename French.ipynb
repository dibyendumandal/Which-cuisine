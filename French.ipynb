{
 "cells": [
  {
   "cell_type": "markdown",
   "metadata": {},
   "source": [
    "# Libraries"
   ]
  },
  {
   "cell_type": "code",
   "execution_count": 1,
   "metadata": {},
   "outputs": [],
   "source": [
    "import matplotlib.pyplot as plt\n",
    "% matplotlib inline\n",
    "import seaborn as sns; sns.set()\n",
    "\n",
    "import numpy as np\n",
    "import pandas as pd\n",
    "\n",
    "import nltk\n",
    "from nltk.corpus import wordnet as wn "
   ]
  },
  {
   "cell_type": "code",
   "execution_count": 2,
   "metadata": {},
   "outputs": [],
   "source": [
    "import os"
   ]
  },
  {
   "cell_type": "markdown",
   "metadata": {},
   "source": [
    "## Gather"
   ]
  },
  {
   "cell_type": "markdown",
   "metadata": {},
   "source": [
    "### I. Get all URLs, store them in a list"
   ]
  },
  {
   "cell_type": "markdown",
   "metadata": {},
   "source": [
    "#### Number and format"
   ]
  },
  {
   "cell_type": "code",
   "execution_count": 3,
   "metadata": {},
   "outputs": [],
   "source": [
    "NUM_PAGES_FRANCE = 25\n",
    "base_url_France = \"https://www.allrecipes.com/recipes/721/\" + \\\n",
    "                 \"world-cuisine/european/french/?page=\"\n"
   ]
  },
  {
   "cell_type": "markdown",
   "metadata": {},
   "source": [
    "#### Libraries"
   ]
  },
  {
   "cell_type": "code",
   "execution_count": 4,
   "metadata": {},
   "outputs": [],
   "source": [
    "import requests\n",
    "import bs4"
   ]
  },
  {
   "cell_type": "markdown",
   "metadata": {},
   "source": [
    "#### Function to get the urls from a page"
   ]
  },
  {
   "cell_type": "code",
   "execution_count": 5,
   "metadata": {},
   "outputs": [],
   "source": [
    "def recipe_urls_in_a_page(url):\n",
    "    \"\"\"Given an webpage url returns a list of \n",
    "    recipe urls in the webpage\n",
    "    (CAUTION: Applies to allrecipes.com only)\"\"\"\n",
    "    \n",
    "    res = requests.get(url)\n",
    "    res.raise_for_status()\n",
    "    \n",
    "    soup = bs4.BeautifulSoup(res.text, \"lxml\")\n",
    "    elems = soup.find_all('article', class_ = \"fixed-recipe-card\")\n",
    "    recipe_urls = [elem.find_all('a')[0].get('href') for elem in elems]\n",
    "    \n",
    "    return recipe_urls"
   ]
  },
  {
   "cell_type": "markdown",
   "metadata": {},
   "source": [
    "#### Test!"
   ]
  },
  {
   "cell_type": "code",
   "execution_count": 6,
   "metadata": {},
   "outputs": [
    {
     "data": {
      "text/plain": [
       "['https://www.allrecipes.com/recipe/16602/cordon-bleu-chicken-rolls/',\n",
       " 'https://www.allrecipes.com/recipe/223506/poulet-de-provencal/',\n",
       " 'https://www.allrecipes.com/recipe/246439/gratin-dauphinois-de-solange/',\n",
       " 'https://www.allrecipes.com/recipe/190997/traditional-layered-french-croissants/',\n",
       " 'https://www.allrecipes.com/recipe/83905/calis-sinful-creme-brulee/',\n",
       " 'https://www.allrecipes.com/recipe/16905/beef-bourguignon-ii/',\n",
       " 'https://www.allrecipes.com/recipe/222387/chef-johns-creme-fraiche/',\n",
       " 'https://www.allrecipes.com/recipe/16386/french-onion-soup-v/',\n",
       " 'https://www.allrecipes.com/recipe/239230/chef-johns-coq-au-vin/',\n",
       " 'https://www.allrecipes.com/recipe/8669/chicken-cordon-bleu-ii/',\n",
       " 'https://www.allrecipes.com/recipe/15925/creamy-au-gratin-potatoes/',\n",
       " 'https://www.allrecipes.com/recipe/16383/basic-crepes/',\n",
       " 'https://www.allrecipes.com/recipe/8495/chicken-cordon-bleu-i/',\n",
       " 'https://www.allrecipes.com/recipe/7028/french-baguettes/',\n",
       " 'https://www.allrecipes.com/recipe/91192/french-onion-soup-gratinee/',\n",
       " 'https://www.allrecipes.com/recipe/6882/french-bread/',\n",
       " 'https://www.allrecipes.com/recipe/13309/rich-and-simple-french-onion-soup/',\n",
       " 'https://www.allrecipes.com/recipe/33647/chocolate-ganache/',\n",
       " 'https://www.allrecipes.com/recipe/27188/crepes/',\n",
       " 'https://www.allrecipes.com/recipe/18411/ratatouille/',\n",
       " 'https://www.allrecipes.com/recipe/19037/dessert-crepes/',\n",
       " 'https://www.allrecipes.com/recipe/84214/blender-hollandaise-sauce/',\n",
       " 'https://www.allrecipes.com/recipe/95817/vanilla-crepes/',\n",
       " 'https://www.allrecipes.com/recipe/15075/french-pastry-pie-crust/',\n",
       " 'https://www.allrecipes.com/recipe/20931/french-crepes/',\n",
       " 'https://www.allrecipes.com/recipe/13345/french-beef-stew/',\n",
       " 'https://www.allrecipes.com/recipe/17515/quiche-lorraine-i/']"
      ]
     },
     "execution_count": 6,
     "metadata": {},
     "output_type": "execute_result"
    }
   ],
   "source": [
    "recipe_urls_in_a_page(base_url_France+\"1\")"
   ]
  },
  {
   "cell_type": "markdown",
   "metadata": {},
   "source": [
    "#### Get the Urls!"
   ]
  },
  {
   "cell_type": "code",
   "execution_count": 7,
   "metadata": {},
   "outputs": [],
   "source": [
    "from time import sleep"
   ]
  },
  {
   "cell_type": "code",
   "execution_count": 10,
   "metadata": {},
   "outputs": [
    {
     "name": "stdout",
     "output_type": "stream",
     "text": [
      "Souping page number 1 ,  0  found so far\n",
      "Souping page number 2 ,  27  found so far\n",
      "Souping page number 3 ,  47  found so far\n",
      "Souping page number 4 ,  67  found so far\n",
      "Souping page number 5 ,  87  found so far\n",
      "Souping page number 6 ,  107  found so far\n",
      "Souping page number 7 ,  127  found so far\n",
      "Souping page number 8 ,  147  found so far\n",
      "Souping page number 9 ,  167  found so far\n",
      "Souping page number 10 ,  187  found so far\n",
      "Souping page number 11 ,  207  found so far\n",
      "Souping page number 12 ,  227  found so far\n",
      "Souping page number 13 ,  247  found so far\n",
      "Souping page number 14 ,  267  found so far\n",
      "Souping page number 15 ,  287  found so far\n",
      "Souping page number 16 ,  307  found so far\n",
      "Souping page number 17 ,  327  found so far\n",
      "Souping page number 18 ,  347  found so far\n",
      "Souping page number 19 ,  367  found so far\n",
      "Souping page number 20 ,  387  found so far\n",
      "Souping page number 21 ,  407  found so far\n",
      "Souping page number 22 ,  427  found so far\n",
      "Souping page number 23 ,  447  found so far\n",
      "Souping page number 24 ,  467  found so far\n",
      "Souping page number 25 ,  487  found so far\n"
     ]
    }
   ],
   "source": [
    "recipe_urls_French = []\n",
    "\n",
    "for page_num in range(1, NUM_PAGES_FRANCE + 1):\n",
    "\n",
    "    print('Souping page number', page_num, ', ', \n",
    "          len(recipe_urls_French), ' found so far')\n",
    "    url = base_url_France + str(page_num)\n",
    "    recipe_urls_French.extend(recipe_urls_in_a_page(url))\n",
    "    sleep(10)\n",
    "    "
   ]
  },
  {
   "cell_type": "markdown",
   "metadata": {},
   "source": [
    "#### Write URLs"
   ]
  },
  {
   "cell_type": "code",
   "execution_count": 11,
   "metadata": {},
   "outputs": [],
   "source": [
    "f = open('French_recipes_urls.txt', 'w')\n",
    "for url in recipe_urls_French:\n",
    "    f.write(url+'\\n')\n",
    "f.close()"
   ]
  },
  {
   "cell_type": "markdown",
   "metadata": {},
   "source": [
    "#### Read URLs"
   ]
  },
  {
   "cell_type": "code",
   "execution_count": 12,
   "metadata": {},
   "outputs": [
    {
     "name": "stdout",
     "output_type": "stream",
     "text": [
      "https://www.allrecipes.com/recipe/16602/cordon-bleu-chicken-rolls/\n",
      "https://www.allrecipes.com/recipe/223506/poulet-de-provencal/\n",
      "https://www.allrecipes.com/recipe/246439/gratin-dauphinois-de-solange/\n",
      "https://www.allrecipes.com/recipe/190997/traditional-layered-french-croissants/\n",
      "https://www.allrecipes.com/recipe/83905/calis-sinful-creme-brulee/\n",
      "https://www.allrecipes.com/recipe/16905/beef-bourguignon-ii/\n",
      "https://www.allrecipes.com/recipe/222387/chef-johns-creme-fraiche/\n",
      "https://www.allrecipes.com/recipe/16386/french-onion-soup-v/\n",
      "https://www.allrecipes.com/recipe/239230/chef-johns-coq-au-vin/\n",
      "https://www.allrecipes.com/recipe/8669/chicken-cordon-bleu-ii/\n",
      "https://www.allrecipes.com/recipe/15925/creamy-au-gratin-potatoes/\n"
     ]
    }
   ],
   "source": [
    "f = open('French_recipes_urls.txt')\n",
    "for i, line in enumerate(f):\n",
    "    print(line.rstrip())\n",
    "    if i>9: break\n",
    "f.close()"
   ]
  },
  {
   "cell_type": "markdown",
   "metadata": {},
   "source": [
    "### II. For each URL, get\n",
    "1. name\n",
    "2. ingredients\n",
    "3. url\n",
    "\n",
    "Create a dictionary\n",
    "\n",
    "III. Save the dictionaries in a list ###"
   ]
  },
  {
   "cell_type": "markdown",
   "metadata": {},
   "source": [
    "#### Function for the details from a given URL"
   ]
  },
  {
   "cell_type": "code",
   "execution_count": 22,
   "metadata": {},
   "outputs": [],
   "source": [
    "def recipe_details(url):\n",
    "    \"\"\"Given a url of a recipe returns a list of ingredients\n",
    "    (CAUTION: Applies to allrecipes.com only)\"\"\"    \n",
    "\n",
    "    res = requests.get(url)\n",
    "    res.raise_for_status()\n",
    "    soup = bs4.BeautifulSoup(res.text, \"lxml\")\n",
    "\n",
    "    name = ' '.join(url.split('/')[-2].split('-')).title()\n",
    "    ingredients = []\n",
    "    lines = soup.find_all('li', class_= \"checkList__line\")[:-4]\n",
    "    for line in lines:\n",
    "        item = line.find('label').get('title').split(\" \")\n",
    "        ingredients.extend(item)\n",
    "        \n",
    "    ingredients_string = \" \".join(ingredients)\n",
    "                          \n",
    "    return {\n",
    "        \"name\": name,\n",
    "        \"ingredients_string\": ingredients_string,\n",
    "        \"url\": url}"
   ]
  },
  {
   "cell_type": "markdown",
   "metadata": {},
   "source": [
    "#### Load the list of URLs"
   ]
  },
  {
   "cell_type": "code",
   "execution_count": 14,
   "metadata": {
    "scrolled": true
   },
   "outputs": [
    {
     "data": {
      "text/plain": [
       "['https://www.allrecipes.com/recipe/16602/cordon-bleu-chicken-rolls/',\n",
       " 'https://www.allrecipes.com/recipe/223506/poulet-de-provencal/',\n",
       " 'https://www.allrecipes.com/recipe/246439/gratin-dauphinois-de-solange/']"
      ]
     },
     "execution_count": 14,
     "metadata": {},
     "output_type": "execute_result"
    }
   ],
   "source": [
    "recipes = []\n",
    "f = open('French_recipes_urls.txt')\n",
    "for line in f:\n",
    "    recipes+= [line.rstrip()]\n",
    "    \n",
    "recipes[:3]"
   ]
  },
  {
   "cell_type": "code",
   "execution_count": 18,
   "metadata": {},
   "outputs": [
    {
     "data": {
      "text/plain": [
       "507"
      ]
     },
     "execution_count": 18,
     "metadata": {},
     "output_type": "execute_result"
    }
   ],
   "source": [
    "len(recipes)"
   ]
  },
  {
   "cell_type": "code",
   "execution_count": 15,
   "metadata": {},
   "outputs": [],
   "source": [
    "import timeit"
   ]
  },
  {
   "cell_type": "code",
   "execution_count": 16,
   "metadata": {},
   "outputs": [],
   "source": [
    "import datetime"
   ]
  },
  {
   "cell_type": "code",
   "execution_count": 17,
   "metadata": {},
   "outputs": [
    {
     "name": "stdout",
     "output_type": "stream",
     "text": [
      "Time: 2018-08-06 14:00:46.466253\n"
     ]
    }
   ],
   "source": [
    "print(\"Time: {}\".format(datetime.datetime.now()))"
   ]
  },
  {
   "cell_type": "markdown",
   "metadata": {},
   "source": [
    "### Downloads details from all the urls"
   ]
  },
  {
   "cell_type": "code",
   "execution_count": 30,
   "metadata": {
    "collapsed": true
   },
   "outputs": [
    {
     "name": "stdout",
     "output_type": "stream",
     "text": [
      "Time = 2018-08-06 14:18:21.478563, souping page 0\n",
      "Time = 2018-08-06 14:19:15.207421, souping page 10\n",
      "Time = 2018-08-06 14:20:08.812994, souping page 20\n",
      "Time = 2018-08-06 14:21:02.176635, souping page 30\n",
      "Time = 2018-08-06 14:21:55.201867, souping page 40\n",
      "Time = 2018-08-06 14:22:48.129121, souping page 50\n",
      "Time = 2018-08-06 14:23:41.411881, souping page 60\n",
      "Time = 2018-08-06 14:24:34.674189, souping page 70\n",
      "Time = 2018-08-06 14:25:28.041443, souping page 80\n",
      "Time = 2018-08-06 14:26:22.019374, souping page 90\n",
      "Time = 2018-08-06 14:27:15.025444, souping page 100\n",
      "Time = 2018-08-06 14:28:08.021334, souping page 110\n",
      "Time = 2018-08-06 14:29:01.742550, souping page 120\n",
      "Time = 2018-08-06 14:29:54.924470, souping page 130\n",
      "Time = 2018-08-06 14:30:48.044598, souping page 140\n",
      "Time = 2018-08-06 14:31:41.084725, souping page 150\n",
      "Time = 2018-08-06 14:32:34.144112, souping page 160\n",
      "Time = 2018-08-06 14:33:27.238235, souping page 170\n",
      "Time = 2018-08-06 14:34:20.362167, souping page 180\n",
      "Time = 2018-08-06 14:35:13.717046, souping page 190\n",
      "Time = 2018-08-06 14:36:06.585598, souping page 200\n",
      "Time = 2018-08-06 14:36:59.611515, souping page 210\n",
      "Time = 2018-08-06 14:37:54.023067, souping page 220\n",
      "Time = 2018-08-06 14:38:47.006623, souping page 230\n",
      "Time = 2018-08-06 14:39:40.091201, souping page 240\n",
      "Time = 2018-08-06 14:40:33.626136, souping page 250\n",
      "Time = 2018-08-06 14:41:27.362701, souping page 260\n",
      "Time = 2018-08-06 14:42:20.452886, souping page 270\n",
      "Time = 2018-08-06 14:43:13.872724, souping page 280\n",
      "Time = 2018-08-06 14:44:07.263308, souping page 290\n",
      "Time = 2018-08-06 14:45:00.242482, souping page 300\n",
      "Time = 2018-08-06 14:45:53.781494, souping page 310\n",
      "Time = 2018-08-06 14:46:46.750931, souping page 320\n",
      "Time = 2018-08-06 14:47:39.902774, souping page 330\n",
      "Time = 2018-08-06 14:48:33.142945, souping page 340\n",
      "Time = 2018-08-06 14:49:26.464307, souping page 350\n",
      "Time = 2018-08-06 14:50:19.450681, souping page 360\n",
      "Time = 2018-08-06 14:51:12.777734, souping page 370\n",
      "Time = 2018-08-06 14:52:05.632996, souping page 380\n",
      "Time = 2018-08-06 14:52:58.469759, souping page 390\n",
      "Time = 2018-08-06 14:53:51.637924, souping page 400\n",
      "Time = 2018-08-06 14:54:44.349328, souping page 410\n",
      "Time = 2018-08-06 14:55:37.469754, souping page 420\n",
      "Time = 2018-08-06 14:56:30.371993, souping page 430\n",
      "Time = 2018-08-06 14:57:23.066369, souping page 440\n",
      "Time = 2018-08-06 14:58:15.893756, souping page 450\n",
      "Time = 2018-08-06 14:59:08.604085, souping page 460\n",
      "Time = 2018-08-06 15:00:01.911209, souping page 470\n",
      "Time = 2018-08-06 15:00:55.130785, souping page 480\n",
      "Time = 2018-08-06 15:01:48.024379, souping page 490\n",
      "Time = 2018-08-06 15:02:41.516839, souping page 500\n"
     ]
    }
   ],
   "source": [
    "recipes_in_detail = []\n",
    "f = open('French_recipes_details.txt', 'w')\n",
    "\n",
    "for i, url in enumerate(recipes):\n",
    "    \n",
    "    # if i > 2: break\n",
    "    \n",
    "    if i%10 == 0:\n",
    "        print('Time = {}, souping page {}'.format(datetime.datetime.now(), i))\n",
    "    \n",
    "    recipe = recipe_details(url)\n",
    "    sleep(5)\n",
    "    \n",
    "    recipes_in_detail += [recipe]\n",
    "    f.write(recipe[\"name\"])\n",
    "    f.write(\"\\t\" + recipe[\"ingredients_string\"])\n",
    "    f.write(\"\\t\" + recipe[\"url\"] + \"\\n\")\n",
    "    \n",
    "f.close()\n",
    "# recipes_in_detail"
   ]
  },
  {
   "cell_type": "code",
   "execution_count": 32,
   "metadata": {
    "scrolled": true
   },
   "outputs": [
    {
     "name": "stdout",
     "output_type": "stream",
     "text": [
      "Cordon Bleu Chicken Rolls\t8 skinless, boneless chicken breasts 8 slices cooked ham 4 slices Swiss cheese, cut into 1 inch pieces salt and pepper to taste 1 teaspoon dried thyme 1/4 cup melted butter 1/2 cup cornflakes cereal crumbs 1 (10.75 ounce) can condensed cream of chicken soup 1/2 cup sour cream\thttps://www.allrecipes.com/recipe/16602/cordon-bleu-chicken-rolls/\n",
      "Poulet De Provencal\t2 teaspoons olive oil 1 teaspoon butter 2 1/2 tablespoons balsamic vinegar 2 teaspoons Dijon mustard 3 large cloves garlic, chopped 4 (4 ounce) skinless, boneless chicken breast halves, pounded flat 1/3 cup chicken stock 1 large shallot, chopped 2 cups cremini mushrooms, chopped 1/3 cup chicken stock 1/4 teaspoon herbes de Provence, crumbled 1 1/2 teaspoons balsamic vinegar salt and ground black pepper to taste\thttps://www.allrecipes.com/recipe/223506/poulet-de-provencal/\n",
      "Gratin Dauphinois De Solange\t1 clove garlic, halved 2 pounds potatoes, peeled and thinly sliced 2 1/2 cups heavy whipping cream 2 1/4 cups freshly grated Comte cheese\thttps://www.allrecipes.com/recipe/246439/gratin-dauphinois-de-solange/\n",
      "Traditional Layered French Croissants\t2 tablespoons all-purpose flour 1 1/2 cups unsalted butter, at room temperature 4 cups all-purpose flour, divided 1/2 teaspoon salt 3 tablespoons sugar 2 (.25 ounce) packages active dry yeast 1/4 cup lukewarm water 1 cup milk 1/2 cup heavy cream 1 egg\thttps://www.allrecipes.com/recipe/190997/traditional-layered-french-croissants/\n",
      "Calis Sinful Creme Brulee\t1/2 cup semi-sweet chocolate chips 2 cups heavy cream 1/4 cup white sugar 1 pinch salt 2 teaspoons vanilla extract 5 egg yolks\thttps://www.allrecipes.com/recipe/83905/calis-sinful-creme-brulee/\n"
     ]
    }
   ],
   "source": [
    "f = open('French_recipes_details.txt')\n",
    "for i, line in enumerate(f):\n",
    "    print(line.rstrip())\n",
    "    if i > 3: break\n",
    "    \n",
    "f.close()"
   ]
  },
  {
   "cell_type": "code",
   "execution_count": 29,
   "metadata": {},
   "outputs": [
    {
     "data": {
      "text/plain": [
       "['Gratin Dauphinois De Solange',\n",
       " '1 clove garlic, halved 2 pounds potatoes, peeled and thinly sliced 2 1/2 cups heavy whipping cream 2 1/4 cups freshly grated Comte cheese',\n",
       " 'https://www.allrecipes.com/recipe/246439/gratin-dauphinois-de-solange/']"
      ]
     },
     "execution_count": 29,
     "metadata": {},
     "output_type": "execute_result"
    }
   ],
   "source": [
    "line.rstrip().split(\"\\t\")"
   ]
  },
  {
   "cell_type": "code",
   "execution_count": 33,
   "metadata": {},
   "outputs": [],
   "source": [
    "df_recipes_in_detail = pd.DataFrame(recipes_in_detail)"
   ]
  },
  {
   "cell_type": "code",
   "execution_count": 34,
   "metadata": {},
   "outputs": [
    {
     "data": {
      "text/html": [
       "<div>\n",
       "<style scoped>\n",
       "    .dataframe tbody tr th:only-of-type {\n",
       "        vertical-align: middle;\n",
       "    }\n",
       "\n",
       "    .dataframe tbody tr th {\n",
       "        vertical-align: top;\n",
       "    }\n",
       "\n",
       "    .dataframe thead th {\n",
       "        text-align: right;\n",
       "    }\n",
       "</style>\n",
       "<table border=\"1\" class=\"dataframe\">\n",
       "  <thead>\n",
       "    <tr style=\"text-align: right;\">\n",
       "      <th></th>\n",
       "      <th>ingredients_string</th>\n",
       "      <th>name</th>\n",
       "      <th>url</th>\n",
       "    </tr>\n",
       "  </thead>\n",
       "  <tbody>\n",
       "    <tr>\n",
       "      <th>119</th>\n",
       "      <td>4 eggs 1 teaspoon ground cinnamon 1 teaspoon g...</td>\n",
       "      <td>Uncle Jesses French Toast</td>\n",
       "      <td>https://www.allrecipes.com/recipe/84454/uncle-...</td>\n",
       "    </tr>\n",
       "  </tbody>\n",
       "</table>\n",
       "</div>"
      ],
      "text/plain": [
       "                                    ingredients_string  \\\n",
       "119  4 eggs 1 teaspoon ground cinnamon 1 teaspoon g...   \n",
       "\n",
       "                          name  \\\n",
       "119  Uncle Jesses French Toast   \n",
       "\n",
       "                                                   url  \n",
       "119  https://www.allrecipes.com/recipe/84454/uncle-...  "
      ]
     },
     "execution_count": 34,
     "metadata": {},
     "output_type": "execute_result"
    }
   ],
   "source": [
    "df_recipes_in_detail.sample()"
   ]
  },
  {
   "cell_type": "code",
   "execution_count": 35,
   "metadata": {},
   "outputs": [],
   "source": [
    "df_recipes_in_detail.to_csv('French_recipes_details.csv', index=False)"
   ]
  },
  {
   "cell_type": "code",
   "execution_count": 36,
   "metadata": {},
   "outputs": [],
   "source": [
    "df = pd.read_csv('French_recipes_details.csv')"
   ]
  },
  {
   "cell_type": "code",
   "execution_count": 37,
   "metadata": {},
   "outputs": [
    {
     "data": {
      "text/html": [
       "<div>\n",
       "<style scoped>\n",
       "    .dataframe tbody tr th:only-of-type {\n",
       "        vertical-align: middle;\n",
       "    }\n",
       "\n",
       "    .dataframe tbody tr th {\n",
       "        vertical-align: top;\n",
       "    }\n",
       "\n",
       "    .dataframe thead th {\n",
       "        text-align: right;\n",
       "    }\n",
       "</style>\n",
       "<table border=\"1\" class=\"dataframe\">\n",
       "  <thead>\n",
       "    <tr style=\"text-align: right;\">\n",
       "      <th></th>\n",
       "      <th>ingredients_string</th>\n",
       "      <th>name</th>\n",
       "      <th>url</th>\n",
       "    </tr>\n",
       "  </thead>\n",
       "  <tbody>\n",
       "    <tr>\n",
       "      <th>55</th>\n",
       "      <td>1 recipe pastry for a 9 inch single crust pie ...</td>\n",
       "      <td>Quiche Lorraine Ii</td>\n",
       "      <td>https://www.allrecipes.com/recipe/18477/quiche...</td>\n",
       "    </tr>\n",
       "  </tbody>\n",
       "</table>\n",
       "</div>"
      ],
      "text/plain": [
       "                                   ingredients_string                name  \\\n",
       "55  1 recipe pastry for a 9 inch single crust pie ...  Quiche Lorraine Ii   \n",
       "\n",
       "                                                  url  \n",
       "55  https://www.allrecipes.com/recipe/18477/quiche...  "
      ]
     },
     "execution_count": 37,
     "metadata": {},
     "output_type": "execute_result"
    }
   ],
   "source": [
    "df.sample()"
   ]
  },
  {
   "cell_type": "code",
   "execution_count": 82,
   "metadata": {},
   "outputs": [
    {
     "data": {
      "text/plain": [
       "1258"
      ]
     },
     "execution_count": 82,
     "metadata": {},
     "output_type": "execute_result"
    }
   ],
   "source": [
    "# set of all ingredients\n",
    "# including repetition\n",
    "French_ingredients = []\n",
    "\n",
    "for i, ingredients in enumerate(df['ingredients_string']):\n",
    "    French_ingredients+=ingredients.lower().split(\" \")\n",
    "    # if i > 3: break\n",
    "    \n",
    "# Unique\n",
    "French_ingredients = list(set(French_ingredients))\n",
    "len(French_ingredients)\n"
   ]
  },
  {
   "cell_type": "code",
   "execution_count": 83,
   "metadata": {},
   "outputs": [
    {
     "data": {
      "text/plain": [
       "702"
      ]
     },
     "execution_count": 83,
     "metadata": {},
     "output_type": "execute_result"
    }
   ],
   "source": [
    "# Code help from https://stackoverflow.com/questions/40167612/\n",
    "# how-to-keep-only-the-noun-words-in-a-wordlist-python-nltk\n",
    "text=' '.join(French_ingredients)\n",
    "tokens = nltk.word_tokenize(text)\n",
    "tags = nltk.pos_tag(tokens)\n",
    "\n",
    "# ingredients should be nouns\n",
    "nouns = [word for word, pos in tags \n",
    "         if (pos == 'NN' \n",
    "             or pos == 'NNP' \n",
    "             or pos == 'NNS' \n",
    "             or pos == 'NNPS')]\n",
    "\n",
    "len(nouns)"
   ]
  },
  {
   "cell_type": "code",
   "execution_count": 84,
   "metadata": {},
   "outputs": [
    {
     "data": {
      "text/plain": [
       "559"
      ]
     },
     "execution_count": 84,
     "metadata": {},
     "output_type": "execute_result"
    }
   ],
   "source": [
    "nouns = list(set(nouns))\n",
    "len(nouns)"
   ]
  },
  {
   "cell_type": "code",
   "execution_count": 85,
   "metadata": {},
   "outputs": [
    {
     "data": {
      "text/plain": [
       "['%',\n",
       " 'allspice',\n",
       " 'almond',\n",
       " 'almonds',\n",
       " 'anchovy',\n",
       " 'anise',\n",
       " 'apple',\n",
       " 'apples',\n",
       " 'apricots',\n",
       " 'armagnac']"
      ]
     },
     "execution_count": 85,
     "metadata": {},
     "output_type": "execute_result"
    }
   ],
   "source": [
    "nouns.sort()\n",
    "nouns[:10]"
   ]
  },
  {
   "cell_type": "code",
   "execution_count": 86,
   "metadata": {},
   "outputs": [],
   "source": [
    "French_ingredients = nouns"
   ]
  },
  {
   "cell_type": "code",
   "execution_count": 87,
   "metadata": {},
   "outputs": [],
   "source": [
    "f = open(\"French_ingredients.txt\", 'w')\n",
    "for item in French_ingredients:\n",
    "    f.write(item + '\\n')\n",
    "    \n",
    "f.close()"
   ]
  },
  {
   "cell_type": "code",
   "execution_count": 88,
   "metadata": {},
   "outputs": [
    {
     "name": "stdout",
     "output_type": "stream",
     "text": [
      "%\n",
      "allspice\n",
      "almond\n"
     ]
    }
   ],
   "source": [
    "f = open(\"French_ingredients.txt\")\n",
    "for i, item in enumerate(f):\n",
    "    print(item.rstrip())\n",
    "    if i > 1: break\n",
    "        \n",
    "f.close()"
   ]
  },
  {
   "cell_type": "code",
   "execution_count": 89,
   "metadata": {},
   "outputs": [],
   "source": [
    "French_ingredients_inspected = []"
   ]
  },
  {
   "cell_type": "code",
   "execution_count": 90,
   "metadata": {},
   "outputs": [],
   "source": [
    "f = open(\"French_ingredients_inspected.txt\")\n",
    "for item in f:\n",
    "    French_ingredients_inspected.append(item.rstrip())\n",
    "    \n",
    "f.close()"
   ]
  },
  {
   "cell_type": "code",
   "execution_count": 91,
   "metadata": {},
   "outputs": [
    {
     "data": {
      "text/plain": [
       "401"
      ]
     },
     "execution_count": 91,
     "metadata": {},
     "output_type": "execute_result"
    }
   ],
   "source": [
    "len(French_ingredients_inspected)"
   ]
  },
  {
   "cell_type": "code",
   "execution_count": 97,
   "metadata": {},
   "outputs": [],
   "source": [
    "replace_dictionary = {\"chai\": \"tea\",\n",
    "                      \"creme\": \"cream\",\n",
    "                      \"filet\": \"fillet\",\n",
    "                      \"filets\": \"fillets\",\n",
    "                     }"
   ]
  },
  {
   "cell_type": "code",
   "execution_count": 98,
   "metadata": {},
   "outputs": [
    {
     "data": {
      "text/plain": [
       "401"
      ]
     },
     "execution_count": 98,
     "metadata": {},
     "output_type": "execute_result"
    }
   ],
   "source": [
    "French_ingredients_inspected = [replace_dictionary.get(item, item) \n",
    "                                for item in French_ingredients_inspected]\n",
    "len(French_ingredients_inspected)"
   ]
  },
  {
   "cell_type": "code",
   "execution_count": 103,
   "metadata": {},
   "outputs": [
    {
     "data": {
      "text/plain": [
       "109"
      ]
     },
     "execution_count": 103,
     "metadata": {},
     "output_type": "execute_result"
    }
   ],
   "source": [
    "ends_with_s = [item for item in French_ingredients_inspected if item.endswith('s')]\n",
    "len(ends_with_s)"
   ]
  },
  {
   "cell_type": "code",
   "execution_count": 105,
   "metadata": {},
   "outputs": [
    {
     "data": {
      "text/plain": [
       "292"
      ]
     },
     "execution_count": 105,
     "metadata": {},
     "output_type": "execute_result"
    }
   ],
   "source": [
    "does_not_end_with_s = [item for item in French_ingredients_inspected \n",
    "                       if not item.endswith('s')]\n",
    "len(does_not_end_with_s)"
   ]
  },
  {
   "cell_type": "code",
   "execution_count": 104,
   "metadata": {},
   "outputs": [],
   "source": [
    "non_plurals = ['bass', 'beaujolais', 'boneless', 'jus', 'watercress']\n",
    "\n",
    "plurals_special = {\"berries\": \"berry\",\n",
    "                   \"blackberries\": \"blackberry\",\n",
    "                   \"blueberries\": \"blueberry\",\n",
    "                   \"calves\": \"calf\",\n",
    "                   \"cherries\": \"cherry\",\n",
    "                   \"cranberries\": \"cranberry\",\n",
    "                   \"leaves\": \"leaf\",\n",
    "                   \"potatoes\": \"potato\",\n",
    "                   \"radishes\": \"radish\",\n",
    "                   \"strawberries\": \"strawberry\",\n",
    "                   \"tomatoes\": \"tomato\"\n",
    "                   }\n",
    "\n",
    "plurals_s = [word for word in ends_with_s if word not in non_plurals]\n",
    "plurals_s = [word for word in plurals_s if word not in plurals_special]\n"
   ]
  },
  {
   "cell_type": "code",
   "execution_count": 129,
   "metadata": {},
   "outputs": [
    {
     "data": {
      "text/plain": [
       "['almonds',\n",
       " 'apples',\n",
       " 'apricots',\n",
       " 'artichokes',\n",
       " 'avocados',\n",
       " 'baguettes',\n",
       " 'bananas',\n",
       " 'beans',\n",
       " 'beets',\n",
       " 'breadcrumbs',\n",
       " 'breasts',\n",
       " 'capers',\n",
       " 'caps',\n",
       " 'carrots',\n",
       " 'cashews',\n",
       " 'chestnuts',\n",
       " 'chickpeas',\n",
       " 'chips',\n",
       " 'chives',\n",
       " 'chops',\n",
       " 'chunks',\n",
       " 'clams',\n",
       " 'cloves',\n",
       " 'confectioners',\n",
       " 'crackers',\n",
       " 'crepes',\n",
       " 'croissants',\n",
       " 'croutons',\n",
       " 'crumbs',\n",
       " 'cucumbers',\n",
       " 'drippings',\n",
       " 'drumsticks',\n",
       " 'eggs',\n",
       " 'fillets',\n",
       " 'fillets',\n",
       " 'flakes',\n",
       " 'florets',\n",
       " 'flowers',\n",
       " 'haricots',\n",
       " 'hazelnuts',\n",
       " 'herbes',\n",
       " 'ladyfingers',\n",
       " 'leeks',\n",
       " 'lemons',\n",
       " 'lentils',\n",
       " 'livers',\n",
       " 'macarons',\n",
       " 'meatballs',\n",
       " 'muffins',\n",
       " 'mushrooms',\n",
       " 'mussels',\n",
       " 'noodles',\n",
       " 'nuts',\n",
       " 'olives',\n",
       " 'omelets',\n",
       " 'onions',\n",
       " 'oranges',\n",
       " 'oysters',\n",
       " 'parsnips',\n",
       " 'peaches',\n",
       " 'peas',\n",
       " 'pecans',\n",
       " 'peppercorns',\n",
       " 'peppers',\n",
       " 'pits',\n",
       " 'plums',\n",
       " 'pluots',\n",
       " 'pods',\n",
       " 'prawns',\n",
       " 'prunes',\n",
       " 'quinces',\n",
       " 'ramekins',\n",
       " 'raspberries',\n",
       " 'sausages',\n",
       " 'scallions',\n",
       " 'scallops',\n",
       " 'seeds',\n",
       " 'shallots',\n",
       " 'shanks',\n",
       " 'snails',\n",
       " 'souffles',\n",
       " 'stalks',\n",
       " 'steaks',\n",
       " 'stems',\n",
       " 'sticks',\n",
       " 'tenderloins',\n",
       " 'tentacles',\n",
       " 'thighs',\n",
       " 'turnips',\n",
       " 'walnuts',\n",
       " 'watkins',\n",
       " 'wings',\n",
       " 'yolks',\n",
       " 'zucchinis']"
      ]
     },
     "execution_count": 129,
     "metadata": {},
     "output_type": "execute_result"
    }
   ],
   "source": [
    "plurals_s"
   ]
  },
  {
   "cell_type": "code",
   "execution_count": 109,
   "metadata": {},
   "outputs": [
    {
     "data": {
      "text/plain": [
       "402"
      ]
     },
     "execution_count": 109,
     "metadata": {},
     "output_type": "execute_result"
    }
   ],
   "source": [
    "French_ingredients_inspected = \\\n",
    "does_not_end_with_s \\\n",
    "+ non_plurals \\\n",
    "+ list(plurals_special.values()) \\\n",
    "+ [word[:-1] for word in plurals_s]\n",
    "\n",
    "len(French_ingredients_inspected)"
   ]
  },
  {
   "cell_type": "code",
   "execution_count": 110,
   "metadata": {},
   "outputs": [
    {
     "data": {
      "text/plain": [
       "364"
      ]
     },
     "execution_count": 110,
     "metadata": {},
     "output_type": "execute_result"
    }
   ],
   "source": [
    "French_ingredients_inspected = list(set(French_ingredients_inspected))\n",
    "len(French_ingredients_inspected)"
   ]
  },
  {
   "cell_type": "code",
   "execution_count": 112,
   "metadata": {},
   "outputs": [
    {
     "data": {
      "text/plain": [
       "364"
      ]
     },
     "execution_count": 112,
     "metadata": {},
     "output_type": "execute_result"
    }
   ],
   "source": [
    "French_ingredients_inspected.sort()\n",
    "len(French_ingredients_inspected)"
   ]
  },
  {
   "cell_type": "code",
   "execution_count": 113,
   "metadata": {},
   "outputs": [],
   "source": [
    "f = open('French_ingredients_final.txt', 'w')\n",
    "for word in French_ingredients_inspected:\n",
    "    f.write(word + '\\n')\n",
    "    \n",
    "f.close()"
   ]
  },
  {
   "cell_type": "code",
   "execution_count": 123,
   "metadata": {},
   "outputs": [
    {
     "data": {
      "text/plain": [
       "364"
      ]
     },
     "execution_count": 123,
     "metadata": {},
     "output_type": "execute_result"
    }
   ],
   "source": [
    "French_ingredients_final = French_ingredients_inspected\n",
    "len(French_ingredients_final)"
   ]
  },
  {
   "cell_type": "code",
   "execution_count": 119,
   "metadata": {},
   "outputs": [
    {
     "data": {
      "text/plain": [
       "20325"
      ]
     },
     "execution_count": 119,
     "metadata": {},
     "output_type": "execute_result"
    }
   ],
   "source": [
    "ingredients = []\n",
    "\n",
    "for i, item in enumerate(df['ingredients_string']):\n",
    "    ingredients+=item.lower().split(\" \")\n",
    "    \n",
    "len(ingredients)"
   ]
  },
  {
   "cell_type": "code",
   "execution_count": 120,
   "metadata": {},
   "outputs": [
    {
     "data": {
      "text/plain": [
       "20325"
      ]
     },
     "execution_count": 120,
     "metadata": {},
     "output_type": "execute_result"
    }
   ],
   "source": [
    "ingredients = [replace_dictionary.get(item, item) for item in ingredients]\n",
    "len(ingredients)"
   ]
  },
  {
   "cell_type": "code",
   "execution_count": 121,
   "metadata": {},
   "outputs": [
    {
     "data": {
      "text/plain": [
       "20325"
      ]
     },
     "execution_count": 121,
     "metadata": {},
     "output_type": "execute_result"
    }
   ],
   "source": [
    "ingredients = [plurals_special.get(item, item) for item in ingredients]\n",
    "len(ingredients)"
   ]
  },
  {
   "cell_type": "code",
   "execution_count": 122,
   "metadata": {},
   "outputs": [
    {
     "data": {
      "text/plain": [
       "20325"
      ]
     },
     "execution_count": 122,
     "metadata": {},
     "output_type": "execute_result"
    }
   ],
   "source": [
    "ingredients = [item[:-1] if item in plurals_s else item\n",
    "               for item in ingredients]\n",
    "len(ingredients)"
   ]
  },
  {
   "cell_type": "code",
   "execution_count": 124,
   "metadata": {},
   "outputs": [
    {
     "data": {
      "text/plain": [
       "4382"
      ]
     },
     "execution_count": 124,
     "metadata": {},
     "output_type": "execute_result"
    }
   ],
   "source": [
    "ingredients = [item for item in ingredients if item in French_ingredients_final]\n",
    "len(ingredients)"
   ]
  },
  {
   "cell_type": "code",
   "execution_count": 125,
   "metadata": {},
   "outputs": [],
   "source": [
    "ingredients_series = pd.Series(ingredients)"
   ]
  },
  {
   "cell_type": "code",
   "execution_count": 126,
   "metadata": {},
   "outputs": [
    {
     "data": {
      "text/plain": [
       "salt      308\n",
       "sugar     207\n",
       "pepper    203\n",
       "egg       194\n",
       "flour     189\n",
       "dtype: int64"
      ]
     },
     "execution_count": 126,
     "metadata": {},
     "output_type": "execute_result"
    }
   ],
   "source": [
    "counts = ingredients_series.value_counts()\n",
    "counts[:5]"
   ]
  },
  {
   "cell_type": "code",
   "execution_count": 128,
   "metadata": {},
   "outputs": [
    {
     "data": {
      "image/png": "[encoded data removed]",
      "text/plain": [
       "<Figure size 1080x360 with 1 Axes>"
      ]
     },
     "metadata": {},
     "output_type": "display_data"
    }
   ],
   "source": [
    "counts[:50].plot(kind='bar', figsize=(15, 5), rot = 90, fontsize=16)\n",
    "\n",
    "plt.xlabel('Ingredients', size=20)\n",
    "plt.ylabel('Frequency', size=20)\n",
    "plt.title('Frequency of ingredients in French recipes', size=20);"
   ]
  }
 ],
 "metadata": {
  "kernelspec": {
   "display_name": "Python [conda env:anaconda3]",
   "language": "python",
   "name": "conda-env-anaconda3-py"
  },
  "language_info": {
   "codemirror_mode": {
    "name": "ipython",
    "version": 3
   },
   "file_extension": ".py",
   "mimetype": "text/x-python",
   "name": "python",
   "nbconvert_exporter": "python",
   "pygments_lexer": "ipython3",
   "version": "3.6.4"
  }
 },
 "nbformat": 4,
 "nbformat_minor": 2
}
