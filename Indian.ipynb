{
 "cells": [
  {
   "cell_type": "markdown",
   "metadata": {},
   "source": [
    "# Libraries"
   ]
  },
  {
   "cell_type": "code",
   "execution_count": 39,
   "metadata": {},
   "outputs": [],
   "source": [
    "import requests\n",
    "import bs4\n",
    "\n",
    "import numpy as np\n",
    "import pandas as pd\n",
    "import matplotlib.pyplot as plt\n",
    "% matplotlib inline\n",
    "import seaborn as sns; sns.set()\n",
    "\n",
    "import nltk\n",
    "from nltk.corpus import wordnet as wn "
   ]
  },
  {
   "cell_type": "code",
   "execution_count": 1,
   "metadata": {},
   "outputs": [],
   "source": [
    "import os"
   ]
  },
  {
   "cell_type": "code",
   "execution_count": 2,
   "metadata": {},
   "outputs": [
    {
     "data": {
      "text/plain": [
       "'/Users/dibyendumandal/Google Drive/DIBYENDU/JOB_DataIncubator/Project_Indian_Middle_eastern_and_French'"
      ]
     },
     "execution_count": 2,
     "metadata": {},
     "output_type": "execute_result"
    }
   ],
   "source": [
    "cwd = os.getcwd()\n",
    "cwd"
   ]
  },
  {
   "cell_type": "code",
   "execution_count": 3,
   "metadata": {
    "collapsed": true
   },
   "outputs": [
    {
     "data": {
      "text/plain": [
       "['.ipynb_checkpoints',\n",
       " 'ME_recipes_details.csv',\n",
       " 'ME_recipes_with_detail.txt',\n",
       " 'middle_eastern_recipes_urls.txt',\n",
       " 'test.db',\n",
       " 'workspace_large.ipynb',\n",
       " 'workspace_small_Indian.ipynb',\n",
       " 'workspace_small_me.ipynb']"
      ]
     },
     "execution_count": 3,
     "metadata": {},
     "output_type": "execute_result"
    }
   ],
   "source": [
    "os.listdir(cwd)"
   ]
  },
  {
   "cell_type": "markdown",
   "metadata": {},
   "source": [
    "# Wrangling"
   ]
  },
  {
   "cell_type": "markdown",
   "metadata": {},
   "source": [
    "## 1. Gather"
   ]
  },
  {
   "cell_type": "markdown",
   "metadata": {},
   "source": [
    "### Strategy \n",
    "\n",
    "I. Get all URLs, store them in a list\n",
    "\n",
    "II. For each URL, get\n",
    "1. name\n",
    "2. ingredients\n",
    "3. URL\n",
    "\n",
    "and then create a dictionary\n",
    "\n",
    "III. Save the dictionaries in a list\n",
    "\n",
    "IV. Convert into a dataframe"
   ]
  },
  {
   "cell_type": "markdown",
   "metadata": {},
   "source": [
    "### I. Get all URLs, store them in a list"
   ]
  },
  {
   "cell_type": "code",
   "execution_count": 4,
   "metadata": {},
   "outputs": [],
   "source": [
    "NUM_PAGES_INDIA = 39\n",
    "base_url_India = \"https://www.allrecipes.com/recipes/233/\" + \\\n",
    "                 \"world-cuisine/asian/indian/?page=\""
   ]
  },
  {
   "cell_type": "code",
   "execution_count": 6,
   "metadata": {},
   "outputs": [],
   "source": [
    "def recipe_urls_in_a_page(url):\n",
    "    \"\"\"Given an webpage url returns a list of \n",
    "    recipe urls in the webpage\n",
    "    (CAUTION: Applies to allrecipes.com only)\"\"\"\n",
    "    \n",
    "    res = requests.get(url)\n",
    "    res.raise_for_status()\n",
    "    soup = bs4.BeautifulSoup(res.text, \"lxml\")\n",
    "    elems = soup.find_all('article', class_ = \"fixed-recipe-card\")\n",
    "    recipe_urls = [elem.find_all('a')[0].get('href') for elem in elems]\n",
    "    return recipe_urls"
   ]
  },
  {
   "cell_type": "code",
   "execution_count": 9,
   "metadata": {},
   "outputs": [],
   "source": [
    "import requests\n",
    "import bs4"
   ]
  },
  {
   "cell_type": "code",
   "execution_count": 10,
   "metadata": {
    "collapsed": true
   },
   "outputs": [
    {
     "data": {
      "text/plain": [
       "['https://www.allrecipes.com/recipe/85469/indian-chapati-bread/',\n",
       " 'https://www.allrecipes.com/recipe/231026/keema-aloo-ground-beef-and-potatoes/',\n",
       " 'https://www.allrecipes.com/recipe/247233/roti-canaiparatha-indian-pancake/',\n",
       " 'https://www.allrecipes.com/recipe/246179/black-chana-with-potato/',\n",
       " 'https://www.allrecipes.com/recipe/256599/tomato-cucumber-kachumbar/',\n",
       " 'https://www.allrecipes.com/recipe/247204/red-split-lentils-masoor-dal/',\n",
       " 'https://www.allrecipes.com/recipe/34591/coconut-chutney/',\n",
       " 'https://www.allrecipes.com/recipe/245131/tamarind-sauce-fish-curry/',\n",
       " 'https://www.allrecipes.com/recipe/220560/kashmiri-lamb/',\n",
       " 'https://www.allrecipes.com/recipe/45736/chicken-tikka-masala/',\n",
       " 'https://www.allrecipes.com/recipe/14565/naan/',\n",
       " 'https://www.allrecipes.com/recipe/13087/mulligatawny-soup-i/',\n",
       " 'https://www.allrecipes.com/recipe/228293/curry-stand-chicken-tikka-masala-sauce/',\n",
       " 'https://www.allrecipes.com/recipe/60598/vegetarian-korma/',\n",
       " 'https://www.allrecipes.com/recipe/46822/indian-chicken-curry-ii/',\n",
       " 'https://www.allrecipes.com/recipe/16641/red-lentil-curry/',\n",
       " 'https://www.allrecipes.com/recipe/45957/chicken-makhani-indian-butter-chicken/',\n",
       " 'https://www.allrecipes.com/recipe/141169/easy-indian-butter-chicken/',\n",
       " 'https://www.allrecipes.com/recipe/165190/spicy-vegan-potato-curry/',\n",
       " 'https://www.allrecipes.com/recipe/212721/indian-chicken-curry-murgh-kari/',\n",
       " 'https://www.allrecipes.com/recipe/17971/carrot-rice/',\n",
       " 'https://www.allrecipes.com/recipe/34689/chickpea-curry/',\n",
       " 'https://www.allrecipes.com/recipe/174543/slow-cooker-butter-chicken/',\n",
       " 'https://www.allrecipes.com/recipe/47564/baingan-bharta-eggplant-curry/',\n",
       " 'https://www.allrecipes.com/recipe/14035/aloo-phujia/',\n",
       " 'https://www.allrecipes.com/recipe/86828/grilled-chicken-thighs-tandoori/',\n",
       " 'https://www.allrecipes.com/recipe/50347/indian-tandoori-chicken/',\n",
       " 'https://www.allrecipes.com/recipe/72349/indian-style-basmati-rice/',\n",
       " 'https://www.allrecipes.com/recipe/239867/chef-johns-chicken-tikka-masala/']"
      ]
     },
     "execution_count": 10,
     "metadata": {},
     "output_type": "execute_result"
    }
   ],
   "source": [
    "recipe_urls_in_a_page(base_url_India+\"1\")"
   ]
  },
  {
   "cell_type": "code",
   "execution_count": 12,
   "metadata": {},
   "outputs": [],
   "source": [
    "from time import sleep"
   ]
  },
  {
   "cell_type": "code",
   "execution_count": 13,
   "metadata": {
    "collapsed": true
   },
   "outputs": [
    {
     "name": "stdout",
     "output_type": "stream",
     "text": [
      "Souping page number 1 ,  0  found so far\n",
      "Souping page number 2 ,  29  found so far\n",
      "Souping page number 3 ,  49  found so far\n",
      "Souping page number 4 ,  69  found so far\n",
      "Souping page number 5 ,  89  found so far\n",
      "Souping page number 6 ,  109  found so far\n",
      "Souping page number 7 ,  129  found so far\n",
      "Souping page number 8 ,  149  found so far\n",
      "Souping page number 9 ,  169  found so far\n",
      "Souping page number 10 ,  189  found so far\n",
      "Souping page number 11 ,  209  found so far\n",
      "Souping page number 12 ,  229  found so far\n",
      "Souping page number 13 ,  249  found so far\n",
      "Souping page number 14 ,  269  found so far\n",
      "Souping page number 15 ,  289  found so far\n",
      "Souping page number 16 ,  309  found so far\n",
      "Souping page number 17 ,  329  found so far\n",
      "Souping page number 18 ,  349  found so far\n",
      "Souping page number 19 ,  369  found so far\n",
      "Souping page number 20 ,  389  found so far\n",
      "Souping page number 21 ,  409  found so far\n",
      "Souping page number 22 ,  429  found so far\n",
      "Souping page number 23 ,  449  found so far\n",
      "Souping page number 24 ,  469  found so far\n",
      "Souping page number 25 ,  489  found so far\n",
      "Souping page number 26 ,  509  found so far\n",
      "Souping page number 27 ,  529  found so far\n",
      "Souping page number 28 ,  549  found so far\n",
      "Souping page number 29 ,  569  found so far\n",
      "Souping page number 30 ,  589  found so far\n",
      "Souping page number 31 ,  609  found so far\n",
      "Souping page number 32 ,  629  found so far\n",
      "Souping page number 33 ,  649  found so far\n",
      "Souping page number 34 ,  669  found so far\n",
      "Souping page number 35 ,  689  found so far\n",
      "Souping page number 36 ,  709  found so far\n",
      "Souping page number 37 ,  729  found so far\n",
      "Souping page number 38 ,  749  found so far\n",
      "Souping page number 39 ,  769  found so far\n"
     ]
    }
   ],
   "source": [
    "recipe_urls_India = []\n",
    "for page_num in range(1, NUM_PAGES_INDIA + 1):\n",
    "    print('Souping page number', page_num, ', ', \n",
    "          len(recipe_urls_India), ' found so far')\n",
    "    url = base_url_India + str(page_num)\n",
    "    recipe_urls_India.extend(recipe_urls_in_a_page(url))\n",
    "    sleep(15)"
   ]
  },
  {
   "cell_type": "code",
   "execution_count": 40,
   "metadata": {},
   "outputs": [
    {
     "data": {
      "text/plain": [
       "['https://www.allrecipes.com/recipe/85469/indian-chapati-bread/',\n",
       " 'https://www.allrecipes.com/recipe/231026/keema-aloo-ground-beef-and-potatoes/',\n",
       " 'https://www.allrecipes.com/recipe/247233/roti-canaiparatha-indian-pancake/',\n",
       " 'https://www.allrecipes.com/recipe/246179/black-chana-with-potato/',\n",
       " 'https://www.allrecipes.com/recipe/256599/tomato-cucumber-kachumbar/',\n",
       " 'https://www.allrecipes.com/recipe/247204/red-split-lentils-masoor-dal/',\n",
       " 'https://www.allrecipes.com/recipe/34591/coconut-chutney/',\n",
       " 'https://www.allrecipes.com/recipe/245131/tamarind-sauce-fish-curry/',\n",
       " 'https://www.allrecipes.com/recipe/220560/kashmiri-lamb/',\n",
       " 'https://www.allrecipes.com/recipe/45736/chicken-tikka-masala/']"
      ]
     },
     "execution_count": 40,
     "metadata": {},
     "output_type": "execute_result"
    }
   ],
   "source": [
    "recipe_urls_India[:10]"
   ]
  },
  {
   "cell_type": "markdown",
   "metadata": {},
   "source": [
    "#### Write URLs"
   ]
  },
  {
   "cell_type": "code",
   "execution_count": 15,
   "metadata": {},
   "outputs": [],
   "source": [
    "f = open('Indian_recipes_urls.txt', 'w')\n",
    "for url in recipe_urls_India:\n",
    "    f.write(url+'\\n')\n",
    "f.close()"
   ]
  },
  {
   "cell_type": "markdown",
   "metadata": {},
   "source": [
    "#### Read URLs"
   ]
  },
  {
   "cell_type": "code",
   "execution_count": 17,
   "metadata": {
    "collapsed": true
   },
   "outputs": [
    {
     "name": "stdout",
     "output_type": "stream",
     "text": [
      "https://www.allrecipes.com/recipe/85469/indian-chapati-bread/\n",
      "https://www.allrecipes.com/recipe/231026/keema-aloo-ground-beef-and-potatoes/\n",
      "https://www.allrecipes.com/recipe/247233/roti-canaiparatha-indian-pancake/\n",
      "https://www.allrecipes.com/recipe/246179/black-chana-with-potato/\n",
      "https://www.allrecipes.com/recipe/256599/tomato-cucumber-kachumbar/\n",
      "https://www.allrecipes.com/recipe/247204/red-split-lentils-masoor-dal/\n",
      "https://www.allrecipes.com/recipe/34591/coconut-chutney/\n",
      "https://www.allrecipes.com/recipe/245131/tamarind-sauce-fish-curry/\n",
      "https://www.allrecipes.com/recipe/220560/kashmiri-lamb/\n",
      "https://www.allrecipes.com/recipe/45736/chicken-tikka-masala/\n",
      "https://www.allrecipes.com/recipe/14565/naan/\n"
     ]
    }
   ],
   "source": [
    "f = open('Indian_recipes_urls.txt')\n",
    "for i, line in enumerate(f):\n",
    "    print(line.rstrip())\n",
    "    if i>9: break\n",
    "f.close()"
   ]
  },
  {
   "cell_type": "markdown",
   "metadata": {},
   "source": [
    "### II. For each URL, get\n",
    "1. name\n",
    "2. ingredients\n",
    "3. url\n",
    "\n",
    "Create a dictionary\n",
    "\n",
    "III. Save the dictionaries in a list ###"
   ]
  },
  {
   "cell_type": "markdown",
   "metadata": {},
   "source": [
    "#### Details from a given URL"
   ]
  },
  {
   "cell_type": "code",
   "execution_count": 30,
   "metadata": {},
   "outputs": [],
   "source": [
    "def recipe_details(url):\n",
    "    \"\"\"Given a url of a recipe returns a list of ingredients\n",
    "    (CAUTION: Applies to allrecipes.com only)\"\"\"    \n",
    "    \n",
    "    recipe = {}\n",
    "    name = ' '.join(url.split('/')[-2].split('-')).title()\n",
    "    ingredients = []\n",
    "    res = requests.get(url)\n",
    "    res.raise_for_status()\n",
    "    soup = bs4.BeautifulSoup(res.text, \"lxml\")\n",
    "    lines = soup.find_all('li', class_= \"checkList__line\")[:-4]\n",
    "    for line in lines:\n",
    "        item = line.find('label').get('title').split(\" \")\n",
    "        ingredients.extend(item)\n",
    "        \n",
    "    ingredients_string = \" \".join(ingredients)\n",
    "                          \n",
    "    return {\n",
    "        \"name\": name,\n",
    "        \"ingredients_string\": ingredients_string,\n",
    "        \"url\": url}"
   ]
  },
  {
   "cell_type": "markdown",
   "metadata": {},
   "source": [
    "#### Load the list of URLs"
   ]
  },
  {
   "cell_type": "code",
   "execution_count": 31,
   "metadata": {
    "scrolled": true
   },
   "outputs": [
    {
     "data": {
      "text/plain": [
       "['https://www.allrecipes.com/recipe/85469/indian-chapati-bread/',\n",
       " 'https://www.allrecipes.com/recipe/231026/keema-aloo-ground-beef-and-potatoes/',\n",
       " 'https://www.allrecipes.com/recipe/247233/roti-canaiparatha-indian-pancake/',\n",
       " 'https://www.allrecipes.com/recipe/246179/black-chana-with-potato/',\n",
       " 'https://www.allrecipes.com/recipe/256599/tomato-cucumber-kachumbar/',\n",
       " 'https://www.allrecipes.com/recipe/247204/red-split-lentils-masoor-dal/',\n",
       " 'https://www.allrecipes.com/recipe/34591/coconut-chutney/',\n",
       " 'https://www.allrecipes.com/recipe/245131/tamarind-sauce-fish-curry/',\n",
       " 'https://www.allrecipes.com/recipe/220560/kashmiri-lamb/',\n",
       " 'https://www.allrecipes.com/recipe/45736/chicken-tikka-masala/']"
      ]
     },
     "execution_count": 31,
     "metadata": {},
     "output_type": "execute_result"
    }
   ],
   "source": [
    "recipes = []\n",
    "f = open('Indian_recipes_urls.txt')\n",
    "for line in f:\n",
    "    recipes+= [line.rstrip()]\n",
    "    \n",
    "recipes[:10]"
   ]
  },
  {
   "cell_type": "code",
   "execution_count": 41,
   "metadata": {},
   "outputs": [
    {
     "data": {
      "text/plain": [
       "['https://www.allrecipes.com/recipe/85469/indian-chapati-bread/',\n",
       " 'https://www.allrecipes.com/recipe/231026/keema-aloo-ground-beef-and-potatoes/',\n",
       " 'https://www.allrecipes.com/recipe/247233/roti-canaiparatha-indian-pancake/',\n",
       " 'https://www.allrecipes.com/recipe/246179/black-chana-with-potato/',\n",
       " 'https://www.allrecipes.com/recipe/256599/tomato-cucumber-kachumbar/',\n",
       " 'https://www.allrecipes.com/recipe/247204/red-split-lentils-masoor-dal/',\n",
       " 'https://www.allrecipes.com/recipe/34591/coconut-chutney/',\n",
       " 'https://www.allrecipes.com/recipe/245131/tamarind-sauce-fish-curry/',\n",
       " 'https://www.allrecipes.com/recipe/220560/kashmiri-lamb/',\n",
       " 'https://www.allrecipes.com/recipe/45736/chicken-tikka-masala/']"
      ]
     },
     "execution_count": 41,
     "metadata": {},
     "output_type": "execute_result"
    }
   ],
   "source": [
    "recipes[:10]"
   ]
  },
  {
   "cell_type": "code",
   "execution_count": 32,
   "metadata": {},
   "outputs": [],
   "source": [
    "import timeit"
   ]
  },
  {
   "cell_type": "code",
   "execution_count": 33,
   "metadata": {},
   "outputs": [],
   "source": [
    "import datetime"
   ]
  },
  {
   "cell_type": "code",
   "execution_count": 34,
   "metadata": {},
   "outputs": [
    {
     "name": "stdout",
     "output_type": "stream",
     "text": [
      "Time: 2018-08-06 01:46:17.894213\n"
     ]
    }
   ],
   "source": [
    "print(\"Time: {}\".format(datetime.datetime.now()))"
   ]
  },
  {
   "cell_type": "markdown",
   "metadata": {},
   "source": [
    "#### Downloads deatils from all the urls"
   ]
  },
  {
   "cell_type": "code",
   "execution_count": 36,
   "metadata": {
    "scrolled": true
   },
   "outputs": [
    {
     "name": "stdout",
     "output_type": "stream",
     "text": [
      "Time = 2018-08-06 01:50:42.392225, souping page 0\n",
      "Time = 2018-08-06 01:52:25.163461, souping page 10\n",
      "Time = 2018-08-06 01:54:08.194252, souping page 20\n",
      "Time = 2018-08-06 01:55:51.859880, souping page 30\n",
      "Time = 2018-08-06 01:57:35.089056, souping page 40\n",
      "Time = 2018-08-06 01:59:18.386561, souping page 50\n",
      "Time = 2018-08-06 02:01:01.464647, souping page 60\n",
      "Time = 2018-08-06 02:02:44.645787, souping page 70\n",
      "Time = 2018-08-06 02:04:27.742700, souping page 80\n",
      "Time = 2018-08-06 02:06:11.420959, souping page 90\n",
      "Time = 2018-08-06 02:07:54.927314, souping page 100\n",
      "Time = 2018-08-06 02:09:37.922758, souping page 110\n",
      "Time = 2018-08-06 02:11:20.944784, souping page 120\n",
      "Time = 2018-08-06 02:13:04.040173, souping page 130\n",
      "Time = 2018-08-06 02:14:47.134551, souping page 140\n",
      "Time = 2018-08-06 02:16:30.123120, souping page 150\n",
      "Time = 2018-08-06 02:18:13.174539, souping page 160\n",
      "Time = 2018-08-06 02:19:56.232189, souping page 170\n",
      "Time = 2018-08-06 02:21:39.437840, souping page 180\n",
      "Time = 2018-08-06 02:23:22.759106, souping page 190\n",
      "Time = 2018-08-06 02:25:06.183735, souping page 200\n",
      "Time = 2018-08-06 02:26:49.417867, souping page 210\n",
      "Time = 2018-08-06 02:28:32.423789, souping page 220\n",
      "Time = 2018-08-06 02:30:15.646303, souping page 230\n",
      "Time = 2018-08-06 02:31:58.965303, souping page 240\n",
      "Time = 2018-08-06 02:33:42.025744, souping page 250\n",
      "Time = 2018-08-06 02:35:25.476619, souping page 260\n",
      "Time = 2018-08-06 02:37:08.874243, souping page 270\n",
      "Time = 2018-08-06 02:38:52.359042, souping page 280\n",
      "Time = 2018-08-06 02:40:36.139642, souping page 290\n",
      "Time = 2018-08-06 02:42:19.689898, souping page 300\n",
      "Time = 2018-08-06 02:44:02.775075, souping page 310\n",
      "Time = 2018-08-06 02:45:46.353560, souping page 320\n",
      "Time = 2018-08-06 02:47:29.418355, souping page 330\n",
      "Time = 2018-08-06 02:49:12.921855, souping page 340\n",
      "Time = 2018-08-06 02:50:56.433393, souping page 350\n",
      "Time = 2018-08-06 02:52:39.595714, souping page 360\n",
      "Time = 2018-08-06 02:54:22.480524, souping page 370\n",
      "Time = 2018-08-06 02:56:05.578949, souping page 380\n",
      "Time = 2018-08-06 02:57:48.695013, souping page 390\n",
      "Time = 2018-08-06 02:59:31.691290, souping page 400\n",
      "Time = 2018-08-06 03:01:16.864786, souping page 410\n",
      "Time = 2018-08-06 03:02:59.691476, souping page 420\n",
      "Time = 2018-08-06 03:04:42.905241, souping page 430\n",
      "Time = 2018-08-06 03:06:26.002335, souping page 440\n",
      "Time = 2018-08-06 03:08:09.048195, souping page 450\n",
      "Time = 2018-08-06 03:09:52.022710, souping page 460\n",
      "Time = 2018-08-06 03:11:35.178667, souping page 470\n",
      "Time = 2018-08-06 03:13:18.187466, souping page 480\n",
      "Time = 2018-08-06 03:15:01.633396, souping page 490\n",
      "Time = 2018-08-06 03:16:44.579246, souping page 500\n",
      "Time = 2018-08-06 03:18:27.622571, souping page 510\n",
      "Time = 2018-08-06 03:20:10.630992, souping page 520\n",
      "Time = 2018-08-06 03:21:53.771662, souping page 530\n",
      "Time = 2018-08-06 03:23:36.783312, souping page 540\n",
      "Time = 2018-08-06 03:25:20.847423, souping page 550\n",
      "Time = 2018-08-06 03:27:04.041666, souping page 560\n",
      "Time = 2018-08-06 03:28:47.500293, souping page 570\n",
      "Time = 2018-08-06 03:30:30.327173, souping page 580\n",
      "Time = 2018-08-06 03:32:13.527476, souping page 590\n",
      "Time = 2018-08-06 03:33:56.977653, souping page 600\n",
      "Time = 2018-08-06 03:35:41.233048, souping page 610\n",
      "Time = 2018-08-06 03:37:24.528168, souping page 620\n",
      "Time = 2018-08-06 03:39:08.158194, souping page 630\n",
      "Time = 2018-08-06 03:40:51.579029, souping page 640\n",
      "Time = 2018-08-06 03:42:34.699170, souping page 650\n",
      "Time = 2018-08-06 03:44:17.468202, souping page 660\n",
      "Time = 2018-08-06 03:46:00.760027, souping page 670\n",
      "Time = 2018-08-06 03:47:44.145542, souping page 680\n",
      "Time = 2018-08-06 03:49:27.494768, souping page 690\n",
      "Time = 2018-08-06 03:51:10.744827, souping page 700\n",
      "Time = 2018-08-06 03:52:54.384543, souping page 710\n",
      "Time = 2018-08-06 03:54:37.964223, souping page 720\n",
      "Time = 2018-08-06 03:56:21.378033, souping page 730\n",
      "Time = 2018-08-06 03:58:04.465145, souping page 740\n",
      "Time = 2018-08-06 03:59:47.900064, souping page 750\n",
      "Time = 2018-08-06 04:01:31.103955, souping page 760\n",
      "Time = 2018-08-06 04:03:14.892750, souping page 770\n"
     ]
    }
   ],
   "source": [
    "recipes_in_detail = []\n",
    "for i, url in enumerate(recipes):\n",
    "    if i%10 == 0:\n",
    "        print('Time = {}, souping page {}'\n",
    "              .format(datetime.datetime.now(), i))\n",
    "    recipes_in_detail += [recipe_details(url)]\n",
    "    sleep(10)\n",
    "    # if i > 10: break\n",
    "    \n",
    "#recipes_in_detail"
   ]
  },
  {
   "cell_type": "code",
   "execution_count": 111,
   "metadata": {},
   "outputs": [
    {
     "data": {
      "text/plain": [
       "{'name': 'Mummys Ginger Soup',\n",
       " 'ingredients_string': '3 tablespoons butter 2 tablespoons vegetable oil 2 tablespoons minced fresh ginger root 1 tablespoon all-purpose flour 1/2 teaspoon ground turmeric black pepper to taste 2 cups water 2 cups whole milk',\n",
       " 'url': 'https://www.allrecipes.com/recipe/158948/mummys-ginger-soup/'}"
      ]
     },
     "execution_count": 111,
     "metadata": {},
     "output_type": "execute_result"
    }
   ],
   "source": [
    "recipes_in_detail[np.random.randint(low=0, high=len(recipes_in_detail)+1)]"
   ]
  },
  {
   "cell_type": "code",
   "execution_count": 110,
   "metadata": {},
   "outputs": [
    {
     "data": {
      "text/plain": [
       "{'name': 'Easy Curried Cauliflower',\n",
       " 'ingredients_string': '3 cups grated cauliflower 3 tablespoons vegetable oil 1/2 large onion, diced 2 cloves garlic 1 teaspoon cumin seeds 1 tomato, diced 1/2 teaspoon cayenne pepper 1 teaspoon salt, or to taste 1 teaspoon ground dried turmeric 2 teaspoons ground coriander seed 1 (12 ounce) can kidney beans, drained and rinsed',\n",
       " 'url': 'https://www.allrecipes.com/recipe/160185/easy-curried-cauliflower/'}"
      ]
     },
     "execution_count": 110,
     "metadata": {},
     "output_type": "execute_result"
    }
   ],
   "source": [
    "recipes_in_detail[np.random.randint(low=0, high=len(recipes_in_detail)+1)]"
   ]
  },
  {
   "cell_type": "code",
   "execution_count": 43,
   "metadata": {},
   "outputs": [],
   "source": [
    "df_recipes_in_detail = pd.DataFrame(recipes_in_detail)\n",
    "df_recipes_in_detail.to_csv('Indian_recipes_details.csv', index=False)"
   ]
  },
  {
   "cell_type": "code",
   "execution_count": 44,
   "metadata": {},
   "outputs": [],
   "source": [
    "df = pd.read_csv('Indian_recipes_details.csv')"
   ]
  },
  {
   "cell_type": "code",
   "execution_count": 45,
   "metadata": {
    "scrolled": true
   },
   "outputs": [
    {
     "data": {
      "text/html": [
       "<div>\n",
       "<style scoped>\n",
       "    .dataframe tbody tr th:only-of-type {\n",
       "        vertical-align: middle;\n",
       "    }\n",
       "\n",
       "    .dataframe tbody tr th {\n",
       "        vertical-align: top;\n",
       "    }\n",
       "\n",
       "    .dataframe thead th {\n",
       "        text-align: right;\n",
       "    }\n",
       "</style>\n",
       "<table border=\"1\" class=\"dataframe\">\n",
       "  <thead>\n",
       "    <tr style=\"text-align: right;\">\n",
       "      <th></th>\n",
       "      <th>ingredients_string</th>\n",
       "      <th>name</th>\n",
       "      <th>url</th>\n",
       "    </tr>\n",
       "  </thead>\n",
       "  <tbody>\n",
       "    <tr>\n",
       "      <th>738</th>\n",
       "      <td>2 cups water 1 cup thick buttermilk 1 cup chic...</td>\n",
       "      <td>Microwave Khandvi</td>\n",
       "      <td>https://www.allrecipes.com/recipe/256596/micro...</td>\n",
       "    </tr>\n",
       "  </tbody>\n",
       "</table>\n",
       "</div>"
      ],
      "text/plain": [
       "                                    ingredients_string               name  \\\n",
       "738  2 cups water 1 cup thick buttermilk 1 cup chic...  Microwave Khandvi   \n",
       "\n",
       "                                                   url  \n",
       "738  https://www.allrecipes.com/recipe/256596/micro...  "
      ]
     },
     "execution_count": 45,
     "metadata": {},
     "output_type": "execute_result"
    }
   ],
   "source": [
    "df.sample()"
   ]
  },
  {
   "cell_type": "markdown",
   "metadata": {},
   "source": [
    "### Assess"
   ]
  },
  {
   "cell_type": "code",
   "execution_count": 51,
   "metadata": {},
   "outputs": [],
   "source": [
    "def string_to_list_lowercase(string):\n",
    "    return string.lower().split(\" \")"
   ]
  },
  {
   "cell_type": "code",
   "execution_count": 68,
   "metadata": {},
   "outputs": [
    {
     "data": {
      "text/plain": [
       "['(spectrum(r)']"
      ]
     },
     "execution_count": 68,
     "metadata": {},
     "output_type": "execute_result"
    }
   ],
   "source": [
    "string_to_list_lowercase(\"(Spectrum(R)\")"
   ]
  },
  {
   "cell_type": "code",
   "execution_count": 69,
   "metadata": {},
   "outputs": [
    {
     "data": {
      "text/html": [
       "<div>\n",
       "<style scoped>\n",
       "    .dataframe tbody tr th:only-of-type {\n",
       "        vertical-align: middle;\n",
       "    }\n",
       "\n",
       "    .dataframe tbody tr th {\n",
       "        vertical-align: top;\n",
       "    }\n",
       "\n",
       "    .dataframe thead th {\n",
       "        text-align: right;\n",
       "    }\n",
       "</style>\n",
       "<table border=\"1\" class=\"dataframe\">\n",
       "  <thead>\n",
       "    <tr style=\"text-align: right;\">\n",
       "      <th></th>\n",
       "      <th>ingredients_string</th>\n",
       "      <th>name</th>\n",
       "      <th>url</th>\n",
       "      <th>ingredients_list</th>\n",
       "    </tr>\n",
       "  </thead>\n",
       "  <tbody>\n",
       "    <tr>\n",
       "      <th>101</th>\n",
       "      <td>2 cups water 1 tea bag 1 bay leaf 2 (15.5 ounc...</td>\n",
       "      <td>Cholay Curried Chickpeas</td>\n",
       "      <td>https://www.allrecipes.com/recipe/67767/cholay...</td>\n",
       "      <td>[2, cups, water, 1, tea, bag, 1, bay, leaf, 2,...</td>\n",
       "    </tr>\n",
       "  </tbody>\n",
       "</table>\n",
       "</div>"
      ],
      "text/plain": [
       "                                    ingredients_string  \\\n",
       "101  2 cups water 1 tea bag 1 bay leaf 2 (15.5 ounc...   \n",
       "\n",
       "                         name  \\\n",
       "101  Cholay Curried Chickpeas   \n",
       "\n",
       "                                                   url  \\\n",
       "101  https://www.allrecipes.com/recipe/67767/cholay...   \n",
       "\n",
       "                                      ingredients_list  \n",
       "101  [2, cups, water, 1, tea, bag, 1, bay, leaf, 2,...  "
      ]
     },
     "execution_count": 69,
     "metadata": {},
     "output_type": "execute_result"
    }
   ],
   "source": [
    "df['ingredients_list'] = df['ingredients_string'].apply(string_to_list_lowercase)\n",
    "df.sample()"
   ]
  },
  {
   "cell_type": "markdown",
   "metadata": {},
   "source": [
    "#### Unique ingredients"
   ]
  },
  {
   "cell_type": "code",
   "execution_count": 112,
   "metadata": {},
   "outputs": [
    {
     "data": {
      "text/plain": [
       "1294"
      ]
     },
     "execution_count": 112,
     "metadata": {},
     "output_type": "execute_result"
    }
   ],
   "source": [
    "Indian_ingredients = set()\n",
    "for i, ingredients in enumerate(df['ingredients_list']):\n",
    "    Indian_ingredients = Indian_ingredients | set(ingredients)\n",
    "    # if i > 3: break\n",
    "    \n",
    "len(Indian_ingredients)"
   ]
  },
  {
   "cell_type": "code",
   "execution_count": 116,
   "metadata": {},
   "outputs": [
    {
     "data": {
      "text/plain": [
       "734"
      ]
     },
     "execution_count": 116,
     "metadata": {},
     "output_type": "execute_result"
    }
   ],
   "source": [
    "# Code help from https://stackoverflow.com/questions/40167612/\n",
    "# how-to-keep-only-the-noun-words-in-a-wordlist-python-nltk\n",
    "text=' '.join(Indian_ingredients)\n",
    "tokens = nltk.word_tokenize(text)\n",
    "tags = nltk.pos_tag(tokens)\n",
    "\n",
    "# ingredients should be nouns\n",
    "Indian_ingredients = [word for word, pos in tags \n",
    "                      if (pos == 'NN' \n",
    "                      or pos == 'NNP' \n",
    "                      or pos == 'NNS' \n",
    "                      or pos == 'NNPS')]\n",
    "\n",
    "len(Indian_ingredients)"
   ]
  },
  {
   "cell_type": "code",
   "execution_count": 117,
   "metadata": {},
   "outputs": [
    {
     "data": {
      "text/plain": [
       "548"
      ]
     },
     "execution_count": 117,
     "metadata": {},
     "output_type": "execute_result"
    }
   ],
   "source": [
    "Indian_ingredients = list(set(Indian_ingredients))\n",
    "len(Indian_ingredients)"
   ]
  },
  {
   "cell_type": "code",
   "execution_count": 118,
   "metadata": {},
   "outputs": [
    {
     "data": {
      "text/plain": [
       "['%',\n",
       " '-inch',\n",
       " 'ajwain',\n",
       " 'allspice',\n",
       " 'almond',\n",
       " 'almonds',\n",
       " 'amchoor',\n",
       " 'amchur',\n",
       " 'amount',\n",
       " 'anapakaya']"
      ]
     },
     "execution_count": 118,
     "metadata": {},
     "output_type": "execute_result"
    }
   ],
   "source": [
    "Indian_ingredients.sort()\n",
    "Indian_ingredients[:10]"
   ]
  },
  {
   "cell_type": "code",
   "execution_count": 119,
   "metadata": {
    "scrolled": true
   },
   "outputs": [],
   "source": [
    "f = open(\"Indian_ingredients.txt\", 'w')\n",
    "for item in Indian_ingredients:\n",
    "    f.write(item + '\\n')\n",
    "    \n",
    "f.close()"
   ]
  },
  {
   "cell_type": "code",
   "execution_count": 120,
   "metadata": {},
   "outputs": [
    {
     "name": "stdout",
     "output_type": "stream",
     "text": [
      "%\n",
      "-inch\n",
      "ajwain\n"
     ]
    }
   ],
   "source": [
    "f = open(\"Indian_ingredients.txt\")\n",
    "for i, item in enumerate(f):\n",
    "    print(item.rstrip())\n",
    "    if i > 1: break\n",
    "        \n",
    "f.close()"
   ]
  },
  {
   "cell_type": "code",
   "execution_count": 121,
   "metadata": {},
   "outputs": [],
   "source": [
    "Indian_ingredients_inspected = []"
   ]
  },
  {
   "cell_type": "code",
   "execution_count": 123,
   "metadata": {},
   "outputs": [],
   "source": [
    "f = open(\"Indian_ingredients.txt\")\n",
    "for item in f:\n",
    "    Indian_ingredients_inspected.append(item.rstrip())\n",
    "    "
   ]
  },
  {
   "cell_type": "code",
   "execution_count": 124,
   "metadata": {},
   "outputs": [],
   "source": [
    "f.close()"
   ]
  },
  {
   "cell_type": "code",
   "execution_count": 126,
   "metadata": {
    "scrolled": true
   },
   "outputs": [
    {
     "data": {
      "text/plain": [
       "263"
      ]
     },
     "execution_count": 126,
     "metadata": {},
     "output_type": "execute_result"
    }
   ],
   "source": [
    "len(Indian_ingredients_inspected)"
   ]
  },
  {
   "cell_type": "code",
   "execution_count": 129,
   "metadata": {},
   "outputs": [],
   "source": [
    "plurals_s = ['almonds', 'apples', 'apricots', 'bananas', 'beans','beets', \n",
    "             'breads', 'capers', 'carrots', 'cashews','chickpeas', 'chiles', \n",
    "             'chilis', 'chives', 'cloves', 'cucumbers', 'currants', 'eggplants', \n",
    "             'eggs', 'giblets', 'gourds', 'grapes', 'husks', 'herbs', 'kiwis', 'lemons',\n",
    "             'limes', 'lentils', 'mangoes','mushrooms', 'noodles', 'nuts', 'olives', 'onions', \n",
    "             'oranges', 'parsnips', 'peaches', 'peanuts', 'pears', 'peppercorns','peppers', 'pistachios', \n",
    "             'raisins', 'ribs', 'scallions', 'scallops', 'shallots', 'sprigs', 'sprouts', 'totillas',\n",
    "             'turnips', 'walnuts', 'yams', 'yolks', 'zucchinis']\n",
    "\n",
    "plurals_es = ['potatoes', 'radishes', 'tomatoes']\n",
    "\n",
    "replace_dictionary = {\"amchoor\": \"amchur\",\n",
    "                      \"berries\": \"berry\",\n",
    "                      \"channa\": \"chana\",\n",
    "                      \"cherries\": \"cherry\",\n",
    "                      \"chile\": \"chili\",\n",
    "                      \"cranberries\": \"cranberry\",\n",
    "                      \"daal\": \"lentil\",\n",
    "                      \"dal\": \"lentil\",\n",
    "                      \"dhania\": \"coriander\",\n",
    "                      \"drumsticks\": \"chicken\",\n",
    "                      \"elaichi\": \"cardamom\",\n",
    "                      \"hen\": \"chicken\",\n",
    "                      \"jeera\": \"cumin\",\n",
    "                      \"lavang\": \"clove\",\n",
    "                      \"maida\": \"flour\",\n",
    "                      \"mangos\": \"mango\",\n",
    "                      \"masoor\": \"lentil\",\n",
    "                      \"matar\": \"pea\",\n",
    "                      \"methi\": \"fenugreek\",\n",
    "                      \"moong\": \"lentil\",\n",
    "                      \"rajma\": \"bean\",\n",
    "                      \"roma\": \"tomato\",\n",
    "                      \"sago\": 'tapioca',\n",
    "                      \"suji\": \"semolina\",\n",
    "                      \"strawberries\": \"strawberry\"\n",
    "                      }"
   ]
  },
  {
   "cell_type": "code",
   "execution_count": 131,
   "metadata": {},
   "outputs": [
    {
     "data": {
      "text/plain": [
       "263"
      ]
     },
     "execution_count": 131,
     "metadata": {},
     "output_type": "execute_result"
    }
   ],
   "source": [
    "Indian_ingredients_inspected = [item[:-1] if item.endswith(',') else item for item in Indian_ingredients_inspected]\n",
    "len(Indian_ingredients_inspected)"
   ]
  },
  {
   "cell_type": "code",
   "execution_count": 133,
   "metadata": {},
   "outputs": [
    {
     "data": {
      "text/plain": [
       "263"
      ]
     },
     "execution_count": 133,
     "metadata": {},
     "output_type": "execute_result"
    }
   ],
   "source": [
    "Indian_ingredients_inspected = [item[:-1] if item in plurals_s else item \n",
    "                                for item in Indian_ingredients_inspected]\n",
    "\n",
    "len(Indian_ingredients_inspected)"
   ]
  },
  {
   "cell_type": "code",
   "execution_count": 134,
   "metadata": {},
   "outputs": [
    {
     "data": {
      "text/plain": [
       "263"
      ]
     },
     "execution_count": 134,
     "metadata": {},
     "output_type": "execute_result"
    }
   ],
   "source": [
    "Indian_ingredients_inspected = [item[:-1] if item in plurals_es else item \n",
    "                                for item in Indian_ingredients_inspected]\n",
    "\n",
    "len(Indian_ingredients_inspected)"
   ]
  },
  {
   "cell_type": "code",
   "execution_count": 135,
   "metadata": {},
   "outputs": [
    {
     "data": {
      "text/plain": [
       "263"
      ]
     },
     "execution_count": 135,
     "metadata": {},
     "output_type": "execute_result"
    }
   ],
   "source": [
    "Indian_ingredients_inspected = [replace_dictionary[item] if item in replace_dictionary else item \n",
    "                                for item in Indian_ingredients_inspected]\n",
    "\n",
    "len(Indian_ingredients_inspected)"
   ]
  },
  {
   "cell_type": "code",
   "execution_count": 137,
   "metadata": {},
   "outputs": [
    {
     "data": {
      "text/plain": [
       "218"
      ]
     },
     "execution_count": 137,
     "metadata": {},
     "output_type": "execute_result"
    }
   ],
   "source": [
    "Indian_ingredients_inspected = list(set(Indian_ingredients_inspected))\n",
    "len(Indian_ingredients_inspected)"
   ]
  },
  {
   "cell_type": "code",
   "execution_count": 138,
   "metadata": {},
   "outputs": [],
   "source": [
    "Indian_ingredients_inspected.sort()"
   ]
  },
  {
   "cell_type": "code",
   "execution_count": 139,
   "metadata": {},
   "outputs": [],
   "source": [
    "f = open('Indian_ingredients_inspected.txt', 'w')\n",
    "for item in Indian_ingredients_inspected:\n",
    "    f.write(item + '\\n')\n",
    "    \n",
    "f.close()"
   ]
  },
  {
   "cell_type": "code",
   "execution_count": 140,
   "metadata": {
    "collapsed": true
   },
   "outputs": [
    {
     "name": "stdout",
     "output_type": "stream",
     "text": [
      "ajwain\n",
      "almond\n",
      "amchur\n",
      "anise\n",
      "apple\n",
      "apricot\n",
      "arbol\n",
      "asafoetida\n",
      "asparagus\n",
      "bacon\n",
      "banana\n",
      "barley\n",
      "basmati\n",
      "bay\n",
      "bean\n",
      "beef\n",
      "beet\n",
      "berry\n",
      "besan\n",
      "biryani\n",
      "boar\n",
      "bread\n",
      "broccoli\n",
      "brussels\n",
      "butter\n",
      "cabbage\n",
      "calabash\n",
      "cannellini\n",
      "caper\n",
      "cardamom\n",
      "carnation\n",
      "carp\n",
      "carrot\n",
      "cashew\n",
      "cauliflower\n",
      "cayenne\n",
      "celery\n",
      "chana\n",
      "chard\n",
      "cheese\n",
      "cherry\n",
      "chicken\n",
      "chickpea\n",
      "chili\n",
      "chilies\n",
      "chilli\n",
      "chive\n",
      "chocolate\n",
      "chutney\n",
      "cider\n",
      "cilantro\n",
      "cinnamon\n",
      "clove\n",
      "cocoa\n",
      "coconut\n",
      "cod\n",
      "coffee\n",
      "coriander\n",
      "corn\n",
      "cornstarch\n",
      "cranberry\n",
      "cream\n",
      "crookneck\n",
      "cucumber\n",
      "cumin\n",
      "curd\n",
      "currant\n",
      "dalchini\n",
      "dates\n",
      "dill\n",
      "dukka\n",
      "dunya\n",
      "durum\n",
      "egg\n",
      "eggplant\n",
      "fennel\n",
      "fenugreek\n",
      "fig\n",
      "fish\n",
      "fist\n",
      "flour\n",
      "garam\n",
      "garbanzo\n",
      "ghee\n",
      "giblet\n",
      "ginger\n",
      "goat\n",
      "gourd\n",
      "grape\n",
      "habanero\n",
      "haddock\n",
      "haldi\n",
      "half-and-half\n",
      "halibut\n",
      "ham\n",
      "heinz\n",
      "hens\n",
      "herb\n",
      "honey\n",
      "horseradish\n",
      "husk\n",
      "jackfruit\n",
      "jaggery\n",
      "jalapeno\n",
      "kalamata\n",
      "kale\n",
      "ketchup\n",
      "khus\n",
      "kiwi\n",
      "knorr\n",
      "lamb\n",
      "lemon\n",
      "lemongrass\n",
      "lentil\n",
      "lettuce\n",
      "lime\n",
      "lipton\n",
      "mace\n",
      "madrasala\n",
      "mango\n",
      "mangoe\n",
      "margarine\n",
      "mayonnaise\n",
      "meat\n",
      "meatballs\n",
      "milk\n",
      "mint\n",
      "mozzarella\n",
      "mushroom\n",
      "mustard\n",
      "noodle\n",
      "nut\n",
      "nutmeg\n",
      "oil\n",
      "okra\n",
      "olive\n",
      "onion\n",
      "orange\n",
      "oregano\n",
      "paneer\n",
      "parsley\n",
      "parsnip\n",
      "pea\n",
      "peach\n",
      "peache\n",
      "peanut\n",
      "pear\n",
      "peas\n",
      "pepper\n",
      "peppercorn\n",
      "pine\n",
      "pineapple\n",
      "pistachio\n",
      "plantain\n",
      "plum\n",
      "pomfret\n",
      "porcini\n",
      "pork\n",
      "potato\n",
      "potatoe\n",
      "prawns\n",
      "prunes\n",
      "pumpkin\n",
      "quinoa\n",
      "quorn\n",
      "radish\n",
      "radishe\n",
      "raisin\n",
      "rava\n",
      "rhubarb\n",
      "rib\n",
      "rice\n",
      "ricotta\n",
      "romaine\n",
      "saffron\n",
      "sage\n",
      "salmon\n",
      "salt\n",
      "saunf\n",
      "sausage\n",
      "scallop\n",
      "seitan\n",
      "semolina\n",
      "serrano\n",
      "shallot\n",
      "sherry\n",
      "shortening\n",
      "shrimp\n",
      "soda\n",
      "soybeans\n",
      "spaghetti\n",
      "spinach\n",
      "splenda\n",
      "sprig\n",
      "sprout\n",
      "squash\n",
      "strawberry\n",
      "sugar\n",
      "tabasco\n",
      "tapioca\n",
      "tarragon\n",
      "tomato\n",
      "tomatoe\n",
      "tortillas\n",
      "tuna\n",
      "turkey\n",
      "turnip\n",
      "vanilla\n",
      "vermicelli\n",
      "vidalia\n",
      "vinegar\n",
      "walnut\n",
      "watermelon\n",
      "wheat\n",
      "yam\n",
      "yogurt\n",
      "zest\n",
      "zucchini\n",
      "\n"
     ]
    }
   ],
   "source": [
    "f = open('Indian_ingredients_inspected.txt')\n",
    "print(f.read())\n",
    "f.close()"
   ]
  },
  {
   "cell_type": "code",
   "execution_count": 146,
   "metadata": {},
   "outputs": [],
   "source": [
    "def ingredients_proper_Indian(ingredients):\n",
    "    \n",
    "    items = [item[:-1] if item.endswith(',') else item\n",
    "             for item in ingredients]\n",
    "    \n",
    "    items = [item[:-1] if item in plurals_s else item\n",
    "             for item in items] \n",
    "    \n",
    "    items = [item[:-2] if item in plurals_es else item\n",
    "             for item in items] \n",
    "    \n",
    "    items = [replace_dictionary[item] if item in replace_dictionary else item\n",
    "             for item in items]\n",
    "    \n",
    "    items = [item for item in items \n",
    "             if item in Indian_ingredients_inspected]\n",
    "     \n",
    "    items = list(set(items))\n",
    "    items.sort()\n",
    "    return items"
   ]
  },
  {
   "cell_type": "code",
   "execution_count": 145,
   "metadata": {},
   "outputs": [],
   "source": [
    "def ingredients_proper_me(ingredients):\n",
    "    \n",
    "    items = [item[:-1] if item.endswith(',') else item\n",
    "             for item in ingredients]\n",
    "    \n",
    "    items = [item for item in items \n",
    "             if item in me_ingredients_unique]\n",
    "    \n",
    "    items = [item[:-1] if item in plurals_s else item\n",
    "             for item in items] \n",
    "    \n",
    "    items = [item[:-2] if item in plurals_es else item\n",
    "             for item in items] \n",
    "    \n",
    "    items = [replace_dictionary[item] if item in replace_dictionary else item\n",
    "             for item in items]\n",
    "     \n",
    "    items = list(set(items))\n",
    "    items.sort()\n",
    "    return items\n",
    "    \n",
    "# ingredients_proper(df_recipes_in_detail['ingredients'][11])"
   ]
  },
  {
   "cell_type": "code",
   "execution_count": 148,
   "metadata": {},
   "outputs": [
    {
     "data": {
      "text/plain": [
       "['butter',\n",
       " 'cardamom',\n",
       " 'cashew',\n",
       " 'cayenne',\n",
       " 'chicken',\n",
       " 'clove',\n",
       " 'cumin',\n",
       " 'garam',\n",
       " 'ginger',\n",
       " 'half-and-half',\n",
       " 'lemon',\n",
       " 'onion',\n",
       " 'pepper',\n",
       " 'salt',\n",
       " 'tomato',\n",
       " 'yogurt']"
      ]
     },
     "execution_count": 148,
     "metadata": {},
     "output_type": "execute_result"
    }
   ],
   "source": [
    "ingredients_proper_Indian(df['ingredients_list'][327])"
   ]
  },
  {
   "cell_type": "code",
   "execution_count": 149,
   "metadata": {},
   "outputs": [
    {
     "data": {
      "text/plain": [
       "0                     [flour, oil, olive, salt, wheat]\n",
       "1    [beef, cayenne, chili, cilantro, clove, corian...\n",
       "2                    [butter, egg, flour, salt, sugar]\n",
       "3    [asafoetida, cayenne, chickpea, clove, coriand...\n",
       "4    [cilantro, cucumber, grape, lemon, mint, onion...\n",
       "Name: ingredients_proper, dtype: object"
      ]
     },
     "execution_count": 149,
     "metadata": {},
     "output_type": "execute_result"
    }
   ],
   "source": [
    "df['ingredients_proper'] = \\\n",
    "df['ingredients_list'].apply(ingredients_proper_Indian)\n",
    "df['ingredients_proper'].head()"
   ]
  },
  {
   "cell_type": "code",
   "execution_count": 155,
   "metadata": {},
   "outputs": [
    {
     "data": {
      "text/plain": [
       "['flour',\n",
       " 'oil',\n",
       " 'olive',\n",
       " 'salt',\n",
       " 'wheat',\n",
       " 'beef',\n",
       " 'cayenne',\n",
       " 'chili',\n",
       " 'cilantro',\n",
       " 'clove']"
      ]
     },
     "execution_count": 155,
     "metadata": {},
     "output_type": "execute_result"
    }
   ],
   "source": [
    "ingredients = []\n",
    "for items in df['ingredients_proper']:\n",
    "    ingredients+=items\n",
    "\n",
    "ingredients[:10]"
   ]
  },
  {
   "cell_type": "code",
   "execution_count": 158,
   "metadata": {},
   "outputs": [],
   "source": [
    "count = pd.Series(ingredients).value_counts()"
   ]
  },
  {
   "cell_type": "code",
   "execution_count": 159,
   "metadata": {},
   "outputs": [
    {
     "data": {
      "text/plain": [
       "salt         482\n",
       "oil          479\n",
       "pepper       455\n",
       "onion        445\n",
       "cumin        346\n",
       "ginger       328\n",
       "clove        303\n",
       "chili        298\n",
       "tomato       273\n",
       "coriander    198\n",
       "garam        160\n",
       "chicken      156\n",
       "sugar        153\n",
       "milk         149\n",
       "yogurt       138\n",
       "cinnamon     130\n",
       "olive        123\n",
       "cayenne      117\n",
       "mustard      116\n",
       "cardamom     116\n",
       "dtype: int64"
      ]
     },
     "execution_count": 159,
     "metadata": {},
     "output_type": "execute_result"
    }
   ],
   "source": [
    "count[:20]"
   ]
  },
  {
   "cell_type": "code",
   "execution_count": 162,
   "metadata": {},
   "outputs": [
    {
     "data": {
      "image/png": "[encoded data removed]",
      "text/plain": [
       "<Figure size 1080x360 with 1 Axes>"
      ]
     },
     "metadata": {},
     "output_type": "display_data"
    }
   ],
   "source": [
    "count[:50].plot(kind='bar', figsize=(15, 5), rot = 90, fontsize=16)\n",
    "\n",
    "plt.xlabel('Ingredients', size=20)\n",
    "plt.ylabel('Frequency', size=20)\n",
    "plt.title('Frequency of ingredients in Indian recipes', size=20);"
   ]
  }
 ],
 "metadata": {
  "kernelspec": {
   "display_name": "Python [conda env:anaconda3]",
   "language": "python",
   "name": "conda-env-anaconda3-py"
  },
  "language_info": {
   "codemirror_mode": {
    "name": "ipython",
    "version": 3
   },
   "file_extension": ".py",
   "mimetype": "text/x-python",
   "name": "python",
   "nbconvert_exporter": "python",
   "pygments_lexer": "ipython3",
   "version": "3.6.4"
  }
 },
 "nbformat": 4,
 "nbformat_minor": 2
}
