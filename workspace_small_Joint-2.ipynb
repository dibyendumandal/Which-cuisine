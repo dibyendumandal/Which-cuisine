{
 "cells": [
  {
   "cell_type": "markdown",
   "metadata": {},
   "source": [
    "# Libraries"
   ]
  },
  {
   "cell_type": "code",
   "execution_count": 1,
   "metadata": {},
   "outputs": [],
   "source": [
    "import os"
   ]
  },
  {
   "cell_type": "code",
   "execution_count": 2,
   "metadata": {},
   "outputs": [
    {
     "data": {
      "text/plain": [
       "'/Users/dibyendumandal/Google Drive/DIBYENDU/JOB_DataIncubator/Project_Indian_Middle_eastern_and_French'"
      ]
     },
     "execution_count": 2,
     "metadata": {},
     "output_type": "execute_result"
    }
   ],
   "source": [
    "cwd = os.getcwd()\n",
    "cwd"
   ]
  },
  {
   "cell_type": "code",
   "execution_count": 3,
   "metadata": {},
   "outputs": [
    {
     "data": {
      "text/plain": [
       "['.DS_Store',\n",
       " '.ipynb_checkpoints',\n",
       " 'combined_ingredients.txt',\n",
       " 'French_ingredients_final.txt',\n",
       " 'French_ingredients_inspected.txt',\n",
       " 'French_ingredients_raw.txt',\n",
       " 'French_recipes_details.csv',\n",
       " 'French_recipes_details.txt',\n",
       " 'French_recipes_urls.txt',\n",
       " 'Indian_ingredients_inspected.txt',\n",
       " 'Indian_ingredients_raw.txt',\n",
       " 'Indian_recipes_details.csv',\n",
       " 'Indian_recipes_urls.txt',\n",
       " 'ingredients_raw.txt',\n",
       " 'ME_ingredients_raw.txt',\n",
       " 'ME_recipes_details.csv',\n",
       " 'ME_recipes_urls.txt',\n",
       " 'plurals_s.txt',\n",
       " 'recipe_data.csv',\n",
       " 'workspace_large.ipynb',\n",
       " 'workspace_small_French.ipynb',\n",
       " 'workspace_small_Indian.ipynb',\n",
       " 'workspace_small_Joint-Copy1.ipynb',\n",
       " 'workspace_small_Joint.ipynb',\n",
       " 'workspace_small_me.ipynb']"
      ]
     },
     "execution_count": 3,
     "metadata": {},
     "output_type": "execute_result"
    }
   ],
   "source": [
    "os.listdir(cwd)"
   ]
  },
  {
   "cell_type": "code",
   "execution_count": 4,
   "metadata": {},
   "outputs": [],
   "source": [
    "import matplotlib.pyplot as plt\n",
    "% matplotlib inline\n",
    "import seaborn as sns; sns.set()\n",
    "\n",
    "import numpy as np\n",
    "import pandas as pd\n",
    "\n",
    "import nltk\n",
    "from nltk.corpus import wordnet as wn "
   ]
  },
  {
   "cell_type": "markdown",
   "metadata": {},
   "source": [
    "## Gather"
   ]
  },
  {
   "cell_type": "code",
   "execution_count": 5,
   "metadata": {},
   "outputs": [],
   "source": [
    "df_IN = pd.read_csv(\"Indian_recipes_details.csv\")\n",
    "df_ME = pd.read_csv(\"ME_recipes_details.csv\")\n",
    "df_FR = pd.read_csv(\"French_recipes_details.csv\")"
   ]
  },
  {
   "cell_type": "code",
   "execution_count": 6,
   "metadata": {},
   "outputs": [
    {
     "data": {
      "text/html": [
       "<div>\n",
       "<style scoped>\n",
       "    .dataframe tbody tr th:only-of-type {\n",
       "        vertical-align: middle;\n",
       "    }\n",
       "\n",
       "    .dataframe tbody tr th {\n",
       "        vertical-align: top;\n",
       "    }\n",
       "\n",
       "    .dataframe thead th {\n",
       "        text-align: right;\n",
       "    }\n",
       "</style>\n",
       "<table border=\"1\" class=\"dataframe\">\n",
       "  <thead>\n",
       "    <tr style=\"text-align: right;\">\n",
       "      <th></th>\n",
       "      <th>ingredients_string</th>\n",
       "      <th>name</th>\n",
       "      <th>url</th>\n",
       "    </tr>\n",
       "  </thead>\n",
       "  <tbody>\n",
       "    <tr>\n",
       "      <th>446</th>\n",
       "      <td>4 potatoes, peeled and cut into 2-inch pieces ...</td>\n",
       "      <td>Easy Masala Hash Browns</td>\n",
       "      <td>https://www.allrecipes.com/recipe/246249/easy-...</td>\n",
       "    </tr>\n",
       "  </tbody>\n",
       "</table>\n",
       "</div>"
      ],
      "text/plain": [
       "                                    ingredients_string  \\\n",
       "446  4 potatoes, peeled and cut into 2-inch pieces ...   \n",
       "\n",
       "                        name  \\\n",
       "446  Easy Masala Hash Browns   \n",
       "\n",
       "                                                   url  \n",
       "446  https://www.allrecipes.com/recipe/246249/easy-...  "
      ]
     },
     "execution_count": 6,
     "metadata": {},
     "output_type": "execute_result"
    }
   ],
   "source": [
    "df_IN.sample()"
   ]
  },
  {
   "cell_type": "code",
   "execution_count": 7,
   "metadata": {},
   "outputs": [
    {
     "data": {
      "text/html": [
       "<div>\n",
       "<style scoped>\n",
       "    .dataframe tbody tr th:only-of-type {\n",
       "        vertical-align: middle;\n",
       "    }\n",
       "\n",
       "    .dataframe tbody tr th {\n",
       "        vertical-align: top;\n",
       "    }\n",
       "\n",
       "    .dataframe thead th {\n",
       "        text-align: right;\n",
       "    }\n",
       "</style>\n",
       "<table border=\"1\" class=\"dataframe\">\n",
       "  <thead>\n",
       "    <tr style=\"text-align: right;\">\n",
       "      <th></th>\n",
       "      <th>ingredients</th>\n",
       "      <th>name</th>\n",
       "      <th>url</th>\n",
       "      <th>ingredients_proper</th>\n",
       "      <th>ingredients_string</th>\n",
       "    </tr>\n",
       "  </thead>\n",
       "  <tbody>\n",
       "    <tr>\n",
       "      <th>369</th>\n",
       "      <td>['1/3', 'cup', 'white', 'sugar', '3', 'tablesp...</td>\n",
       "      <td>Rose Scented Tapioca Pudding</td>\n",
       "      <td>https://www.allrecipes.com/recipe/219917/rose-...</td>\n",
       "      <td>['egg', 'milk', 'sugar', 'tapioca']</td>\n",
       "      <td>1/3 cup white sugar 3 tablespoons quick-cookin...</td>\n",
       "    </tr>\n",
       "  </tbody>\n",
       "</table>\n",
       "</div>"
      ],
      "text/plain": [
       "                                           ingredients  \\\n",
       "369  ['1/3', 'cup', 'white', 'sugar', '3', 'tablesp...   \n",
       "\n",
       "                             name  \\\n",
       "369  Rose Scented Tapioca Pudding   \n",
       "\n",
       "                                                   url  \\\n",
       "369  https://www.allrecipes.com/recipe/219917/rose-...   \n",
       "\n",
       "                      ingredients_proper  \\\n",
       "369  ['egg', 'milk', 'sugar', 'tapioca']   \n",
       "\n",
       "                                    ingredients_string  \n",
       "369  1/3 cup white sugar 3 tablespoons quick-cookin...  "
      ]
     },
     "execution_count": 7,
     "metadata": {},
     "output_type": "execute_result"
    }
   ],
   "source": [
    "df_ME.sample()"
   ]
  },
  {
   "cell_type": "code",
   "execution_count": 8,
   "metadata": {},
   "outputs": [
    {
     "data": {
      "text/html": [
       "<div>\n",
       "<style scoped>\n",
       "    .dataframe tbody tr th:only-of-type {\n",
       "        vertical-align: middle;\n",
       "    }\n",
       "\n",
       "    .dataframe tbody tr th {\n",
       "        vertical-align: top;\n",
       "    }\n",
       "\n",
       "    .dataframe thead th {\n",
       "        text-align: right;\n",
       "    }\n",
       "</style>\n",
       "<table border=\"1\" class=\"dataframe\">\n",
       "  <thead>\n",
       "    <tr style=\"text-align: right;\">\n",
       "      <th></th>\n",
       "      <th>ingredients_string</th>\n",
       "      <th>name</th>\n",
       "      <th>url</th>\n",
       "    </tr>\n",
       "  </thead>\n",
       "  <tbody>\n",
       "    <tr>\n",
       "      <th>61</th>\n",
       "      <td>2 cups heavy cream 1/3 cup white sugar 6 egg y...</td>\n",
       "      <td>Irish Cream Creme Brulee</td>\n",
       "      <td>https://www.allrecipes.com/recipe/138086/irish...</td>\n",
       "    </tr>\n",
       "  </tbody>\n",
       "</table>\n",
       "</div>"
      ],
      "text/plain": [
       "                                   ingredients_string  \\\n",
       "61  2 cups heavy cream 1/3 cup white sugar 6 egg y...   \n",
       "\n",
       "                        name  \\\n",
       "61  Irish Cream Creme Brulee   \n",
       "\n",
       "                                                  url  \n",
       "61  https://www.allrecipes.com/recipe/138086/irish...  "
      ]
     },
     "execution_count": 8,
     "metadata": {},
     "output_type": "execute_result"
    }
   ],
   "source": [
    "df_FR.sample()"
   ]
  },
  {
   "cell_type": "code",
   "execution_count": 9,
   "metadata": {},
   "outputs": [
    {
     "data": {
      "text/html": [
       "<div>\n",
       "<style scoped>\n",
       "    .dataframe tbody tr th:only-of-type {\n",
       "        vertical-align: middle;\n",
       "    }\n",
       "\n",
       "    .dataframe tbody tr th {\n",
       "        vertical-align: top;\n",
       "    }\n",
       "\n",
       "    .dataframe thead th {\n",
       "        text-align: right;\n",
       "    }\n",
       "</style>\n",
       "<table border=\"1\" class=\"dataframe\">\n",
       "  <thead>\n",
       "    <tr style=\"text-align: right;\">\n",
       "      <th></th>\n",
       "      <th>name</th>\n",
       "      <th>url</th>\n",
       "      <th>ingredients_string</th>\n",
       "    </tr>\n",
       "  </thead>\n",
       "  <tbody>\n",
       "    <tr>\n",
       "      <th>219</th>\n",
       "      <td>Lebanese Bean Salad</td>\n",
       "      <td>https://www.allrecipes.com/recipe/222676/leban...</td>\n",
       "      <td>1 (15 ounce) can fava beans, drained and rinse...</td>\n",
       "    </tr>\n",
       "  </tbody>\n",
       "</table>\n",
       "</div>"
      ],
      "text/plain": [
       "                    name                                                url  \\\n",
       "219  Lebanese Bean Salad  https://www.allrecipes.com/recipe/222676/leban...   \n",
       "\n",
       "                                    ingredients_string  \n",
       "219  1 (15 ounce) can fava beans, drained and rinse...  "
      ]
     },
     "execution_count": 9,
     "metadata": {},
     "output_type": "execute_result"
    }
   ],
   "source": [
    "df_ME.drop(['ingredients', 'ingredients_proper'], axis=1, inplace=True)\n",
    "df_ME.sample()"
   ]
  },
  {
   "cell_type": "code",
   "execution_count": 10,
   "metadata": {},
   "outputs": [],
   "source": [
    "df_IN['class'] = \"Indian\""
   ]
  },
  {
   "cell_type": "code",
   "execution_count": 11,
   "metadata": {},
   "outputs": [
    {
     "data": {
      "text/html": [
       "<div>\n",
       "<style scoped>\n",
       "    .dataframe tbody tr th:only-of-type {\n",
       "        vertical-align: middle;\n",
       "    }\n",
       "\n",
       "    .dataframe tbody tr th {\n",
       "        vertical-align: top;\n",
       "    }\n",
       "\n",
       "    .dataframe thead th {\n",
       "        text-align: right;\n",
       "    }\n",
       "</style>\n",
       "<table border=\"1\" class=\"dataframe\">\n",
       "  <thead>\n",
       "    <tr style=\"text-align: right;\">\n",
       "      <th></th>\n",
       "      <th>ingredients_string</th>\n",
       "      <th>name</th>\n",
       "      <th>url</th>\n",
       "      <th>class</th>\n",
       "    </tr>\n",
       "  </thead>\n",
       "  <tbody>\n",
       "    <tr>\n",
       "      <th>496</th>\n",
       "      <td>4 cups water 1/2 cup basmati rice 1/2 cup spli...</td>\n",
       "      <td>Khitchari</td>\n",
       "      <td>https://www.allrecipes.com/recipe/256584/khitc...</td>\n",
       "      <td>Indian</td>\n",
       "    </tr>\n",
       "  </tbody>\n",
       "</table>\n",
       "</div>"
      ],
      "text/plain": [
       "                                    ingredients_string       name  \\\n",
       "496  4 cups water 1/2 cup basmati rice 1/2 cup spli...  Khitchari   \n",
       "\n",
       "                                                   url   class  \n",
       "496  https://www.allrecipes.com/recipe/256584/khitc...  Indian  "
      ]
     },
     "execution_count": 11,
     "metadata": {},
     "output_type": "execute_result"
    }
   ],
   "source": [
    "df_IN.sample()"
   ]
  },
  {
   "cell_type": "code",
   "execution_count": 12,
   "metadata": {},
   "outputs": [
    {
     "data": {
      "text/html": [
       "<div>\n",
       "<style scoped>\n",
       "    .dataframe tbody tr th:only-of-type {\n",
       "        vertical-align: middle;\n",
       "    }\n",
       "\n",
       "    .dataframe tbody tr th {\n",
       "        vertical-align: top;\n",
       "    }\n",
       "\n",
       "    .dataframe thead th {\n",
       "        text-align: right;\n",
       "    }\n",
       "</style>\n",
       "<table border=\"1\" class=\"dataframe\">\n",
       "  <thead>\n",
       "    <tr style=\"text-align: right;\">\n",
       "      <th></th>\n",
       "      <th>name</th>\n",
       "      <th>url</th>\n",
       "      <th>ingredients_string</th>\n",
       "      <th>class</th>\n",
       "    </tr>\n",
       "  </thead>\n",
       "  <tbody>\n",
       "    <tr>\n",
       "      <th>51</th>\n",
       "      <td>Pomegranate Stew With Chicken Khoresh Fesenjan</td>\n",
       "      <td>https://www.allrecipes.com/recipe/85118/pomegr...</td>\n",
       "      <td>2 tablespoons olive oil 1 1/2 pounds chicken l...</td>\n",
       "      <td>Middle_eastern</td>\n",
       "    </tr>\n",
       "  </tbody>\n",
       "</table>\n",
       "</div>"
      ],
      "text/plain": [
       "                                              name  \\\n",
       "51  Pomegranate Stew With Chicken Khoresh Fesenjan   \n",
       "\n",
       "                                                  url  \\\n",
       "51  https://www.allrecipes.com/recipe/85118/pomegr...   \n",
       "\n",
       "                                   ingredients_string           class  \n",
       "51  2 tablespoons olive oil 1 1/2 pounds chicken l...  Middle_eastern  "
      ]
     },
     "execution_count": 12,
     "metadata": {},
     "output_type": "execute_result"
    }
   ],
   "source": [
    "df_ME['class'] = \"Middle_eastern\"\n",
    "df_ME.sample()"
   ]
  },
  {
   "cell_type": "code",
   "execution_count": 13,
   "metadata": {},
   "outputs": [
    {
     "data": {
      "text/html": [
       "<div>\n",
       "<style scoped>\n",
       "    .dataframe tbody tr th:only-of-type {\n",
       "        vertical-align: middle;\n",
       "    }\n",
       "\n",
       "    .dataframe tbody tr th {\n",
       "        vertical-align: top;\n",
       "    }\n",
       "\n",
       "    .dataframe thead th {\n",
       "        text-align: right;\n",
       "    }\n",
       "</style>\n",
       "<table border=\"1\" class=\"dataframe\">\n",
       "  <thead>\n",
       "    <tr style=\"text-align: right;\">\n",
       "      <th></th>\n",
       "      <th>ingredients_string</th>\n",
       "      <th>name</th>\n",
       "      <th>url</th>\n",
       "      <th>class</th>\n",
       "    </tr>\n",
       "  </thead>\n",
       "  <tbody>\n",
       "    <tr>\n",
       "      <th>359</th>\n",
       "      <td>6 tablespoons olive oil 4 medium yellow onions...</td>\n",
       "      <td>Onion Soup Gratinee</td>\n",
       "      <td>https://www.allrecipes.com/recipe/78396/onion-...</td>\n",
       "      <td>French</td>\n",
       "    </tr>\n",
       "  </tbody>\n",
       "</table>\n",
       "</div>"
      ],
      "text/plain": [
       "                                    ingredients_string                 name  \\\n",
       "359  6 tablespoons olive oil 4 medium yellow onions...  Onion Soup Gratinee   \n",
       "\n",
       "                                                   url   class  \n",
       "359  https://www.allrecipes.com/recipe/78396/onion-...  French  "
      ]
     },
     "execution_count": 13,
     "metadata": {},
     "output_type": "execute_result"
    }
   ],
   "source": [
    "df_FR['class'] = \"French\"\n",
    "df_FR.sample()"
   ]
  },
  {
   "cell_type": "code",
   "execution_count": 14,
   "metadata": {},
   "outputs": [
    {
     "data": {
      "text/html": [
       "<div>\n",
       "<style scoped>\n",
       "    .dataframe tbody tr th:only-of-type {\n",
       "        vertical-align: middle;\n",
       "    }\n",
       "\n",
       "    .dataframe tbody tr th {\n",
       "        vertical-align: top;\n",
       "    }\n",
       "\n",
       "    .dataframe thead th {\n",
       "        text-align: right;\n",
       "    }\n",
       "</style>\n",
       "<table border=\"1\" class=\"dataframe\">\n",
       "  <thead>\n",
       "    <tr style=\"text-align: right;\">\n",
       "      <th></th>\n",
       "      <th>class</th>\n",
       "      <th>ingredients_string</th>\n",
       "      <th>name</th>\n",
       "      <th>url</th>\n",
       "    </tr>\n",
       "  </thead>\n",
       "  <tbody>\n",
       "    <tr>\n",
       "      <th>769</th>\n",
       "      <td>Indian</td>\n",
       "      <td>1 pound potatoes, peeled and quartered 2 table...</td>\n",
       "      <td>Potato Bonda Spicy Potato Balls</td>\n",
       "      <td>https://www.allrecipes.com/recipe/245418/potat...</td>\n",
       "    </tr>\n",
       "    <tr>\n",
       "      <th>1535</th>\n",
       "      <td>French</td>\n",
       "      <td>1 mango - peeled, seeded, and cut into chunks ...</td>\n",
       "      <td>Mango Frappe</td>\n",
       "      <td>https://www.allrecipes.com/recipe/143314/mango...</td>\n",
       "    </tr>\n",
       "    <tr>\n",
       "      <th>1562</th>\n",
       "      <td>French</td>\n",
       "      <td>6 tablespoons olive oil 4 medium yellow onions...</td>\n",
       "      <td>Onion Soup Gratinee</td>\n",
       "      <td>https://www.allrecipes.com/recipe/78396/onion-...</td>\n",
       "    </tr>\n",
       "    <tr>\n",
       "      <th>1560</th>\n",
       "      <td>French</td>\n",
       "      <td>2 cups milk 7 1/2 tablespoons all-purpose flou...</td>\n",
       "      <td>French Vanilla Slices Mille Feuilles</td>\n",
       "      <td>https://www.allrecipes.com/recipe/37182/french...</td>\n",
       "    </tr>\n",
       "    <tr>\n",
       "      <th>228</th>\n",
       "      <td>Indian</td>\n",
       "      <td>1/4 cup water 1 (14.5 ounce) can chicken broth...</td>\n",
       "      <td>Indian Rice Pilaf</td>\n",
       "      <td>https://www.allrecipes.com/recipe/222806/india...</td>\n",
       "    </tr>\n",
       "    <tr>\n",
       "      <th>1706</th>\n",
       "      <td>French</td>\n",
       "      <td>1 (3 pound) leg of lamb 6 cloves garlic, peele...</td>\n",
       "      <td>Gigot Dagneau Au Four Roast Lamb With Beans</td>\n",
       "      <td>https://www.allrecipes.com/recipe/257291/gigot...</td>\n",
       "    </tr>\n",
       "    <tr>\n",
       "      <th>248</th>\n",
       "      <td>Indian</td>\n",
       "      <td>2 cups red lentils 7 cups water 2 teaspoons sa...</td>\n",
       "      <td>Masur Dahl</td>\n",
       "      <td>https://www.allrecipes.com/recipe/147255/masur...</td>\n",
       "    </tr>\n",
       "    <tr>\n",
       "      <th>579</th>\n",
       "      <td>Indian</td>\n",
       "      <td>5 teaspoons vegetable oil 7 dried red chile pe...</td>\n",
       "      <td>Kadai Chicken</td>\n",
       "      <td>https://www.allrecipes.com/recipe/246849/kadai...</td>\n",
       "    </tr>\n",
       "    <tr>\n",
       "      <th>1378</th>\n",
       "      <td>French</td>\n",
       "      <td>6 skinless, boneless chicken breasts 1 (10.75 ...</td>\n",
       "      <td>Creamy Cordon Bleu Bake</td>\n",
       "      <td>https://www.allrecipes.com/recipe/16603/creamy...</td>\n",
       "    </tr>\n",
       "    <tr>\n",
       "      <th>129</th>\n",
       "      <td>Indian</td>\n",
       "      <td>2 tablespoons smoked paprika 1 tablespoon chil...</td>\n",
       "      <td>Roasted Curried Chicken With Couscous</td>\n",
       "      <td>https://www.allrecipes.com/recipe/159251/roast...</td>\n",
       "    </tr>\n",
       "  </tbody>\n",
       "</table>\n",
       "</div>"
      ],
      "text/plain": [
       "       class                                 ingredients_string  \\\n",
       "769   Indian  1 pound potatoes, peeled and quartered 2 table...   \n",
       "1535  French  1 mango - peeled, seeded, and cut into chunks ...   \n",
       "1562  French  6 tablespoons olive oil 4 medium yellow onions...   \n",
       "1560  French  2 cups milk 7 1/2 tablespoons all-purpose flou...   \n",
       "228   Indian  1/4 cup water 1 (14.5 ounce) can chicken broth...   \n",
       "1706  French  1 (3 pound) leg of lamb 6 cloves garlic, peele...   \n",
       "248   Indian  2 cups red lentils 7 cups water 2 teaspoons sa...   \n",
       "579   Indian  5 teaspoons vegetable oil 7 dried red chile pe...   \n",
       "1378  French  6 skinless, boneless chicken breasts 1 (10.75 ...   \n",
       "129   Indian  2 tablespoons smoked paprika 1 tablespoon chil...   \n",
       "\n",
       "                                             name  \\\n",
       "769               Potato Bonda Spicy Potato Balls   \n",
       "1535                                 Mango Frappe   \n",
       "1562                          Onion Soup Gratinee   \n",
       "1560         French Vanilla Slices Mille Feuilles   \n",
       "228                             Indian Rice Pilaf   \n",
       "1706  Gigot Dagneau Au Four Roast Lamb With Beans   \n",
       "248                                    Masur Dahl   \n",
       "579                                 Kadai Chicken   \n",
       "1378                      Creamy Cordon Bleu Bake   \n",
       "129         Roasted Curried Chicken With Couscous   \n",
       "\n",
       "                                                    url  \n",
       "769   https://www.allrecipes.com/recipe/245418/potat...  \n",
       "1535  https://www.allrecipes.com/recipe/143314/mango...  \n",
       "1562  https://www.allrecipes.com/recipe/78396/onion-...  \n",
       "1560  https://www.allrecipes.com/recipe/37182/french...  \n",
       "228   https://www.allrecipes.com/recipe/222806/india...  \n",
       "1706  https://www.allrecipes.com/recipe/257291/gigot...  \n",
       "248   https://www.allrecipes.com/recipe/147255/masur...  \n",
       "579   https://www.allrecipes.com/recipe/246849/kadai...  \n",
       "1378  https://www.allrecipes.com/recipe/16603/creamy...  \n",
       "129   https://www.allrecipes.com/recipe/159251/roast...  "
      ]
     },
     "execution_count": 14,
     "metadata": {},
     "output_type": "execute_result"
    }
   ],
   "source": [
    "df = pd.concat([df_IN, df_ME, df_FR], ignore_index=True)\n",
    "df.sample(10)"
   ]
  },
  {
   "cell_type": "code",
   "execution_count": 15,
   "metadata": {},
   "outputs": [
    {
     "data": {
      "text/html": [
       "<div>\n",
       "<style scoped>\n",
       "    .dataframe tbody tr th:only-of-type {\n",
       "        vertical-align: middle;\n",
       "    }\n",
       "\n",
       "    .dataframe tbody tr th {\n",
       "        vertical-align: top;\n",
       "    }\n",
       "\n",
       "    .dataframe thead th {\n",
       "        text-align: right;\n",
       "    }\n",
       "</style>\n",
       "<table border=\"1\" class=\"dataframe\">\n",
       "  <thead>\n",
       "    <tr style=\"text-align: right;\">\n",
       "      <th></th>\n",
       "      <th>class</th>\n",
       "      <th>ingredients_string</th>\n",
       "      <th>name</th>\n",
       "      <th>url</th>\n",
       "    </tr>\n",
       "  </thead>\n",
       "  <tbody>\n",
       "    <tr>\n",
       "      <th>0</th>\n",
       "      <td>Indian</td>\n",
       "      <td>1 cup whole wheat flour 1 cup all-purpose flou...</td>\n",
       "      <td>Indian Chapati Bread</td>\n",
       "      <td>https://www.allrecipes.com/recipe/85469/indian...</td>\n",
       "    </tr>\n",
       "    <tr>\n",
       "      <th>1</th>\n",
       "      <td>Indian</td>\n",
       "      <td>2 tablespoons extra-virgin olive oil 1 extra-l...</td>\n",
       "      <td>Keema Aloo Ground Beef And Potatoes</td>\n",
       "      <td>https://www.allrecipes.com/recipe/231026/keema...</td>\n",
       "    </tr>\n",
       "    <tr>\n",
       "      <th>2</th>\n",
       "      <td>Indian</td>\n",
       "      <td>3/4 cup warm water 1 teaspoon salt 1 pinch whi...</td>\n",
       "      <td>Roti Canaiparatha Indian Pancake</td>\n",
       "      <td>https://www.allrecipes.com/recipe/247233/roti-...</td>\n",
       "    </tr>\n",
       "    <tr>\n",
       "      <th>3</th>\n",
       "      <td>Indian</td>\n",
       "      <td>1 cup dried black chickpeas (garbanzo beans) 1...</td>\n",
       "      <td>Black Chana With Potato</td>\n",
       "      <td>https://www.allrecipes.com/recipe/246179/black...</td>\n",
       "    </tr>\n",
       "    <tr>\n",
       "      <th>4</th>\n",
       "      <td>Indian</td>\n",
       "      <td>1 cup halved grape tomatoes 1 cup diced cucumb...</td>\n",
       "      <td>Tomato Cucumber Kachumbar</td>\n",
       "      <td>https://www.allrecipes.com/recipe/256599/tomat...</td>\n",
       "    </tr>\n",
       "  </tbody>\n",
       "</table>\n",
       "</div>"
      ],
      "text/plain": [
       "    class                                 ingredients_string  \\\n",
       "0  Indian  1 cup whole wheat flour 1 cup all-purpose flou...   \n",
       "1  Indian  2 tablespoons extra-virgin olive oil 1 extra-l...   \n",
       "2  Indian  3/4 cup warm water 1 teaspoon salt 1 pinch whi...   \n",
       "3  Indian  1 cup dried black chickpeas (garbanzo beans) 1...   \n",
       "4  Indian  1 cup halved grape tomatoes 1 cup diced cucumb...   \n",
       "\n",
       "                                  name  \\\n",
       "0                 Indian Chapati Bread   \n",
       "1  Keema Aloo Ground Beef And Potatoes   \n",
       "2     Roti Canaiparatha Indian Pancake   \n",
       "3              Black Chana With Potato   \n",
       "4            Tomato Cucumber Kachumbar   \n",
       "\n",
       "                                                 url  \n",
       "0  https://www.allrecipes.com/recipe/85469/indian...  \n",
       "1  https://www.allrecipes.com/recipe/231026/keema...  \n",
       "2  https://www.allrecipes.com/recipe/247233/roti-...  \n",
       "3  https://www.allrecipes.com/recipe/246179/black...  \n",
       "4  https://www.allrecipes.com/recipe/256599/tomat...  "
      ]
     },
     "execution_count": 15,
     "metadata": {},
     "output_type": "execute_result"
    }
   ],
   "source": [
    "df.head()"
   ]
  },
  {
   "cell_type": "code",
   "execution_count": 16,
   "metadata": {},
   "outputs": [
    {
     "data": {
      "text/plain": [
       "(1710, 4)"
      ]
     },
     "execution_count": 16,
     "metadata": {},
     "output_type": "execute_result"
    }
   ],
   "source": [
    "df.shape"
   ]
  },
  {
   "cell_type": "code",
   "execution_count": 17,
   "metadata": {},
   "outputs": [
    {
     "data": {
      "text/plain": [
       "761"
      ]
     },
     "execution_count": 17,
     "metadata": {},
     "output_type": "execute_result"
    }
   ],
   "source": [
    "ingredients_raw = []\n",
    "\n",
    "f = open('ME_ingredients_raw.txt')\n",
    "for item in f:\n",
    "    ingredients_raw.append(item.rstrip())\n",
    "    \n",
    "f.close()\n",
    "\n",
    "f = open('Indian_ingredients_raw.txt')\n",
    "for item in f:\n",
    "    ingredients_raw.append(item.rstrip())\n",
    "    \n",
    "f.close()\n",
    "\n",
    "f = open('French_ingredients_raw.txt')\n",
    "for item in f:\n",
    "    ingredients_raw.append(item.rstrip())\n",
    "    \n",
    "f.close()\n",
    "\n",
    "ingredients_raw = list(set(ingredients_raw))\n",
    "len(ingredients_raw)"
   ]
  },
  {
   "cell_type": "code",
   "execution_count": 18,
   "metadata": {},
   "outputs": [],
   "source": [
    "ingredients_raw.sort()"
   ]
  },
  {
   "cell_type": "code",
   "execution_count": 21,
   "metadata": {},
   "outputs": [
    {
     "data": {
      "text/plain": [
       "784"
      ]
     },
     "execution_count": 21,
     "metadata": {},
     "output_type": "execute_result"
    }
   ],
   "source": [
    "ingredients = []\n",
    "\n",
    "f = open('Indian_ingredients_inspected.txt')\n",
    "for item in f:\n",
    "    ingredients.append(item.rstrip())\n",
    "    \n",
    "f.close()\n",
    "\n",
    "f = open('French_ingredients_final.txt')\n",
    "for item in f:\n",
    "    ingredients.append(item.rstrip())\n",
    "    \n",
    "f.close()\n",
    "\n",
    "f = open('ME_ingredients_raw.txt')\n",
    "for item in f:\n",
    "    ingredients.append(item.rstrip())\n",
    "    \n",
    "f.close()\n",
    "\n",
    "len(ingredients)"
   ]
  },
  {
   "cell_type": "code",
   "execution_count": 22,
   "metadata": {},
   "outputs": [],
   "source": [
    "f = open(\"ingredients_raw.txt\", 'w')\n",
    "for item in ingredients_raw:\n",
    "    f.write(item + '\\n')\n",
    "    \n",
    "f.close()"
   ]
  },
  {
   "cell_type": "code",
   "execution_count": 23,
   "metadata": {},
   "outputs": [
    {
     "data": {
      "text/plain": [
       "544"
      ]
     },
     "execution_count": 23,
     "metadata": {},
     "output_type": "execute_result"
    }
   ],
   "source": [
    "ingredients = list(set(ingredients))\n",
    "len(ingredients)"
   ]
  },
  {
   "cell_type": "code",
   "execution_count": 24,
   "metadata": {},
   "outputs": [],
   "source": [
    "ingredients.sort()"
   ]
  },
  {
   "cell_type": "code",
   "execution_count": 25,
   "metadata": {},
   "outputs": [],
   "source": [
    "f = open(\"combined_ingredients.txt\", 'w')\n",
    "for item in ingredients:\n",
    "    f.write(item + '\\n')\n",
    "    \n",
    "f.close()"
   ]
  },
  {
   "cell_type": "code",
   "execution_count": 26,
   "metadata": {},
   "outputs": [],
   "source": [
    "replace_dictionary = {\"amchoor\": \"amchur\",\n",
    "                      \"berries\": \"berry\",\n",
    "                      \"chai\": \"tea\",\n",
    "                      \"channa\": \"chana\",\n",
    "                      \"cherries\": \"cherry\",\n",
    "                      \"chile\": \"chili\",\n",
    "                      \"cranberries\": \"cranberry\",\n",
    "                      \"creme\": \"cream\",\n",
    "                      \"daal\": \"lentil\",\n",
    "                      \"dal\": \"lentil\",\n",
    "                      \"dhania\": \"coriander\",\n",
    "                      \"drumsticks\": \"chicken\",\n",
    "                      \"elaichi\": \"cardamom\",\n",
    "                      \"filet\": \"fillet\",\n",
    "                      \"filets\": \"fillets\",\n",
    "                      \"hen\": \"chicken\",\n",
    "                      \"hens\": \"chicken\",\n",
    "                      \"jeera\": \"cumin\",\n",
    "                      \"lavang\": \"clove\",\n",
    "                      \"maida\": \"flour\",\n",
    "                      \"mangos\": \"mango\",\n",
    "                      \"mangoes\": \"mango\",\n",
    "                      \"masoor\": \"lentil\",\n",
    "                      \"matar\": \"pea\",\n",
    "                      \"methi\": \"fenugreek\",\n",
    "                      \"molasses\": \"molass\",\n",
    "                      \"moong\": \"lentil\",\n",
    "                      \"peaches\": \"peach\",\n",
    "                      \"potatoes\": \"potato\",\n",
    "                      \"potatoe\": 'potato',\n",
    "                      \"radishe\": \"radish\",\n",
    "                      \"radishes\": \"radish\",\n",
    "                      \"rajma\": \"bean\",\n",
    "                      \"roma\": \"tomato\",\n",
    "                      \"sago\": 'tapioca',\n",
    "                      \"suji\": \"semolina\",\n",
    "                      \"strawberries\": \"strawberry\",\n",
    "                      \"tomatoe\": \"tomato\",\n",
    "                      \"tomatoes\": \"tomato\"\n",
    "                     }"
   ]
  },
  {
   "cell_type": "code",
   "execution_count": 27,
   "metadata": {},
   "outputs": [
    {
     "data": {
      "text/plain": [
       "535"
      ]
     },
     "execution_count": 27,
     "metadata": {},
     "output_type": "execute_result"
    }
   ],
   "source": [
    "ingredients = [replace_dictionary.get(item, item) for item in ingredients]\n",
    "ingredients = list(set(ingredients))\n",
    "ingredients.sort()\n",
    "len(ingredients)"
   ]
  },
  {
   "cell_type": "code",
   "execution_count": 28,
   "metadata": {},
   "outputs": [
    {
     "data": {
      "text/plain": [
       "115"
      ]
     },
     "execution_count": 28,
     "metadata": {},
     "output_type": "execute_result"
    }
   ],
   "source": [
    "plurals_s = []\n",
    "\n",
    "f = open('plurals_s.txt')\n",
    "for word in f:\n",
    "    plurals_s.append(word.rstrip())\n",
    "    \n",
    "f.close()\n",
    "len(plurals_s)"
   ]
  },
  {
   "cell_type": "code",
   "execution_count": 29,
   "metadata": {},
   "outputs": [
    {
     "data": {
      "text/plain": [
       "535"
      ]
     },
     "execution_count": 29,
     "metadata": {},
     "output_type": "execute_result"
    }
   ],
   "source": [
    "ingredients = [item[:-1] if item in plurals_s else item for item in ingredients]\n",
    "len(ingredients)"
   ]
  },
  {
   "cell_type": "code",
   "execution_count": 30,
   "metadata": {},
   "outputs": [
    {
     "data": {
      "text/plain": [
       "534"
      ]
     },
     "execution_count": 30,
     "metadata": {},
     "output_type": "execute_result"
    }
   ],
   "source": [
    "ingredients.remove('half-and-half')\n",
    "len(ingredients)"
   ]
  },
  {
   "cell_type": "code",
   "execution_count": 31,
   "metadata": {},
   "outputs": [],
   "source": [
    "def transformer(text):  \n",
    "    \n",
    "    tokens = nltk.word_tokenize(text.lower())\n",
    "    tags = nltk.pos_tag(tokens)\n",
    "    items = [word for word, pos in tags \n",
    "             if (pos == 'NN' \n",
    "                 or pos == 'NNP' \n",
    "                 or pos == 'NNS' \n",
    "                 or pos == 'NNPS')]\n",
    "    \n",
    "    items = [item[:-1] if item[-1]==',' else item for item in items]\n",
    "    items = [replace_dictionary.get(item, item) for item in items]\n",
    "    items = [item[:-1] if item in plurals_s else item for item in items]\n",
    "    items = [item for item in items if item in ingredients]\n",
    "    items_text = ' '.join(items)\n",
    "\n",
    "    return items_text\n",
    "    "
   ]
  },
  {
   "cell_type": "code",
   "execution_count": 32,
   "metadata": {},
   "outputs": [
    {
     "data": {
      "text/plain": [
       "'potato cumin coriander'"
      ]
     },
     "execution_count": 32,
     "metadata": {},
     "output_type": "execute_result"
    }
   ],
   "source": [
    "transformer(\"Does it have any ingredient in it? What about potato cumin and coriander\")"
   ]
  },
  {
   "cell_type": "code",
   "execution_count": 33,
   "metadata": {},
   "outputs": [
    {
     "data": {
      "text/plain": [
       "0                                      wheat flour oil\n",
       "1    oil onion beef clove ginger root serrano chili...\n",
       "2                                sugar butter ghee egg\n",
       "3    chickpea bean salt soda onion clove garlic gin...\n",
       "4         grape tomato onion cilantro lemon juice mint\n",
       "Name: ingredients_proper, dtype: object"
      ]
     },
     "execution_count": 33,
     "metadata": {},
     "output_type": "execute_result"
    }
   ],
   "source": [
    "df['ingredients_proper'] = \\\n",
    "df['ingredients_string'].apply(transformer)\n",
    "df['ingredients_proper'].head()"
   ]
  },
  {
   "cell_type": "code",
   "execution_count": 34,
   "metadata": {},
   "outputs": [
    {
     "data": {
      "text/html": [
       "<div>\n",
       "<style scoped>\n",
       "    .dataframe tbody tr th:only-of-type {\n",
       "        vertical-align: middle;\n",
       "    }\n",
       "\n",
       "    .dataframe tbody tr th {\n",
       "        vertical-align: top;\n",
       "    }\n",
       "\n",
       "    .dataframe thead th {\n",
       "        text-align: right;\n",
       "    }\n",
       "</style>\n",
       "<table border=\"1\" class=\"dataframe\">\n",
       "  <thead>\n",
       "    <tr style=\"text-align: right;\">\n",
       "      <th></th>\n",
       "      <th>class</th>\n",
       "      <th>ingredients_string</th>\n",
       "      <th>name</th>\n",
       "      <th>url</th>\n",
       "      <th>ingredients_proper</th>\n",
       "    </tr>\n",
       "  </thead>\n",
       "  <tbody>\n",
       "    <tr>\n",
       "      <th>0</th>\n",
       "      <td>Indian</td>\n",
       "      <td>1 cup whole wheat flour 1 cup all-purpose flou...</td>\n",
       "      <td>Indian Chapati Bread</td>\n",
       "      <td>https://www.allrecipes.com/recipe/85469/indian...</td>\n",
       "      <td>wheat flour oil</td>\n",
       "    </tr>\n",
       "    <tr>\n",
       "      <th>1</th>\n",
       "      <td>Indian</td>\n",
       "      <td>2 tablespoons extra-virgin olive oil 1 extra-l...</td>\n",
       "      <td>Keema Aloo Ground Beef And Potatoes</td>\n",
       "      <td>https://www.allrecipes.com/recipe/231026/keema...</td>\n",
       "      <td>oil onion beef clove ginger root serrano chili...</td>\n",
       "    </tr>\n",
       "    <tr>\n",
       "      <th>2</th>\n",
       "      <td>Indian</td>\n",
       "      <td>3/4 cup warm water 1 teaspoon salt 1 pinch whi...</td>\n",
       "      <td>Roti Canaiparatha Indian Pancake</td>\n",
       "      <td>https://www.allrecipes.com/recipe/247233/roti-...</td>\n",
       "      <td>sugar butter ghee egg</td>\n",
       "    </tr>\n",
       "    <tr>\n",
       "      <th>3</th>\n",
       "      <td>Indian</td>\n",
       "      <td>1 cup dried black chickpeas (garbanzo beans) 1...</td>\n",
       "      <td>Black Chana With Potato</td>\n",
       "      <td>https://www.allrecipes.com/recipe/246179/black...</td>\n",
       "      <td>chickpea bean salt soda onion clove garlic gin...</td>\n",
       "    </tr>\n",
       "    <tr>\n",
       "      <th>4</th>\n",
       "      <td>Indian</td>\n",
       "      <td>1 cup halved grape tomatoes 1 cup diced cucumb...</td>\n",
       "      <td>Tomato Cucumber Kachumbar</td>\n",
       "      <td>https://www.allrecipes.com/recipe/256599/tomat...</td>\n",
       "      <td>grape tomato onion cilantro lemon juice mint</td>\n",
       "    </tr>\n",
       "  </tbody>\n",
       "</table>\n",
       "</div>"
      ],
      "text/plain": [
       "    class                                 ingredients_string  \\\n",
       "0  Indian  1 cup whole wheat flour 1 cup all-purpose flou...   \n",
       "1  Indian  2 tablespoons extra-virgin olive oil 1 extra-l...   \n",
       "2  Indian  3/4 cup warm water 1 teaspoon salt 1 pinch whi...   \n",
       "3  Indian  1 cup dried black chickpeas (garbanzo beans) 1...   \n",
       "4  Indian  1 cup halved grape tomatoes 1 cup diced cucumb...   \n",
       "\n",
       "                                  name  \\\n",
       "0                 Indian Chapati Bread   \n",
       "1  Keema Aloo Ground Beef And Potatoes   \n",
       "2     Roti Canaiparatha Indian Pancake   \n",
       "3              Black Chana With Potato   \n",
       "4            Tomato Cucumber Kachumbar   \n",
       "\n",
       "                                                 url  \\\n",
       "0  https://www.allrecipes.com/recipe/85469/indian...   \n",
       "1  https://www.allrecipes.com/recipe/231026/keema...   \n",
       "2  https://www.allrecipes.com/recipe/247233/roti-...   \n",
       "3  https://www.allrecipes.com/recipe/246179/black...   \n",
       "4  https://www.allrecipes.com/recipe/256599/tomat...   \n",
       "\n",
       "                                  ingredients_proper  \n",
       "0                                    wheat flour oil  \n",
       "1  oil onion beef clove ginger root serrano chili...  \n",
       "2                              sugar butter ghee egg  \n",
       "3  chickpea bean salt soda onion clove garlic gin...  \n",
       "4       grape tomato onion cilantro lemon juice mint  "
      ]
     },
     "execution_count": 34,
     "metadata": {},
     "output_type": "execute_result"
    }
   ],
   "source": [
    "df.head()"
   ]
  },
  {
   "cell_type": "code",
   "execution_count": 153,
   "metadata": {},
   "outputs": [],
   "source": [
    "np.random.seed(0)"
   ]
  },
  {
   "cell_type": "code",
   "execution_count": 35,
   "metadata": {},
   "outputs": [
    {
     "data": {
      "text/plain": [
       "(1710, 5)"
      ]
     },
     "execution_count": 35,
     "metadata": {},
     "output_type": "execute_result"
    }
   ],
   "source": [
    "df.shape"
   ]
  },
  {
   "cell_type": "code",
   "execution_count": 36,
   "metadata": {},
   "outputs": [],
   "source": [
    "from sklearn.feature_extraction.text import TfidfVectorizer"
   ]
  },
  {
   "cell_type": "code",
   "execution_count": 37,
   "metadata": {},
   "outputs": [],
   "source": [
    "vec = TfidfVectorizer(ngram_range=(1,2))"
   ]
  },
  {
   "cell_type": "code",
   "execution_count": 38,
   "metadata": {},
   "outputs": [
    {
     "data": {
      "text/plain": [
       "<1710x4823 sparse matrix of type '<class 'numpy.float64'>'\n",
       "\twith 27381 stored elements in Compressed Sparse Row format>"
      ]
     },
     "execution_count": 38,
     "metadata": {},
     "output_type": "execute_result"
    }
   ],
   "source": [
    "X = vec.fit_transform(df['ingredients_proper'])\n",
    "X"
   ]
  },
  {
   "cell_type": "code",
   "execution_count": 39,
   "metadata": {},
   "outputs": [],
   "source": [
    "X = pd.DataFrame(X.toarray(), columns=vec.get_feature_names())"
   ]
  },
  {
   "cell_type": "code",
   "execution_count": 40,
   "metadata": {},
   "outputs": [
    {
     "data": {
      "text/html": [
       "<div>\n",
       "<style scoped>\n",
       "    .dataframe tbody tr th:only-of-type {\n",
       "        vertical-align: middle;\n",
       "    }\n",
       "\n",
       "    .dataframe tbody tr th {\n",
       "        vertical-align: top;\n",
       "    }\n",
       "\n",
       "    .dataframe thead th {\n",
       "        text-align: right;\n",
       "    }\n",
       "</style>\n",
       "<table border=\"1\" class=\"dataframe\">\n",
       "  <thead>\n",
       "    <tr style=\"text-align: right;\">\n",
       "      <th></th>\n",
       "      <th>ajwain</th>\n",
       "      <th>ajwain clove</th>\n",
       "      <th>allspice</th>\n",
       "      <th>allspice berry</th>\n",
       "      <th>allspice cardamom</th>\n",
       "      <th>allspice lemon</th>\n",
       "      <th>allspice salt</th>\n",
       "      <th>allspice sesame</th>\n",
       "      <th>almond</th>\n",
       "      <th>almond allspice</th>\n",
       "      <th>...</th>\n",
       "      <th>zucchini lengthwise</th>\n",
       "      <th>zucchini mushroom</th>\n",
       "      <th>zucchini oil</th>\n",
       "      <th>zucchini onion</th>\n",
       "      <th>zucchini pea</th>\n",
       "      <th>zucchini rice</th>\n",
       "      <th>zucchini salt</th>\n",
       "      <th>zucchini squash</th>\n",
       "      <th>zucchini tomato</th>\n",
       "      <th>zucchini walnut</th>\n",
       "    </tr>\n",
       "  </thead>\n",
       "  <tbody>\n",
       "    <tr>\n",
       "      <th>806</th>\n",
       "      <td>0.0</td>\n",
       "      <td>0.0</td>\n",
       "      <td>0.0</td>\n",
       "      <td>0.0</td>\n",
       "      <td>0.0</td>\n",
       "      <td>0.0</td>\n",
       "      <td>0.0</td>\n",
       "      <td>0.0</td>\n",
       "      <td>0.0</td>\n",
       "      <td>0.0</td>\n",
       "      <td>...</td>\n",
       "      <td>0.0</td>\n",
       "      <td>0.0</td>\n",
       "      <td>0.0</td>\n",
       "      <td>0.0</td>\n",
       "      <td>0.0</td>\n",
       "      <td>0.0</td>\n",
       "      <td>0.0</td>\n",
       "      <td>0.0</td>\n",
       "      <td>0.0</td>\n",
       "      <td>0.0</td>\n",
       "    </tr>\n",
       "  </tbody>\n",
       "</table>\n",
       "<p>1 rows × 4823 columns</p>\n",
       "</div>"
      ],
      "text/plain": [
       "     ajwain  ajwain clove  allspice  allspice berry  allspice cardamom  \\\n",
       "806     0.0           0.0       0.0             0.0                0.0   \n",
       "\n",
       "     allspice lemon  allspice salt  allspice sesame  almond  almond allspice  \\\n",
       "806             0.0            0.0              0.0     0.0              0.0   \n",
       "\n",
       "          ...         zucchini lengthwise  zucchini mushroom  zucchini oil  \\\n",
       "806       ...                         0.0                0.0           0.0   \n",
       "\n",
       "     zucchini onion  zucchini pea  zucchini rice  zucchini salt  \\\n",
       "806             0.0           0.0            0.0            0.0   \n",
       "\n",
       "     zucchini squash  zucchini tomato  zucchini walnut  \n",
       "806              0.0              0.0              0.0  \n",
       "\n",
       "[1 rows x 4823 columns]"
      ]
     },
     "execution_count": 40,
     "metadata": {},
     "output_type": "execute_result"
    }
   ],
   "source": [
    "X.sample()"
   ]
  },
  {
   "cell_type": "code",
   "execution_count": 41,
   "metadata": {},
   "outputs": [
    {
     "data": {
      "text/plain": [
       "class                                                    Middle_eastern\n",
       "ingredients_string    1 red bell pepper, cut into thin strips 3 toma...\n",
       "name                                              Moroccan Shabbat Fish\n",
       "url                   https://www.allrecipes.com/recipe/213243/moroc...\n",
       "ingredients_proper    pepper tomato tilapia fillet chicken cayenne p...\n",
       "Name: 928, dtype: object"
      ]
     },
     "execution_count": 41,
     "metadata": {},
     "output_type": "execute_result"
    }
   ],
   "source": [
    "df.iloc[928]"
   ]
  },
  {
   "cell_type": "code",
   "execution_count": 42,
   "metadata": {},
   "outputs": [
    {
     "data": {
      "text/html": [
       "<div>\n",
       "<style scoped>\n",
       "    .dataframe tbody tr th:only-of-type {\n",
       "        vertical-align: middle;\n",
       "    }\n",
       "\n",
       "    .dataframe tbody tr th {\n",
       "        vertical-align: top;\n",
       "    }\n",
       "\n",
       "    .dataframe thead th {\n",
       "        text-align: right;\n",
       "    }\n",
       "</style>\n",
       "<table border=\"1\" class=\"dataframe\">\n",
       "  <thead>\n",
       "    <tr style=\"text-align: right;\">\n",
       "      <th></th>\n",
       "      <th>class</th>\n",
       "      <th>ingredients_string</th>\n",
       "      <th>name</th>\n",
       "      <th>url</th>\n",
       "      <th>ingredients_proper</th>\n",
       "      <th>ajwain</th>\n",
       "      <th>ajwain clove</th>\n",
       "      <th>allspice</th>\n",
       "      <th>allspice berry</th>\n",
       "      <th>allspice cardamom</th>\n",
       "      <th>...</th>\n",
       "      <th>zucchini lengthwise</th>\n",
       "      <th>zucchini mushroom</th>\n",
       "      <th>zucchini oil</th>\n",
       "      <th>zucchini onion</th>\n",
       "      <th>zucchini pea</th>\n",
       "      <th>zucchini rice</th>\n",
       "      <th>zucchini salt</th>\n",
       "      <th>zucchini squash</th>\n",
       "      <th>zucchini tomato</th>\n",
       "      <th>zucchini walnut</th>\n",
       "    </tr>\n",
       "  </thead>\n",
       "  <tbody>\n",
       "    <tr>\n",
       "      <th>36</th>\n",
       "      <td>Indian</td>\n",
       "      <td>1 tablespoon butter 1 onion, chopped 1 (10.75 ...</td>\n",
       "      <td>Keons Slow Cooker Curry Chicken</td>\n",
       "      <td>https://www.allrecipes.com/recipe/213140/keons...</td>\n",
       "      <td>butter onion cream mushroom cream chicken milk...</td>\n",
       "      <td>0.0</td>\n",
       "      <td>0.0</td>\n",
       "      <td>0.0</td>\n",
       "      <td>0.0</td>\n",
       "      <td>0.0</td>\n",
       "      <td>...</td>\n",
       "      <td>0.0</td>\n",
       "      <td>0.0</td>\n",
       "      <td>0.0</td>\n",
       "      <td>0.0</td>\n",
       "      <td>0.0</td>\n",
       "      <td>0.0</td>\n",
       "      <td>0.0</td>\n",
       "      <td>0.0</td>\n",
       "      <td>0.0</td>\n",
       "      <td>0.0</td>\n",
       "    </tr>\n",
       "  </tbody>\n",
       "</table>\n",
       "<p>1 rows × 4828 columns</p>\n",
       "</div>"
      ],
      "text/plain": [
       "     class                                 ingredients_string  \\\n",
       "36  Indian  1 tablespoon butter 1 onion, chopped 1 (10.75 ...   \n",
       "\n",
       "                               name  \\\n",
       "36  Keons Slow Cooker Curry Chicken   \n",
       "\n",
       "                                                  url  \\\n",
       "36  https://www.allrecipes.com/recipe/213140/keons...   \n",
       "\n",
       "                                   ingredients_proper  ajwain  ajwain clove  \\\n",
       "36  butter onion cream mushroom cream chicken milk...     0.0           0.0   \n",
       "\n",
       "    allspice  allspice berry  allspice cardamom       ...         \\\n",
       "36       0.0             0.0                0.0       ...          \n",
       "\n",
       "    zucchini lengthwise  zucchini mushroom  zucchini oil  zucchini onion  \\\n",
       "36                  0.0                0.0           0.0             0.0   \n",
       "\n",
       "    zucchini pea  zucchini rice  zucchini salt  zucchini squash  \\\n",
       "36           0.0            0.0            0.0              0.0   \n",
       "\n",
       "    zucchini tomato  zucchini walnut  \n",
       "36              0.0              0.0  \n",
       "\n",
       "[1 rows x 4828 columns]"
      ]
     },
     "execution_count": 42,
     "metadata": {},
     "output_type": "execute_result"
    }
   ],
   "source": [
    "df = pd.concat([df, X], axis=1)\n",
    "df.sample()"
   ]
  },
  {
   "cell_type": "code",
   "execution_count": 43,
   "metadata": {},
   "outputs": [],
   "source": [
    "X = df.iloc[:, 5:].values"
   ]
  },
  {
   "cell_type": "code",
   "execution_count": 44,
   "metadata": {},
   "outputs": [],
   "source": [
    "def class_values(text):\n",
    "    if text == 'Indian': return 0\n",
    "    if text == 'Middle_eastern': return 1\n",
    "    if text == 'French': return 2\n",
    "    "
   ]
  },
  {
   "cell_type": "code",
   "execution_count": 45,
   "metadata": {},
   "outputs": [
    {
     "data": {
      "text/plain": [
       "2"
      ]
     },
     "execution_count": 45,
     "metadata": {},
     "output_type": "execute_result"
    }
   ],
   "source": [
    "class_values('French')"
   ]
  },
  {
   "cell_type": "code",
   "execution_count": 46,
   "metadata": {
    "scrolled": true
   },
   "outputs": [],
   "source": [
    "y = df['class'].apply(class_values)"
   ]
  },
  {
   "cell_type": "code",
   "execution_count": 48,
   "metadata": {},
   "outputs": [],
   "source": [
    "from sklearn.model_selection import train_test_split"
   ]
  },
  {
   "cell_type": "code",
   "execution_count": 49,
   "metadata": {},
   "outputs": [],
   "source": [
    "Xtrain, Xtest, ytrain, ytest = train_test_split(X, y)"
   ]
  },
  {
   "cell_type": "markdown",
   "metadata": {},
   "source": [
    "### PCA"
   ]
  },
  {
   "cell_type": "code",
   "execution_count": 50,
   "metadata": {},
   "outputs": [
    {
     "data": {
      "image/png": "[encoded data removed]",
      "text/plain": [
       "<Figure size 464.875x360 with 1 Axes>"
      ]
     },
     "metadata": {},
     "output_type": "display_data"
    }
   ],
   "source": [
    "from sklearn.decomposition import PCA\n",
    "pca = PCA(n_components=2)\n",
    "pca.fit(X)\n",
    "X2D = pca.transform(X)\n",
    "\n",
    "df['PCA1'] = X2D[:, 0]\n",
    "df['PCA2'] = X2D[:, 1]\n",
    "df['class_num'] = y\n",
    "\n",
    "sns.lmplot('PCA1', 'PCA2', data=df, hue='class', fit_reg=False);"
   ]
  },
  {
   "cell_type": "code",
   "execution_count": 51,
   "metadata": {},
   "outputs": [],
   "source": [
    "pca = PCA(n_components=5)\n",
    "pca.fit(X)\n",
    "X5D = pca.transform(X)\n",
    "\n",
    "df['PCA1'] = X5D[:, 0]\n",
    "df['PCA2'] = X5D[:, 1]\n",
    "df['PCA3'] = X5D[:, 2]\n",
    "df['PCA4'] = X5D[:, 3]\n",
    "df['PCA5'] = X5D[:, 4]"
   ]
  },
  {
   "cell_type": "code",
   "execution_count": 52,
   "metadata": {},
   "outputs": [
    {
     "data": {
      "image/png": "[encoded data removed]",
      "text/plain": [
       "<Figure size 1004.88x900 with 30 Axes>"
      ]
     },
     "metadata": {},
     "output_type": "display_data"
    }
   ],
   "source": [
    "df_for_pp = df[['PCA1', 'PCA2', 'PCA3', 'PCA4', 'PCA5', 'class']]\n",
    "sns.pairplot(df_for_pp, hue='class');"
   ]
  },
  {
   "cell_type": "markdown",
   "metadata": {},
   "source": [
    "### Isomap"
   ]
  },
  {
   "cell_type": "code",
   "execution_count": 53,
   "metadata": {},
   "outputs": [
    {
     "data": {
      "image/png": "[encoded data removed]",
      "text/plain": [
       "<Figure size 464.875x360 with 1 Axes>"
      ]
     },
     "metadata": {},
     "output_type": "display_data"
    }
   ],
   "source": [
    "from sklearn.manifold import Isomap\n",
    "iso = Isomap(n_components=2)\n",
    "iso.fit(X)\n",
    "X2D = iso.transform(X)\n",
    "\n",
    "df['ISO1'] = X2D[:, 0]\n",
    "df['ISO2'] = X2D[:, 1]\n",
    "df['class_num'] = y\n",
    "\n",
    "sns.lmplot('ISO1', 'ISO2', data=df, hue='class', fit_reg=False);"
   ]
  },
  {
   "cell_type": "markdown",
   "metadata": {},
   "source": [
    "### Gaussian Naive Bayes"
   ]
  },
  {
   "cell_type": "code",
   "execution_count": 54,
   "metadata": {},
   "outputs": [
    {
     "data": {
      "text/plain": [
       "0.7219626168224299"
      ]
     },
     "execution_count": 54,
     "metadata": {},
     "output_type": "execute_result"
    }
   ],
   "source": [
    "from sklearn.naive_bayes import GaussianNB\n",
    "nb = GaussianNB()\n",
    "nb.fit(Xtrain, ytrain)\n",
    "ypred = nb.predict(Xtest)\n",
    "\n",
    "from sklearn.metrics import accuracy_score\n",
    "accuracy_score(ytest, ypred)"
   ]
  },
  {
   "cell_type": "markdown",
   "metadata": {},
   "source": [
    "### Multinomial Naive Bayes"
   ]
  },
  {
   "cell_type": "code",
   "execution_count": 55,
   "metadata": {},
   "outputs": [
    {
     "data": {
      "text/plain": [
       "0.7336448598130841"
      ]
     },
     "execution_count": 55,
     "metadata": {},
     "output_type": "execute_result"
    }
   ],
   "source": [
    "from sklearn.naive_bayes import MultinomialNB\n",
    "mnb = MultinomialNB()\n",
    "mnb.fit(Xtrain, ytrain)\n",
    "ypred = mnb.predict(Xtest)\n",
    "\n",
    "from sklearn.metrics import accuracy_score\n",
    "accuracy_score(ytest, ypred)"
   ]
  },
  {
   "cell_type": "code",
   "execution_count": 56,
   "metadata": {},
   "outputs": [
    {
     "data": {
      "text/plain": [
       "Text(92.68,0.5,'Predicted class')"
      ]
     },
     "execution_count": 56,
     "metadata": {},
     "output_type": "execute_result"
    },
    {
     "data": {
      "image/png": "[encoded data removed]",
      "text/plain": [
       "<Figure size 432x288 with 1 Axes>"
      ]
     },
     "metadata": {},
     "output_type": "display_data"
    }
   ],
   "source": [
    "from sklearn.metrics import confusion_matrix\n",
    "mat = confusion_matrix(ytest, ypred)\n",
    "sns.heatmap(mat.T, square=True, annot=True, fmt='d', cbar=False,\n",
    "           xticklabels=['Indian', 'Middle_eastern', 'French'], \n",
    "           yticklabels=['Indian', 'Middle_eastern', 'French'])\n",
    "plt.xlabel('True class')\n",
    "plt.ylabel('Predicted class')"
   ]
  },
  {
   "cell_type": "markdown",
   "metadata": {},
   "source": [
    "### Logistic Regression"
   ]
  },
  {
   "cell_type": "code",
   "execution_count": 57,
   "metadata": {},
   "outputs": [
    {
     "data": {
      "text/plain": [
       "0.7897196261682243"
      ]
     },
     "execution_count": 57,
     "metadata": {},
     "output_type": "execute_result"
    }
   ],
   "source": [
    "from sklearn.linear_model import LogisticRegression\n",
    "lr = LogisticRegression()\n",
    "lr.fit(Xtrain, ytrain)\n",
    "ypred = lr.predict(Xtest)\n",
    "\n",
    "from sklearn.metrics import accuracy_score\n",
    "accuracy_score(ytest, ypred)"
   ]
  },
  {
   "cell_type": "code",
   "execution_count": 58,
   "metadata": {},
   "outputs": [
    {
     "data": {
      "image/png": "[encoded data removed]",
      "text/plain": [
       "<Figure size 432x288 with 1 Axes>"
      ]
     },
     "metadata": {},
     "output_type": "display_data"
    }
   ],
   "source": [
    "from sklearn.metrics import confusion_matrix\n",
    "mat = confusion_matrix(ytest, ypred)\n",
    "sns.heatmap(mat.T, square=True, annot=True, fmt='d', cbar=False,\n",
    "           xticklabels=['Indian', 'Middle_eastern', 'French'], \n",
    "           yticklabels=['Indian', 'Middle_eastern', 'French'])\n",
    "plt.xlabel('True class')\n",
    "plt.ylabel('Predicted class');"
   ]
  },
  {
   "cell_type": "markdown",
   "metadata": {},
   "source": [
    "### Decision trees and random forests"
   ]
  },
  {
   "cell_type": "code",
   "execution_count": 59,
   "metadata": {},
   "outputs": [],
   "source": [
    "from sklearn.tree import DecisionTreeClassifier\n",
    "tree = DecisionTreeClassifier().fit(Xtrain, ytrain)"
   ]
  },
  {
   "cell_type": "code",
   "execution_count": 60,
   "metadata": {},
   "outputs": [
    {
     "data": {
      "text/plain": [
       "0.719626168224299"
      ]
     },
     "execution_count": 60,
     "metadata": {},
     "output_type": "execute_result"
    }
   ],
   "source": [
    "ypred = tree.predict(Xtest)\n",
    "accuracy_score(ytest, ypred)"
   ]
  },
  {
   "cell_type": "code",
   "execution_count": 61,
   "metadata": {},
   "outputs": [],
   "source": [
    "from sklearn.ensemble import RandomForestClassifier"
   ]
  },
  {
   "cell_type": "code",
   "execution_count": 63,
   "metadata": {},
   "outputs": [
    {
     "data": {
      "text/plain": [
       "0.7032710280373832"
      ]
     },
     "execution_count": 63,
     "metadata": {},
     "output_type": "execute_result"
    }
   ],
   "source": [
    "rfc = RandomForestClassifier(n_estimators=100, max_depth=10)\n",
    "rfc.fit(Xtrain, ytrain)\n",
    "ypred = rfc.predict(Xtest)\n",
    "accuracy_score(ytest, ypred)"
   ]
  },
  {
   "cell_type": "code",
   "execution_count": 64,
   "metadata": {},
   "outputs": [
    {
     "data": {
      "text/plain": [
       "Text(92.68,0.5,'Predicted class')"
      ]
     },
     "execution_count": 64,
     "metadata": {},
     "output_type": "execute_result"
    },
    {
     "data": {
      "image/png": "[encoded data removed]",
      "text/plain": [
       "<Figure size 432x288 with 1 Axes>"
      ]
     },
     "metadata": {},
     "output_type": "display_data"
    }
   ],
   "source": [
    "mat = confusion_matrix(ytest, ypred)\n",
    "sns.heatmap(mat.T, square=True, annot=True, fmt='d', cbar=False,\n",
    "           xticklabels=['Indian', 'Middle_eastern', 'French'], \n",
    "           yticklabels=['Indian', 'Middle_eastern', 'French'])\n",
    "plt.xlabel('True class')\n",
    "plt.ylabel('Predicted class')"
   ]
  },
  {
   "cell_type": "markdown",
   "metadata": {},
   "source": [
    "## Grid search"
   ]
  },
  {
   "cell_type": "code",
   "execution_count": 65,
   "metadata": {},
   "outputs": [
    {
     "data": {
      "text/plain": [
       "GridSearchCV(cv=5, error_score='raise',\n",
       "       estimator=LogisticRegression(C=1.0, class_weight=None, dual=False, fit_intercept=True,\n",
       "          intercept_scaling=1, max_iter=100, multi_class='ovr', n_jobs=1,\n",
       "          penalty='l2', random_state=None, solver='liblinear', tol=0.0001,\n",
       "          verbose=0, warm_start=False),\n",
       "       fit_params=None, iid=True, n_jobs=1,\n",
       "       param_grid={'penalty': ['l1', 'l2'], 'C': [0.1, 1.0, 10.0, 100.0], 'fit_intercept': [False, True], 'max_iter': [50, 100, 200]},\n",
       "       pre_dispatch='2*n_jobs', refit=True, return_train_score='warn',\n",
       "       scoring='accuracy', verbose=0)"
      ]
     },
     "execution_count": 65,
     "metadata": {},
     "output_type": "execute_result"
    }
   ],
   "source": [
    "from sklearn.model_selection import GridSearchCV\n",
    "\n",
    "param_grid = {'penalty': ['l1', 'l2'],\n",
    "              'C': [0.10, 1.0, 10., 100.],\n",
    "              'fit_intercept': [False, True],\n",
    "              'max_iter': [50, 100, 200]}\n",
    "\n",
    "gs = GridSearchCV(estimator=LogisticRegression(),\n",
    "                 param_grid = param_grid,\n",
    "                 scoring='accuracy',\n",
    "                 cv=5)\n",
    "\n",
    "gs.fit(Xtrain, ytrain)"
   ]
  },
  {
   "cell_type": "code",
   "execution_count": 66,
   "metadata": {},
   "outputs": [
    {
     "data": {
      "text/plain": [
       "{'C': 10.0, 'fit_intercept': False, 'max_iter': 50, 'penalty': 'l2'}"
      ]
     },
     "execution_count": 66,
     "metadata": {},
     "output_type": "execute_result"
    }
   ],
   "source": [
    "gs.best_params_"
   ]
  },
  {
   "cell_type": "code",
   "execution_count": 67,
   "metadata": {},
   "outputs": [
    {
     "data": {
      "text/plain": [
       "0.7940717628705148"
      ]
     },
     "execution_count": 67,
     "metadata": {},
     "output_type": "execute_result"
    }
   ],
   "source": [
    "gs.best_score_"
   ]
  },
  {
   "cell_type": "code",
   "execution_count": 68,
   "metadata": {},
   "outputs": [],
   "source": [
    "clf = gs.best_estimator_"
   ]
  },
  {
   "cell_type": "code",
   "execution_count": 69,
   "metadata": {},
   "outputs": [
    {
     "data": {
      "text/plain": [
       "0.7990654205607477"
      ]
     },
     "execution_count": 69,
     "metadata": {},
     "output_type": "execute_result"
    }
   ],
   "source": [
    "clf.score(Xtest, ytest)"
   ]
  },
  {
   "cell_type": "code",
   "execution_count": null,
   "metadata": {},
   "outputs": [],
   "source": []
  },
  {
   "cell_type": "code",
   "execution_count": null,
   "metadata": {},
   "outputs": [],
   "source": []
  },
  {
   "cell_type": "code",
   "execution_count": null,
   "metadata": {},
   "outputs": [],
   "source": []
  },
  {
   "cell_type": "code",
   "execution_count": null,
   "metadata": {},
   "outputs": [],
   "source": []
  },
  {
   "cell_type": "code",
   "execution_count": null,
   "metadata": {},
   "outputs": [],
   "source": []
  },
  {
   "cell_type": "code",
   "execution_count": null,
   "metadata": {},
   "outputs": [],
   "source": []
  },
  {
   "cell_type": "code",
   "execution_count": null,
   "metadata": {},
   "outputs": [],
   "source": []
  },
  {
   "cell_type": "code",
   "execution_count": null,
   "metadata": {},
   "outputs": [],
   "source": []
  },
  {
   "cell_type": "code",
   "execution_count": null,
   "metadata": {},
   "outputs": [],
   "source": []
  },
  {
   "cell_type": "code",
   "execution_count": null,
   "metadata": {},
   "outputs": [],
   "source": []
  },
  {
   "cell_type": "code",
   "execution_count": null,
   "metadata": {},
   "outputs": [],
   "source": []
  },
  {
   "cell_type": "code",
   "execution_count": null,
   "metadata": {},
   "outputs": [],
   "source": []
  },
  {
   "cell_type": "code",
   "execution_count": null,
   "metadata": {},
   "outputs": [],
   "source": []
  },
  {
   "cell_type": "code",
   "execution_count": null,
   "metadata": {},
   "outputs": [],
   "source": []
  },
  {
   "cell_type": "markdown",
   "metadata": {},
   "source": [
    "### I. Get all URLs, store them in a list"
   ]
  },
  {
   "cell_type": "markdown",
   "metadata": {},
   "source": [
    "#### Number and format"
   ]
  },
  {
   "cell_type": "code",
   "execution_count": 3,
   "metadata": {},
   "outputs": [],
   "source": [
    "NUM_PAGES_FRANCE = 25\n",
    "base_url_France = \"https://www.allrecipes.com/recipes/721/\" + \\\n",
    "                 \"world-cuisine/european/french/?page=\"\n"
   ]
  },
  {
   "cell_type": "markdown",
   "metadata": {},
   "source": [
    "#### Libraries"
   ]
  },
  {
   "cell_type": "code",
   "execution_count": 4,
   "metadata": {},
   "outputs": [],
   "source": [
    "import requests\n",
    "import bs4"
   ]
  },
  {
   "cell_type": "markdown",
   "metadata": {},
   "source": [
    "#### Function to get the urls from a page"
   ]
  },
  {
   "cell_type": "code",
   "execution_count": 5,
   "metadata": {},
   "outputs": [],
   "source": [
    "def recipe_urls_in_a_page(url):\n",
    "    \"\"\"Given an webpage url returns a list of \n",
    "    recipe urls in the webpage\n",
    "    (CAUTION: Applies to allrecipes.com only)\"\"\"\n",
    "    \n",
    "    res = requests.get(url)\n",
    "    res.raise_for_status()\n",
    "    \n",
    "    soup = bs4.BeautifulSoup(res.text, \"lxml\")\n",
    "    elems = soup.find_all('article', class_ = \"fixed-recipe-card\")\n",
    "    recipe_urls = [elem.find_all('a')[0].get('href') for elem in elems]\n",
    "    \n",
    "    return recipe_urls"
   ]
  },
  {
   "cell_type": "markdown",
   "metadata": {},
   "source": [
    "#### Test!"
   ]
  },
  {
   "cell_type": "code",
   "execution_count": 6,
   "metadata": {},
   "outputs": [
    {
     "data": {
      "text/plain": [
       "['https://www.allrecipes.com/recipe/16602/cordon-bleu-chicken-rolls/',\n",
       " 'https://www.allrecipes.com/recipe/223506/poulet-de-provencal/',\n",
       " 'https://www.allrecipes.com/recipe/246439/gratin-dauphinois-de-solange/',\n",
       " 'https://www.allrecipes.com/recipe/190997/traditional-layered-french-croissants/',\n",
       " 'https://www.allrecipes.com/recipe/83905/calis-sinful-creme-brulee/',\n",
       " 'https://www.allrecipes.com/recipe/16905/beef-bourguignon-ii/',\n",
       " 'https://www.allrecipes.com/recipe/222387/chef-johns-creme-fraiche/',\n",
       " 'https://www.allrecipes.com/recipe/16386/french-onion-soup-v/',\n",
       " 'https://www.allrecipes.com/recipe/239230/chef-johns-coq-au-vin/',\n",
       " 'https://www.allrecipes.com/recipe/8669/chicken-cordon-bleu-ii/',\n",
       " 'https://www.allrecipes.com/recipe/15925/creamy-au-gratin-potatoes/',\n",
       " 'https://www.allrecipes.com/recipe/16383/basic-crepes/',\n",
       " 'https://www.allrecipes.com/recipe/8495/chicken-cordon-bleu-i/',\n",
       " 'https://www.allrecipes.com/recipe/7028/french-baguettes/',\n",
       " 'https://www.allrecipes.com/recipe/91192/french-onion-soup-gratinee/',\n",
       " 'https://www.allrecipes.com/recipe/6882/french-bread/',\n",
       " 'https://www.allrecipes.com/recipe/13309/rich-and-simple-french-onion-soup/',\n",
       " 'https://www.allrecipes.com/recipe/33647/chocolate-ganache/',\n",
       " 'https://www.allrecipes.com/recipe/27188/crepes/',\n",
       " 'https://www.allrecipes.com/recipe/18411/ratatouille/',\n",
       " 'https://www.allrecipes.com/recipe/19037/dessert-crepes/',\n",
       " 'https://www.allrecipes.com/recipe/84214/blender-hollandaise-sauce/',\n",
       " 'https://www.allrecipes.com/recipe/95817/vanilla-crepes/',\n",
       " 'https://www.allrecipes.com/recipe/15075/french-pastry-pie-crust/',\n",
       " 'https://www.allrecipes.com/recipe/20931/french-crepes/',\n",
       " 'https://www.allrecipes.com/recipe/13345/french-beef-stew/',\n",
       " 'https://www.allrecipes.com/recipe/17515/quiche-lorraine-i/']"
      ]
     },
     "execution_count": 6,
     "metadata": {},
     "output_type": "execute_result"
    }
   ],
   "source": [
    "recipe_urls_in_a_page(base_url_France+\"1\")"
   ]
  },
  {
   "cell_type": "markdown",
   "metadata": {},
   "source": [
    "#### Get the Urls!"
   ]
  },
  {
   "cell_type": "code",
   "execution_count": 7,
   "metadata": {},
   "outputs": [],
   "source": [
    "from time import sleep"
   ]
  },
  {
   "cell_type": "code",
   "execution_count": 10,
   "metadata": {},
   "outputs": [
    {
     "name": "stdout",
     "output_type": "stream",
     "text": [
      "Souping page number 1 ,  0  found so far\n",
      "Souping page number 2 ,  27  found so far\n",
      "Souping page number 3 ,  47  found so far\n",
      "Souping page number 4 ,  67  found so far\n",
      "Souping page number 5 ,  87  found so far\n",
      "Souping page number 6 ,  107  found so far\n",
      "Souping page number 7 ,  127  found so far\n",
      "Souping page number 8 ,  147  found so far\n",
      "Souping page number 9 ,  167  found so far\n",
      "Souping page number 10 ,  187  found so far\n",
      "Souping page number 11 ,  207  found so far\n",
      "Souping page number 12 ,  227  found so far\n",
      "Souping page number 13 ,  247  found so far\n",
      "Souping page number 14 ,  267  found so far\n",
      "Souping page number 15 ,  287  found so far\n",
      "Souping page number 16 ,  307  found so far\n",
      "Souping page number 17 ,  327  found so far\n",
      "Souping page number 18 ,  347  found so far\n",
      "Souping page number 19 ,  367  found so far\n",
      "Souping page number 20 ,  387  found so far\n",
      "Souping page number 21 ,  407  found so far\n",
      "Souping page number 22 ,  427  found so far\n",
      "Souping page number 23 ,  447  found so far\n",
      "Souping page number 24 ,  467  found so far\n",
      "Souping page number 25 ,  487  found so far\n"
     ]
    }
   ],
   "source": [
    "recipe_urls_French = []\n",
    "\n",
    "for page_num in range(1, NUM_PAGES_FRANCE + 1):\n",
    "\n",
    "    print('Souping page number', page_num, ', ', \n",
    "          len(recipe_urls_French), ' found so far')\n",
    "    url = base_url_France + str(page_num)\n",
    "    recipe_urls_French.extend(recipe_urls_in_a_page(url))\n",
    "    sleep(10)\n",
    "    "
   ]
  },
  {
   "cell_type": "markdown",
   "metadata": {},
   "source": [
    "#### Write URLs"
   ]
  },
  {
   "cell_type": "code",
   "execution_count": 11,
   "metadata": {},
   "outputs": [],
   "source": [
    "f = open('French_recipes_urls.txt', 'w')\n",
    "for url in recipe_urls_French:\n",
    "    f.write(url+'\\n')\n",
    "f.close()"
   ]
  },
  {
   "cell_type": "markdown",
   "metadata": {},
   "source": [
    "#### Read URLs"
   ]
  },
  {
   "cell_type": "code",
   "execution_count": 12,
   "metadata": {},
   "outputs": [
    {
     "name": "stdout",
     "output_type": "stream",
     "text": [
      "https://www.allrecipes.com/recipe/16602/cordon-bleu-chicken-rolls/\n",
      "https://www.allrecipes.com/recipe/223506/poulet-de-provencal/\n",
      "https://www.allrecipes.com/recipe/246439/gratin-dauphinois-de-solange/\n",
      "https://www.allrecipes.com/recipe/190997/traditional-layered-french-croissants/\n",
      "https://www.allrecipes.com/recipe/83905/calis-sinful-creme-brulee/\n",
      "https://www.allrecipes.com/recipe/16905/beef-bourguignon-ii/\n",
      "https://www.allrecipes.com/recipe/222387/chef-johns-creme-fraiche/\n",
      "https://www.allrecipes.com/recipe/16386/french-onion-soup-v/\n",
      "https://www.allrecipes.com/recipe/239230/chef-johns-coq-au-vin/\n",
      "https://www.allrecipes.com/recipe/8669/chicken-cordon-bleu-ii/\n",
      "https://www.allrecipes.com/recipe/15925/creamy-au-gratin-potatoes/\n"
     ]
    }
   ],
   "source": [
    "f = open('French_recipes_urls.txt')\n",
    "for i, line in enumerate(f):\n",
    "    print(line.rstrip())\n",
    "    if i>9: break\n",
    "f.close()"
   ]
  },
  {
   "cell_type": "markdown",
   "metadata": {},
   "source": [
    "### II. For each URL, get\n",
    "1. name\n",
    "2. ingredients\n",
    "3. url\n",
    "\n",
    "Create a dictionary\n",
    "\n",
    "III. Save the dictionaries in a list ###"
   ]
  },
  {
   "cell_type": "markdown",
   "metadata": {},
   "source": [
    "#### Function for the details from a given URL"
   ]
  },
  {
   "cell_type": "code",
   "execution_count": 22,
   "metadata": {},
   "outputs": [],
   "source": [
    "def recipe_details(url):\n",
    "    \"\"\"Given a url of a recipe returns a list of ingredients\n",
    "    (CAUTION: Applies to allrecipes.com only)\"\"\"    \n",
    "\n",
    "    res = requests.get(url)\n",
    "    res.raise_for_status()\n",
    "    soup = bs4.BeautifulSoup(res.text, \"lxml\")\n",
    "\n",
    "    name = ' '.join(url.split('/')[-2].split('-')).title()\n",
    "    ingredients = []\n",
    "    lines = soup.find_all('li', class_= \"checkList__line\")[:-4]\n",
    "    for line in lines:\n",
    "        item = line.find('label').get('title').split(\" \")\n",
    "        ingredients.extend(item)\n",
    "        \n",
    "    ingredients_string = \" \".join(ingredients)\n",
    "                          \n",
    "    return {\n",
    "        \"name\": name,\n",
    "        \"ingredients_string\": ingredients_string,\n",
    "        \"url\": url}"
   ]
  },
  {
   "cell_type": "markdown",
   "metadata": {},
   "source": [
    "#### Load the list of URLs"
   ]
  },
  {
   "cell_type": "code",
   "execution_count": 14,
   "metadata": {
    "scrolled": true
   },
   "outputs": [
    {
     "data": {
      "text/plain": [
       "['https://www.allrecipes.com/recipe/16602/cordon-bleu-chicken-rolls/',\n",
       " 'https://www.allrecipes.com/recipe/223506/poulet-de-provencal/',\n",
       " 'https://www.allrecipes.com/recipe/246439/gratin-dauphinois-de-solange/']"
      ]
     },
     "execution_count": 14,
     "metadata": {},
     "output_type": "execute_result"
    }
   ],
   "source": [
    "recipes = []\n",
    "f = open('French_recipes_urls.txt')\n",
    "for line in f:\n",
    "    recipes+= [line.rstrip()]\n",
    "    \n",
    "recipes[:3]"
   ]
  },
  {
   "cell_type": "code",
   "execution_count": 18,
   "metadata": {},
   "outputs": [
    {
     "data": {
      "text/plain": [
       "507"
      ]
     },
     "execution_count": 18,
     "metadata": {},
     "output_type": "execute_result"
    }
   ],
   "source": [
    "len(recipes)"
   ]
  },
  {
   "cell_type": "code",
   "execution_count": 15,
   "metadata": {},
   "outputs": [],
   "source": [
    "import timeit"
   ]
  },
  {
   "cell_type": "code",
   "execution_count": 16,
   "metadata": {},
   "outputs": [],
   "source": [
    "import datetime"
   ]
  },
  {
   "cell_type": "code",
   "execution_count": 17,
   "metadata": {},
   "outputs": [
    {
     "name": "stdout",
     "output_type": "stream",
     "text": [
      "Time: 2018-08-06 14:00:46.466253\n"
     ]
    }
   ],
   "source": [
    "print(\"Time: {}\".format(datetime.datetime.now()))"
   ]
  },
  {
   "cell_type": "markdown",
   "metadata": {},
   "source": [
    "### Downloads details from all the urls"
   ]
  },
  {
   "cell_type": "code",
   "execution_count": 30,
   "metadata": {
    "collapsed": true
   },
   "outputs": [
    {
     "name": "stdout",
     "output_type": "stream",
     "text": [
      "Time = 2018-08-06 14:18:21.478563, souping page 0\n",
      "Time = 2018-08-06 14:19:15.207421, souping page 10\n",
      "Time = 2018-08-06 14:20:08.812994, souping page 20\n",
      "Time = 2018-08-06 14:21:02.176635, souping page 30\n",
      "Time = 2018-08-06 14:21:55.201867, souping page 40\n",
      "Time = 2018-08-06 14:22:48.129121, souping page 50\n",
      "Time = 2018-08-06 14:23:41.411881, souping page 60\n",
      "Time = 2018-08-06 14:24:34.674189, souping page 70\n",
      "Time = 2018-08-06 14:25:28.041443, souping page 80\n",
      "Time = 2018-08-06 14:26:22.019374, souping page 90\n",
      "Time = 2018-08-06 14:27:15.025444, souping page 100\n",
      "Time = 2018-08-06 14:28:08.021334, souping page 110\n",
      "Time = 2018-08-06 14:29:01.742550, souping page 120\n",
      "Time = 2018-08-06 14:29:54.924470, souping page 130\n",
      "Time = 2018-08-06 14:30:48.044598, souping page 140\n",
      "Time = 2018-08-06 14:31:41.084725, souping page 150\n",
      "Time = 2018-08-06 14:32:34.144112, souping page 160\n",
      "Time = 2018-08-06 14:33:27.238235, souping page 170\n",
      "Time = 2018-08-06 14:34:20.362167, souping page 180\n",
      "Time = 2018-08-06 14:35:13.717046, souping page 190\n",
      "Time = 2018-08-06 14:36:06.585598, souping page 200\n",
      "Time = 2018-08-06 14:36:59.611515, souping page 210\n",
      "Time = 2018-08-06 14:37:54.023067, souping page 220\n",
      "Time = 2018-08-06 14:38:47.006623, souping page 230\n",
      "Time = 2018-08-06 14:39:40.091201, souping page 240\n",
      "Time = 2018-08-06 14:40:33.626136, souping page 250\n",
      "Time = 2018-08-06 14:41:27.362701, souping page 260\n",
      "Time = 2018-08-06 14:42:20.452886, souping page 270\n",
      "Time = 2018-08-06 14:43:13.872724, souping page 280\n",
      "Time = 2018-08-06 14:44:07.263308, souping page 290\n",
      "Time = 2018-08-06 14:45:00.242482, souping page 300\n",
      "Time = 2018-08-06 14:45:53.781494, souping page 310\n",
      "Time = 2018-08-06 14:46:46.750931, souping page 320\n",
      "Time = 2018-08-06 14:47:39.902774, souping page 330\n",
      "Time = 2018-08-06 14:48:33.142945, souping page 340\n",
      "Time = 2018-08-06 14:49:26.464307, souping page 350\n",
      "Time = 2018-08-06 14:50:19.450681, souping page 360\n",
      "Time = 2018-08-06 14:51:12.777734, souping page 370\n",
      "Time = 2018-08-06 14:52:05.632996, souping page 380\n",
      "Time = 2018-08-06 14:52:58.469759, souping page 390\n",
      "Time = 2018-08-06 14:53:51.637924, souping page 400\n",
      "Time = 2018-08-06 14:54:44.349328, souping page 410\n",
      "Time = 2018-08-06 14:55:37.469754, souping page 420\n",
      "Time = 2018-08-06 14:56:30.371993, souping page 430\n",
      "Time = 2018-08-06 14:57:23.066369, souping page 440\n",
      "Time = 2018-08-06 14:58:15.893756, souping page 450\n",
      "Time = 2018-08-06 14:59:08.604085, souping page 460\n",
      "Time = 2018-08-06 15:00:01.911209, souping page 470\n",
      "Time = 2018-08-06 15:00:55.130785, souping page 480\n",
      "Time = 2018-08-06 15:01:48.024379, souping page 490\n",
      "Time = 2018-08-06 15:02:41.516839, souping page 500\n"
     ]
    }
   ],
   "source": [
    "recipes_in_detail = []\n",
    "f = open('French_recipes_details.txt', 'w')\n",
    "\n",
    "for i, url in enumerate(recipes):\n",
    "    \n",
    "    # if i > 2: break\n",
    "    \n",
    "    if i%10 == 0:\n",
    "        print('Time = {}, souping page {}'.format(datetime.datetime.now(), i))\n",
    "    \n",
    "    recipe = recipe_details(url)\n",
    "    sleep(5)\n",
    "    \n",
    "    recipes_in_detail += [recipe]\n",
    "    f.write(recipe[\"name\"])\n",
    "    f.write(\"\\t\" + recipe[\"ingredients_string\"])\n",
    "    f.write(\"\\t\" + recipe[\"url\"] + \"\\n\")\n",
    "    \n",
    "f.close()\n",
    "# recipes_in_detail"
   ]
  },
  {
   "cell_type": "code",
   "execution_count": 32,
   "metadata": {
    "scrolled": true
   },
   "outputs": [
    {
     "name": "stdout",
     "output_type": "stream",
     "text": [
      "Cordon Bleu Chicken Rolls\t8 skinless, boneless chicken breasts 8 slices cooked ham 4 slices Swiss cheese, cut into 1 inch pieces salt and pepper to taste 1 teaspoon dried thyme 1/4 cup melted butter 1/2 cup cornflakes cereal crumbs 1 (10.75 ounce) can condensed cream of chicken soup 1/2 cup sour cream\thttps://www.allrecipes.com/recipe/16602/cordon-bleu-chicken-rolls/\n",
      "Poulet De Provencal\t2 teaspoons olive oil 1 teaspoon butter 2 1/2 tablespoons balsamic vinegar 2 teaspoons Dijon mustard 3 large cloves garlic, chopped 4 (4 ounce) skinless, boneless chicken breast halves, pounded flat 1/3 cup chicken stock 1 large shallot, chopped 2 cups cremini mushrooms, chopped 1/3 cup chicken stock 1/4 teaspoon herbes de Provence, crumbled 1 1/2 teaspoons balsamic vinegar salt and ground black pepper to taste\thttps://www.allrecipes.com/recipe/223506/poulet-de-provencal/\n",
      "Gratin Dauphinois De Solange\t1 clove garlic, halved 2 pounds potatoes, peeled and thinly sliced 2 1/2 cups heavy whipping cream 2 1/4 cups freshly grated Comte cheese\thttps://www.allrecipes.com/recipe/246439/gratin-dauphinois-de-solange/\n",
      "Traditional Layered French Croissants\t2 tablespoons all-purpose flour 1 1/2 cups unsalted butter, at room temperature 4 cups all-purpose flour, divided 1/2 teaspoon salt 3 tablespoons sugar 2 (.25 ounce) packages active dry yeast 1/4 cup lukewarm water 1 cup milk 1/2 cup heavy cream 1 egg\thttps://www.allrecipes.com/recipe/190997/traditional-layered-french-croissants/\n",
      "Calis Sinful Creme Brulee\t1/2 cup semi-sweet chocolate chips 2 cups heavy cream 1/4 cup white sugar 1 pinch salt 2 teaspoons vanilla extract 5 egg yolks\thttps://www.allrecipes.com/recipe/83905/calis-sinful-creme-brulee/\n"
     ]
    }
   ],
   "source": [
    "f = open('French_recipes_details.txt')\n",
    "for i, line in enumerate(f):\n",
    "    print(line.rstrip())\n",
    "    if i > 3: break\n",
    "    \n",
    "f.close()"
   ]
  },
  {
   "cell_type": "code",
   "execution_count": 29,
   "metadata": {},
   "outputs": [
    {
     "data": {
      "text/plain": [
       "['Gratin Dauphinois De Solange',\n",
       " '1 clove garlic, halved 2 pounds potatoes, peeled and thinly sliced 2 1/2 cups heavy whipping cream 2 1/4 cups freshly grated Comte cheese',\n",
       " 'https://www.allrecipes.com/recipe/246439/gratin-dauphinois-de-solange/']"
      ]
     },
     "execution_count": 29,
     "metadata": {},
     "output_type": "execute_result"
    }
   ],
   "source": [
    "line.rstrip().split(\"\\t\")"
   ]
  },
  {
   "cell_type": "code",
   "execution_count": 33,
   "metadata": {},
   "outputs": [],
   "source": [
    "df_recipes_in_detail = pd.DataFrame(recipes_in_detail)"
   ]
  },
  {
   "cell_type": "code",
   "execution_count": 34,
   "metadata": {},
   "outputs": [
    {
     "data": {
      "text/html": [
       "<div>\n",
       "<style scoped>\n",
       "    .dataframe tbody tr th:only-of-type {\n",
       "        vertical-align: middle;\n",
       "    }\n",
       "\n",
       "    .dataframe tbody tr th {\n",
       "        vertical-align: top;\n",
       "    }\n",
       "\n",
       "    .dataframe thead th {\n",
       "        text-align: right;\n",
       "    }\n",
       "</style>\n",
       "<table border=\"1\" class=\"dataframe\">\n",
       "  <thead>\n",
       "    <tr style=\"text-align: right;\">\n",
       "      <th></th>\n",
       "      <th>ingredients_string</th>\n",
       "      <th>name</th>\n",
       "      <th>url</th>\n",
       "    </tr>\n",
       "  </thead>\n",
       "  <tbody>\n",
       "    <tr>\n",
       "      <th>119</th>\n",
       "      <td>4 eggs 1 teaspoon ground cinnamon 1 teaspoon g...</td>\n",
       "      <td>Uncle Jesses French Toast</td>\n",
       "      <td>https://www.allrecipes.com/recipe/84454/uncle-...</td>\n",
       "    </tr>\n",
       "  </tbody>\n",
       "</table>\n",
       "</div>"
      ],
      "text/plain": [
       "                                    ingredients_string  \\\n",
       "119  4 eggs 1 teaspoon ground cinnamon 1 teaspoon g...   \n",
       "\n",
       "                          name  \\\n",
       "119  Uncle Jesses French Toast   \n",
       "\n",
       "                                                   url  \n",
       "119  https://www.allrecipes.com/recipe/84454/uncle-...  "
      ]
     },
     "execution_count": 34,
     "metadata": {},
     "output_type": "execute_result"
    }
   ],
   "source": [
    "df_recipes_in_detail.sample()"
   ]
  },
  {
   "cell_type": "code",
   "execution_count": 35,
   "metadata": {},
   "outputs": [],
   "source": [
    "df_recipes_in_detail.to_csv('French_recipes_details.csv', index=False)"
   ]
  },
  {
   "cell_type": "code",
   "execution_count": 36,
   "metadata": {},
   "outputs": [],
   "source": [
    "df = pd.read_csv('French_recipes_details.csv')"
   ]
  },
  {
   "cell_type": "code",
   "execution_count": 37,
   "metadata": {},
   "outputs": [
    {
     "data": {
      "text/html": [
       "<div>\n",
       "<style scoped>\n",
       "    .dataframe tbody tr th:only-of-type {\n",
       "        vertical-align: middle;\n",
       "    }\n",
       "\n",
       "    .dataframe tbody tr th {\n",
       "        vertical-align: top;\n",
       "    }\n",
       "\n",
       "    .dataframe thead th {\n",
       "        text-align: right;\n",
       "    }\n",
       "</style>\n",
       "<table border=\"1\" class=\"dataframe\">\n",
       "  <thead>\n",
       "    <tr style=\"text-align: right;\">\n",
       "      <th></th>\n",
       "      <th>ingredients_string</th>\n",
       "      <th>name</th>\n",
       "      <th>url</th>\n",
       "    </tr>\n",
       "  </thead>\n",
       "  <tbody>\n",
       "    <tr>\n",
       "      <th>55</th>\n",
       "      <td>1 recipe pastry for a 9 inch single crust pie ...</td>\n",
       "      <td>Quiche Lorraine Ii</td>\n",
       "      <td>https://www.allrecipes.com/recipe/18477/quiche...</td>\n",
       "    </tr>\n",
       "  </tbody>\n",
       "</table>\n",
       "</div>"
      ],
      "text/plain": [
       "                                   ingredients_string                name  \\\n",
       "55  1 recipe pastry for a 9 inch single crust pie ...  Quiche Lorraine Ii   \n",
       "\n",
       "                                                  url  \n",
       "55  https://www.allrecipes.com/recipe/18477/quiche...  "
      ]
     },
     "execution_count": 37,
     "metadata": {},
     "output_type": "execute_result"
    }
   ],
   "source": [
    "df.sample()"
   ]
  },
  {
   "cell_type": "code",
   "execution_count": 82,
   "metadata": {},
   "outputs": [
    {
     "data": {
      "text/plain": [
       "1258"
      ]
     },
     "execution_count": 82,
     "metadata": {},
     "output_type": "execute_result"
    }
   ],
   "source": [
    "# set of all ingredients\n",
    "# including repetition\n",
    "French_ingredients = []\n",
    "\n",
    "for i, ingredients in enumerate(df['ingredients_string']):\n",
    "    French_ingredients+=ingredients.lower().split(\" \")\n",
    "    # if i > 3: break\n",
    "    \n",
    "# Unique\n",
    "French_ingredients = list(set(French_ingredients))\n",
    "len(French_ingredients)\n"
   ]
  },
  {
   "cell_type": "code",
   "execution_count": 83,
   "metadata": {},
   "outputs": [
    {
     "data": {
      "text/plain": [
       "702"
      ]
     },
     "execution_count": 83,
     "metadata": {},
     "output_type": "execute_result"
    }
   ],
   "source": [
    "# Code help from https://stackoverflow.com/questions/40167612/\n",
    "# how-to-keep-only-the-noun-words-in-a-wordlist-python-nltk\n",
    "text=' '.join(French_ingredients)\n",
    "tokens = nltk.word_tokenize(text)\n",
    "tags = nltk.pos_tag(tokens)\n",
    "\n",
    "# ingredients should be nouns\n",
    "nouns = [word for word, pos in tags \n",
    "         if (pos == 'NN' \n",
    "             or pos == 'NNP' \n",
    "             or pos == 'NNS' \n",
    "             or pos == 'NNPS')]\n",
    "\n",
    "len(nouns)"
   ]
  },
  {
   "cell_type": "code",
   "execution_count": 84,
   "metadata": {},
   "outputs": [
    {
     "data": {
      "text/plain": [
       "559"
      ]
     },
     "execution_count": 84,
     "metadata": {},
     "output_type": "execute_result"
    }
   ],
   "source": [
    "nouns = list(set(nouns))\n",
    "len(nouns)"
   ]
  },
  {
   "cell_type": "code",
   "execution_count": 85,
   "metadata": {},
   "outputs": [
    {
     "data": {
      "text/plain": [
       "['%',\n",
       " 'allspice',\n",
       " 'almond',\n",
       " 'almonds',\n",
       " 'anchovy',\n",
       " 'anise',\n",
       " 'apple',\n",
       " 'apples',\n",
       " 'apricots',\n",
       " 'armagnac']"
      ]
     },
     "execution_count": 85,
     "metadata": {},
     "output_type": "execute_result"
    }
   ],
   "source": [
    "nouns.sort()\n",
    "nouns[:10]"
   ]
  },
  {
   "cell_type": "code",
   "execution_count": 86,
   "metadata": {},
   "outputs": [],
   "source": [
    "French_ingredients = nouns"
   ]
  },
  {
   "cell_type": "code",
   "execution_count": 87,
   "metadata": {},
   "outputs": [],
   "source": [
    "f = open(\"French_ingredients.txt\", 'w')\n",
    "for item in French_ingredients:\n",
    "    f.write(item + '\\n')\n",
    "    \n",
    "f.close()"
   ]
  },
  {
   "cell_type": "code",
   "execution_count": 88,
   "metadata": {},
   "outputs": [
    {
     "name": "stdout",
     "output_type": "stream",
     "text": [
      "%\n",
      "allspice\n",
      "almond\n"
     ]
    }
   ],
   "source": [
    "f = open(\"French_ingredients.txt\")\n",
    "for i, item in enumerate(f):\n",
    "    print(item.rstrip())\n",
    "    if i > 1: break\n",
    "        \n",
    "f.close()"
   ]
  },
  {
   "cell_type": "code",
   "execution_count": 89,
   "metadata": {},
   "outputs": [],
   "source": [
    "French_ingredients_inspected = []"
   ]
  },
  {
   "cell_type": "code",
   "execution_count": 90,
   "metadata": {},
   "outputs": [],
   "source": [
    "f = open(\"French_ingredients_inspected.txt\")\n",
    "for item in f:\n",
    "    French_ingredients_inspected.append(item.rstrip())\n",
    "    \n",
    "f.close()"
   ]
  },
  {
   "cell_type": "code",
   "execution_count": 91,
   "metadata": {},
   "outputs": [
    {
     "data": {
      "text/plain": [
       "401"
      ]
     },
     "execution_count": 91,
     "metadata": {},
     "output_type": "execute_result"
    }
   ],
   "source": [
    "len(French_ingredients_inspected)"
   ]
  },
  {
   "cell_type": "code",
   "execution_count": 97,
   "metadata": {},
   "outputs": [],
   "source": [
    "replace_dictionary = {\"chai\": \"tea\",\n",
    "                      \"creme\": \"cream\",\n",
    "                      \"filet\": \"fillet\",\n",
    "                      \"filets\": \"fillets\",\n",
    "                     }"
   ]
  },
  {
   "cell_type": "code",
   "execution_count": 98,
   "metadata": {},
   "outputs": [
    {
     "data": {
      "text/plain": [
       "401"
      ]
     },
     "execution_count": 98,
     "metadata": {},
     "output_type": "execute_result"
    }
   ],
   "source": [
    "French_ingredients_inspected = [replace_dictionary.get(item, item) \n",
    "                                for item in French_ingredients_inspected]\n",
    "len(French_ingredients_inspected)"
   ]
  },
  {
   "cell_type": "code",
   "execution_count": 103,
   "metadata": {},
   "outputs": [
    {
     "data": {
      "text/plain": [
       "109"
      ]
     },
     "execution_count": 103,
     "metadata": {},
     "output_type": "execute_result"
    }
   ],
   "source": [
    "ends_with_s = [item for item in French_ingredients_inspected if item.endswith('s')]\n",
    "len(ends_with_s)"
   ]
  },
  {
   "cell_type": "code",
   "execution_count": 105,
   "metadata": {},
   "outputs": [
    {
     "data": {
      "text/plain": [
       "292"
      ]
     },
     "execution_count": 105,
     "metadata": {},
     "output_type": "execute_result"
    }
   ],
   "source": [
    "does_not_end_with_s = [item for item in French_ingredients_inspected \n",
    "                       if not item.endswith('s')]\n",
    "len(does_not_end_with_s)"
   ]
  },
  {
   "cell_type": "code",
   "execution_count": 104,
   "metadata": {},
   "outputs": [],
   "source": [
    "non_plurals = ['bass', 'beaujolais', 'boneless', 'jus', 'watercress']\n",
    "\n",
    "plurals_special = {\"berries\": \"berry\",\n",
    "                   \"blackberries\": \"blackberry\",\n",
    "                   \"blueberries\": \"blueberry\",\n",
    "                   \"calves\": \"calf\",\n",
    "                   \"cherries\": \"cherry\",\n",
    "                   \"cranberries\": \"cranberry\",\n",
    "                   \"leaves\": \"leaf\",\n",
    "                   \"potatoes\": \"potato\",\n",
    "                   \"radishes\": \"radish\",\n",
    "                   \"strawberries\": \"strawberry\",\n",
    "                   \"tomatoes\": \"tomato\"\n",
    "                   }\n",
    "\n",
    "plurals_s = [word for word in ends_with_s if word not in non_plurals]\n",
    "plurals_s = [word for word in plurals_s if word not in plurals_special]\n"
   ]
  },
  {
   "cell_type": "code",
   "execution_count": 109,
   "metadata": {},
   "outputs": [
    {
     "data": {
      "text/plain": [
       "402"
      ]
     },
     "execution_count": 109,
     "metadata": {},
     "output_type": "execute_result"
    }
   ],
   "source": [
    "French_ingredients_inspected = \\\n",
    "does_not_end_with_s \\\n",
    "+ non_plurals \\\n",
    "+ list(plurals_special.values()) \\\n",
    "+ [word[:-1] for word in plurals_s]\n",
    "\n",
    "len(French_ingredients_inspected)"
   ]
  },
  {
   "cell_type": "code",
   "execution_count": 110,
   "metadata": {},
   "outputs": [
    {
     "data": {
      "text/plain": [
       "364"
      ]
     },
     "execution_count": 110,
     "metadata": {},
     "output_type": "execute_result"
    }
   ],
   "source": [
    "French_ingredients_inspected = list(set(French_ingredients_inspected))\n",
    "len(French_ingredients_inspected)"
   ]
  },
  {
   "cell_type": "code",
   "execution_count": 112,
   "metadata": {},
   "outputs": [
    {
     "data": {
      "text/plain": [
       "364"
      ]
     },
     "execution_count": 112,
     "metadata": {},
     "output_type": "execute_result"
    }
   ],
   "source": [
    "French_ingredients_inspected.sort()\n",
    "len(French_ingredients_inspected)"
   ]
  },
  {
   "cell_type": "code",
   "execution_count": 113,
   "metadata": {},
   "outputs": [],
   "source": [
    "f = open('French_ingredients_final.txt', 'w')\n",
    "for word in French_ingredients_inspected:\n",
    "    f.write(word + '\\n')\n",
    "    \n",
    "f.close()"
   ]
  },
  {
   "cell_type": "code",
   "execution_count": 123,
   "metadata": {},
   "outputs": [
    {
     "data": {
      "text/plain": [
       "364"
      ]
     },
     "execution_count": 123,
     "metadata": {},
     "output_type": "execute_result"
    }
   ],
   "source": [
    "French_ingredients_final = French_ingredients_inspected\n",
    "len(French_ingredients_final)"
   ]
  },
  {
   "cell_type": "code",
   "execution_count": 119,
   "metadata": {},
   "outputs": [
    {
     "data": {
      "text/plain": [
       "20325"
      ]
     },
     "execution_count": 119,
     "metadata": {},
     "output_type": "execute_result"
    }
   ],
   "source": [
    "ingredients = []\n",
    "\n",
    "for i, item in enumerate(df['ingredients_string']):\n",
    "    ingredients+=item.lower().split(\" \")\n",
    "    \n",
    "len(ingredients)"
   ]
  },
  {
   "cell_type": "code",
   "execution_count": 120,
   "metadata": {},
   "outputs": [
    {
     "data": {
      "text/plain": [
       "20325"
      ]
     },
     "execution_count": 120,
     "metadata": {},
     "output_type": "execute_result"
    }
   ],
   "source": [
    "ingredients = [replace_dictionary.get(item, item) for item in ingredients]\n",
    "len(ingredients)"
   ]
  },
  {
   "cell_type": "code",
   "execution_count": 121,
   "metadata": {},
   "outputs": [
    {
     "data": {
      "text/plain": [
       "20325"
      ]
     },
     "execution_count": 121,
     "metadata": {},
     "output_type": "execute_result"
    }
   ],
   "source": [
    "ingredients = [plurals_special.get(item, item) for item in ingredients]\n",
    "len(ingredients)"
   ]
  },
  {
   "cell_type": "code",
   "execution_count": 122,
   "metadata": {},
   "outputs": [
    {
     "data": {
      "text/plain": [
       "20325"
      ]
     },
     "execution_count": 122,
     "metadata": {},
     "output_type": "execute_result"
    }
   ],
   "source": [
    "ingredients = [item[:-1] if item in plurals_s else item\n",
    "               for item in ingredients]\n",
    "len(ingredients)"
   ]
  },
  {
   "cell_type": "code",
   "execution_count": 124,
   "metadata": {},
   "outputs": [
    {
     "data": {
      "text/plain": [
       "4382"
      ]
     },
     "execution_count": 124,
     "metadata": {},
     "output_type": "execute_result"
    }
   ],
   "source": [
    "ingredients = [item for item in ingredients if item in French_ingredients_final]\n",
    "len(ingredients)"
   ]
  },
  {
   "cell_type": "code",
   "execution_count": 125,
   "metadata": {},
   "outputs": [],
   "source": [
    "ingredients_series = pd.Series(ingredients)"
   ]
  },
  {
   "cell_type": "code",
   "execution_count": 126,
   "metadata": {},
   "outputs": [
    {
     "data": {
      "text/plain": [
       "salt      308\n",
       "sugar     207\n",
       "pepper    203\n",
       "egg       194\n",
       "flour     189\n",
       "dtype: int64"
      ]
     },
     "execution_count": 126,
     "metadata": {},
     "output_type": "execute_result"
    }
   ],
   "source": [
    "counts = ingredients_series.value_counts()\n",
    "counts[:5]"
   ]
  },
  {
   "cell_type": "code",
   "execution_count": 128,
   "metadata": {},
   "outputs": [
    {
     "data": {
      "image/png": "[encoded data removed]",
      "text/plain": [
       "<Figure size 1080x360 with 1 Axes>"
      ]
     },
     "metadata": {},
     "output_type": "display_data"
    }
   ],
   "source": [
    "counts[:50].plot(kind='bar', figsize=(15, 5), rot = 90, fontsize=16)\n",
    "\n",
    "plt.xlabel('Ingredients', size=20)\n",
    "plt.ylabel('Frequency', size=20)\n",
    "plt.title('Frequency of ingredients in French recipes', size=20);"
   ]
  }
 ],
 "metadata": {
  "kernelspec": {
   "display_name": "Python [conda env:anaconda3]",
   "language": "python",
   "name": "conda-env-anaconda3-py"
  },
  "language_info": {
   "codemirror_mode": {
    "name": "ipython",
    "version": 3
   },
   "file_extension": ".py",
   "mimetype": "text/x-python",
   "name": "python",
   "nbconvert_exporter": "python",
   "pygments_lexer": "ipython3",
   "version": "3.6.4"
  }
 },
 "nbformat": 4,
 "nbformat_minor": 2
}
