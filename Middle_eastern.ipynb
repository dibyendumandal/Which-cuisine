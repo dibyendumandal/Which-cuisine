{
 "cells": [
  {
   "cell_type": "markdown",
   "metadata": {},
   "source": [
    "# Libraries"
   ]
  },
  {
   "cell_type": "code",
   "execution_count": 1,
   "metadata": {},
   "outputs": [],
   "source": [
    "import requests\n",
    "import bs4\n",
    "from collections import Counter\n",
    "import matplotlib.pyplot as plt\n",
    "% matplotlib inline\n",
    "import seaborn as sns; sns.set()\n",
    "import numpy as np\n",
    "import pandas as pd\n",
    "\n",
    "import nltk\n",
    "from nltk.corpus import wordnet as wn "
   ]
  },
  {
   "cell_type": "code",
   "execution_count": 2,
   "metadata": {},
   "outputs": [],
   "source": [
    "import os"
   ]
  },
  {
   "cell_type": "code",
   "execution_count": 8,
   "metadata": {},
   "outputs": [
    {
     "data": {
      "text/plain": [
       "'/Users/dibyendumandal/Google Drive/DIBYENDU/JOB_DataIncubator/Project_Indian_Middle_eastern_and_French'"
      ]
     },
     "execution_count": 8,
     "metadata": {},
     "output_type": "execute_result"
    }
   ],
   "source": [
    "cwd = os.getcwd()\n",
    "cwd"
   ]
  },
  {
   "cell_type": "code",
   "execution_count": 9,
   "metadata": {},
   "outputs": [
    {
     "data": {
      "text/plain": [
       "['.ipynb_checkpoints', 'workspace_large.ipynb', 'workspace_small.ipynb']"
      ]
     },
     "execution_count": 9,
     "metadata": {},
     "output_type": "execute_result"
    }
   ],
   "source": [
    "os.listdir(cwd)"
   ]
  },
  {
   "cell_type": "code",
   "execution_count": 5,
   "metadata": {},
   "outputs": [
    {
     "data": {
      "text/plain": [
       "False"
      ]
     },
     "execution_count": 5,
     "metadata": {},
     "output_type": "execute_result"
    }
   ],
   "source": [
    "os.path.exists('memo.txt')"
   ]
  },
  {
   "cell_type": "code",
   "execution_count": 10,
   "metadata": {},
   "outputs": [
    {
     "data": {
      "text/plain": [
       "True"
      ]
     },
     "execution_count": 10,
     "metadata": {},
     "output_type": "execute_result"
    }
   ],
   "source": [
    "os.path.exists('workspace_small.ipynb')"
   ]
  },
  {
   "cell_type": "code",
   "execution_count": 11,
   "metadata": {},
   "outputs": [
    {
     "data": {
      "text/plain": [
       "False"
      ]
     },
     "execution_count": 11,
     "metadata": {},
     "output_type": "execute_result"
    }
   ],
   "source": [
    "os.path.isdir('workspace_small.ipynb')"
   ]
  },
  {
   "cell_type": "code",
   "execution_count": 12,
   "metadata": {},
   "outputs": [
    {
     "data": {
      "text/plain": [
       "True"
      ]
     },
     "execution_count": 12,
     "metadata": {},
     "output_type": "execute_result"
    }
   ],
   "source": [
    "os.path.isfile('workspace_small.ipynb')"
   ]
  },
  {
   "cell_type": "code",
   "execution_count": 13,
   "metadata": {},
   "outputs": [],
   "source": [
    "import dbm"
   ]
  },
  {
   "cell_type": "code",
   "execution_count": 14,
   "metadata": {},
   "outputs": [],
   "source": [
    "db = dbm.open('test', 'c')"
   ]
  },
  {
   "cell_type": "code",
   "execution_count": 15,
   "metadata": {},
   "outputs": [
    {
     "data": {
      "text/plain": [
       "['.ipynb_checkpoints',\n",
       " 'test.db',\n",
       " 'workspace_large.ipynb',\n",
       " 'workspace_small.ipynb']"
      ]
     },
     "execution_count": 15,
     "metadata": {},
     "output_type": "execute_result"
    }
   ],
   "source": [
    "os.listdir(cwd)"
   ]
  },
  {
   "cell_type": "code",
   "execution_count": 17,
   "metadata": {},
   "outputs": [],
   "source": [
    "db['test_key'] = 'test_value'\n",
    "db['test_key_int'] = '2'"
   ]
  },
  {
   "cell_type": "code",
   "execution_count": 18,
   "metadata": {},
   "outputs": [
    {
     "data": {
      "text/plain": [
       "b'test_value'"
      ]
     },
     "execution_count": 18,
     "metadata": {},
     "output_type": "execute_result"
    }
   ],
   "source": [
    "db['test_key']"
   ]
  },
  {
   "cell_type": "code",
   "execution_count": 19,
   "metadata": {},
   "outputs": [
    {
     "name": "stdout",
     "output_type": "stream",
     "text": [
      "b'test_value'\n"
     ]
    }
   ],
   "source": [
    "print(db['test_key'])"
   ]
  },
  {
   "cell_type": "code",
   "execution_count": 22,
   "metadata": {},
   "outputs": [
    {
     "data": {
      "text/plain": [
       "\"b'test_value'\""
      ]
     },
     "execution_count": 22,
     "metadata": {},
     "output_type": "execute_result"
    }
   ],
   "source": [
    "str(db['test_key'])"
   ]
  },
  {
   "cell_type": "code",
   "execution_count": 23,
   "metadata": {},
   "outputs": [],
   "source": [
    "import pickle"
   ]
  },
  {
   "cell_type": "code",
   "execution_count": 24,
   "metadata": {},
   "outputs": [],
   "source": [
    "db['test_key_int'] = pickle.dumps(1)"
   ]
  },
  {
   "cell_type": "code",
   "execution_count": 31,
   "metadata": {},
   "outputs": [
    {
     "data": {
      "text/plain": [
       "1"
      ]
     },
     "execution_count": 31,
     "metadata": {},
     "output_type": "execute_result"
    }
   ],
   "source": [
    "pickle.loads(db['test_key_int'])"
   ]
  },
  {
   "cell_type": "markdown",
   "metadata": {},
   "source": [
    "## Strategy \n",
    "\n",
    "I. Get all URLs, store them in a list\n",
    "\n",
    "II. For each URL, get\n",
    "1. name\n",
    "2. ingredients\n",
    "3. URL\n",
    "\n",
    "and then create a dictionary\n",
    "\n",
    "III. Save the dictionaries in a list\n",
    "\n",
    "IV. Convert into a dataframe"
   ]
  },
  {
   "cell_type": "markdown",
   "metadata": {},
   "source": [
    "### I. Get all URLs, store them in a list"
   ]
  },
  {
   "cell_type": "code",
   "execution_count": 33,
   "metadata": {},
   "outputs": [],
   "source": [
    "def recipe_urls_in_a_page(url):\n",
    "    \"\"\"Given an webpage url returns a list of \n",
    "    recipe urls in the webpage\n",
    "    (CAUTION: Applies to allrecipes.com only)\"\"\"\n",
    "    \n",
    "    res = requests.get(url)\n",
    "    res.raise_for_status()\n",
    "    soup = bs4.BeautifulSoup(res.text, \"lxml\")\n",
    "    elems = soup.find_all('article', class_ = \"fixed-recipe-card\")\n",
    "    recipe_urls = [elem.find_all('a')[0].get('href') for elem in elems]\n",
    "    return recipe_urls"
   ]
  },
  {
   "cell_type": "code",
   "execution_count": 34,
   "metadata": {},
   "outputs": [],
   "source": [
    "NUM_PAGES_ME = 21\n",
    "base_url_me = \"https://www.allrecipes.com/recipes/235/world-cuisine/middle-eastern/?page=\""
   ]
  },
  {
   "cell_type": "code",
   "execution_count": 35,
   "metadata": {},
   "outputs": [],
   "source": [
    "from time import sleep"
   ]
  },
  {
   "cell_type": "code",
   "execution_count": 50,
   "metadata": {
    "scrolled": true
   },
   "outputs": [
    {
     "name": "stdout",
     "output_type": "stream",
     "text": [
      "Souping page number 1 ,  0  found so far\n",
      "Souping page number 2 ,  28  found so far\n",
      "Souping page number 3 ,  48  found so far\n",
      "Souping page number 4 ,  68  found so far\n",
      "Souping page number 5 ,  88  found so far\n",
      "Souping page number 6 ,  108  found so far\n",
      "Souping page number 7 ,  128  found so far\n",
      "Souping page number 8 ,  148  found so far\n",
      "Souping page number 9 ,  168  found so far\n",
      "Souping page number 10 ,  188  found so far\n",
      "Souping page number 11 ,  208  found so far\n",
      "Souping page number 12 ,  228  found so far\n",
      "Souping page number 13 ,  248  found so far\n",
      "Souping page number 14 ,  268  found so far\n",
      "Souping page number 15 ,  288  found so far\n",
      "Souping page number 16 ,  308  found so far\n",
      "Souping page number 17 ,  328  found so far\n",
      "Souping page number 18 ,  348  found so far\n",
      "Souping page number 19 ,  368  found so far\n",
      "Souping page number 20 ,  388  found so far\n",
      "Souping page number 21 ,  408  found so far\n"
     ]
    }
   ],
   "source": [
    "recipe_urls_me = []\n",
    "for page_num in range(1, NUM_PAGES_ME + 1):\n",
    "    print('Souping page number', page_num, ', ', \n",
    "          len(recipe_urls_me), ' found so far')\n",
    "    url = base_url_me + str(page_num)\n",
    "    recipe_urls_me.extend(recipe_urls_in_a_page(url))\n",
    "    sleep(30)"
   ]
  },
  {
   "cell_type": "code",
   "execution_count": 62,
   "metadata": {},
   "outputs": [
    {
     "data": {
      "text/plain": [
       "'Yemeni Haroset'"
      ]
     },
     "execution_count": 62,
     "metadata": {},
     "output_type": "execute_result"
    }
   ],
   "source": [
    "' '.join(recipe_urls_me[-1].split('/')[-2].split('-')).title()"
   ]
  },
  {
   "cell_type": "code",
   "execution_count": 51,
   "metadata": {},
   "outputs": [],
   "source": [
    "f = open('middle_eastern_recipes_urls.txt', 'w')\n",
    "for url in recipe_urls_me:\n",
    "    f.write(url+'\\n')\n",
    "f.close()"
   ]
  },
  {
   "cell_type": "code",
   "execution_count": 63,
   "metadata": {},
   "outputs": [
    {
     "name": "stdout",
     "output_type": "stream",
     "text": [
      "https://www.allrecipes.com/recipe/64519/kafta/\n",
      "https://www.allrecipes.com/recipe/26921/real-hummus/\n",
      "https://www.allrecipes.com/recipe/81603/baba-ghanoush/\n",
      "https://www.allrecipes.com/recipe/242254/hamusta-soup/\n",
      "https://www.allrecipes.com/recipe/68828/easy-lamb-shawarma/\n",
      "https://www.allrecipes.com/recipe/218488/turkish-kebabs/\n",
      "https://www.allrecipes.com/recipe/150654/thick-style-lebanese-garlic-sauce/\n",
      "https://www.allrecipes.com/recipe/22394/lavosh/\n",
      "https://www.allrecipes.com/recipe/73059/umm-ali/\n",
      "https://www.allrecipes.com/recipe/14830/hummus-iii/\n",
      "https://www.allrecipes.com/recipe/25309/seans-falafel-and-cucumber-sauce/\n"
     ]
    }
   ],
   "source": [
    "f = open('middle_eastern_recipes_urls.txt')\n",
    "for i, line in enumerate(f):\n",
    "    print(line.rstrip())\n",
    "    if i>9: break\n",
    "f.close()"
   ]
  },
  {
   "cell_type": "markdown",
   "metadata": {},
   "source": [
    "### II. For each URL, get\n",
    "1. name\n",
    "2. ingredients\n",
    "3. url\n",
    "\n",
    "Create a dictionary\n",
    "\n",
    "III. Save the dictionaries in a list ###"
   ]
  },
  {
   "cell_type": "code",
   "execution_count": 64,
   "metadata": {},
   "outputs": [],
   "source": [
    "def recipe_details(url):\n",
    "    \"\"\"Given a url of a recipe returns a list of ingredients\n",
    "    (CAUTION: Applies to allrecipes.com only)\"\"\"    \n",
    "    \n",
    "    recipe = {}\n",
    "    name = ' '.join(url.split('/')[-2].split('-')).title()\n",
    "    ingredients = []\n",
    "    res = requests.get(url)\n",
    "    res.raise_for_status()\n",
    "    soup = bs4.BeautifulSoup(res.text, \"lxml\")\n",
    "    lines = soup.find_all('li', class_= \"checkList__line\")[:-4]\n",
    "    for line in lines:\n",
    "        item = line.find('label').get('title').split(\" \")\n",
    "        ingredients.extend(item)\n",
    "                          \n",
    "    return {\n",
    "        \"name\": name,\n",
    "        \"ingredients\": ingredients,\n",
    "        \"url\": url}"
   ]
  },
  {
   "cell_type": "code",
   "execution_count": 66,
   "metadata": {
    "scrolled": true
   },
   "outputs": [
    {
     "data": {
      "text/plain": [
       "['https://www.allrecipes.com/recipe/64519/kafta/',\n",
       " 'https://www.allrecipes.com/recipe/26921/real-hummus/',\n",
       " 'https://www.allrecipes.com/recipe/81603/baba-ghanoush/',\n",
       " 'https://www.allrecipes.com/recipe/242254/hamusta-soup/',\n",
       " 'https://www.allrecipes.com/recipe/68828/easy-lamb-shawarma/',\n",
       " 'https://www.allrecipes.com/recipe/218488/turkish-kebabs/',\n",
       " 'https://www.allrecipes.com/recipe/150654/thick-style-lebanese-garlic-sauce/',\n",
       " 'https://www.allrecipes.com/recipe/22394/lavosh/',\n",
       " 'https://www.allrecipes.com/recipe/73059/umm-ali/',\n",
       " 'https://www.allrecipes.com/recipe/14830/hummus-iii/']"
      ]
     },
     "execution_count": 66,
     "metadata": {},
     "output_type": "execute_result"
    }
   ],
   "source": [
    "recipes = []\n",
    "f = open('middle_eastern_recipes_urls.txt')\n",
    "for line in f:\n",
    "    recipes+= [line.rstrip()]\n",
    "    \n",
    "recipes[:10]"
   ]
  },
  {
   "cell_type": "code",
   "execution_count": 92,
   "metadata": {
    "collapsed": true
   },
   "outputs": [],
   "source": [
    "recipes_in_detail = []\n",
    "for url in recipes:\n",
    "    recipes_in_detail += [recipe_details(url)]\n",
    "    sleep(10)\n",
    "    \n",
    "#recipes_in_detail"
   ]
  },
  {
   "cell_type": "code",
   "execution_count": 75,
   "metadata": {},
   "outputs": [],
   "source": [
    "import csv"
   ]
  },
  {
   "cell_type": "code",
   "execution_count": 93,
   "metadata": {},
   "outputs": [
    {
     "name": "stdout",
     "output_type": "stream",
     "text": [
      "Kafta\n",
      "Real Hummus\n",
      "Baba Ghanoush\n",
      "Hamusta Soup\n",
      "Easy Lamb Shawarma\n",
      "Turkish Kebabs\n",
      "Thick Style Lebanese Garlic Sauce\n",
      "Lavosh\n",
      "Umm Ali\n",
      "Hummus Iii\n",
      "Seans Falafel And Cucumber Sauce\n",
      "Peppys Pita Bread\n",
      "Lentils And Rice With Fried Onions Mujadarrah\n",
      "Asparagus Cashew Rice Pilaf\n",
      "Extra Easy Hummus\n",
      "Pita Chips\n",
      "Middle Eastern Rice With Black Beans And Chickpeas\n",
      "Baba Ghanoush\n",
      "Kofta Kebabs\n",
      "Easy Hummus\n",
      "Company Couscous\n",
      "Easy Baklava\n",
      "Lebanese Chicken And Potatoes\n",
      "Shish Tawook Grilled Chicken\n",
      "Fasoliyyeh Bi Z Zayt Syrian Green Beans With Olive Oil\n",
      "Tabbouleh Iii\n",
      "Shish Tawook Marinated Chicken\n",
      "Lentil And Green Collard Soup\n",
      "Chakchouka Shakshouka\n",
      "Mid Eastern Chicken Thighs\n",
      "Easy Curry Couscous\n",
      "Kafta\n",
      "Fatoosh\n",
      "Syrian Bread\n",
      "Sun Dried Tomato Hummus\n",
      "Authentic Kicked Up Syrian Hummus\n",
      "Israeli Salad\n",
      "Mujaddara Arabic Lentil Rice\n",
      "Thick Style Lebanese Garlic Sauce\n",
      "Balela Salad\n",
      "Tabbouleh I\n",
      "Whole Wheat Pita Bread\n",
      "Slow Cooker Moroccan Chicken\n",
      "Lebanese Lemon Salad Dressing\n",
      "Fusion Hummus\n",
      "Lamb Ribs With Honey And Wine\n",
      "Tabbouleh Ii\n",
      "Authentic Middle Eastern Hummus Chummus\n",
      "Tasteful Tahini Salad Dressing\n",
      "Chef Johns Falafel\n",
      "Fava Bean Breakfast Spread\n",
      "Pomegranate Stew With Chicken Khoresh Fesenjan\n",
      "Raw Hummus\n",
      "Middle Eastern Turkey Dogs\n",
      "Chickpea Falafel Burgers\n",
      "Cilantro Tabouli\n",
      "Turkish Fish Stew\n",
      "Cilantro And Garlic Potatoes\n",
      "Chicken Shawarma\n",
      "Choereg Armenian Easter Bread\n",
      "Bechamel Chicken Pasta\n",
      "Tzatziki Vii\n",
      "Hummus I\n",
      "Basil And Pesto Hummus\n",
      "Bazlama Turkish Flat Bread\n",
      "Koulas Best Ever Chicken Gyros\n",
      "Turkish Red Lentil Soup With Mint\n",
      "Vegetarian Moroccan Stew\n",
      "Turkish Chicken Kebabs\n",
      "Lamb Shawarma\n",
      "Vegan Friendly Falafel\n",
      "Best Hummus\n",
      "Persian Cucumber Yogurt Maast O Khiar\n",
      "Robins Best Ever Hummus\n",
      "Lebanese Lemon Lentil Soup\n",
      "Grape Leaves Aleppo\n",
      "Persian Rice\n",
      "Turkish Style Eggs\n",
      "Pakistani Pot Roast Beef Fillets Pasanday\n",
      "Awesome Red Pepper Hummus Dip\n",
      "Lavosh\n",
      "Al Kabsa Traditional Saudi Rice And Chicken\n",
      "Beetroot Hummus\n",
      "Persian Kabob\n",
      "Tava Or Turkish Stew\n",
      "Turkish Red Lentil Bride Soup\n",
      "Falafels With Yogurt Dill Sauce\n",
      "Armenian Lentils\n",
      "Middle Eastern Kibbeh\n",
      "White Bean Tabbouleh\n",
      "Adas Bil Hamod Lebanese Lentil Lemon Soup\n",
      "Easiest Falafel\n",
      "Schwarma\n",
      "Lubia Polo Green Bean Rice\n",
      "Traditional Hummus\n",
      "Israeli Tomato And Cucumber Salad\n",
      "Afghan Beef Raviolis Mantwo\n",
      "Lebanese Donair\n",
      "Hummus Iv\n",
      "Chicken Shwarma\n",
      "Lebanese Garlic Sauce\n",
      "Persian Fesenjun\n",
      "Couscous Royale\n",
      "Chicken Breasts In A Date Caper And Mascarpone Sauce With Couscous\n",
      "Chalau\n",
      "Persian Shish Kabob\n",
      "Lahmahjoon Armenian Pizza\n",
      "Easy Shakshuka\n",
      "Chicken Shawarmas\n",
      "Hummus Casserole\n",
      "Chard Lentil Soup Lebanese Style\n",
      "Homemade Manti Traditional Turkish Dumplings\n",
      "Uzbek Plov Lamb And Rice Pilaf\n",
      "Noni Afghani\n",
      "Ghoraiybah\n",
      "Lamb Larabique\n",
      "Eggs With Tomatoes\n",
      "Carrot Recipe\n",
      "Tahini Butter Cookies\n",
      "Lavash Cracker Bread\n",
      "Sweet Potato Hummus\n",
      "Yazdi Cakes\n",
      "Toum\n",
      "Authentic Lebanese Fattoush\n",
      "Labneh Lebanese Cream Cheese\n",
      "California Style Israeli Salad\n",
      "Baklava\n",
      "Arabic Green Beans With Beef\n",
      "Syrian Style Lentil And Spinach Soup\n",
      "Arabic Fattoush Salad\n",
      "Mediterranean Meat Pies Sfeeha\n",
      "Arabic Cookies\n",
      "Creamy Yogurt Hummus\n",
      "Eggplant Caviar\n",
      "Basboosa Ii\n",
      "Malooba\n",
      "Fava Bean Salad\n",
      "The Rebbetzin Chefs Persian Walnut Cookies\n",
      "Make Believe Middle Eastern Chicken\n",
      "Falafel I\n",
      "Foolproof Potato Latkes\n",
      "Harveys Moroccan Roast Chicken\n",
      "Zucchini With Dill Weed And Garlic Yogurt Sauce\n",
      "Chef Johns Harissa Sauce\n",
      "Middle Eastern Cumin Meatballs\n",
      "Chef Johns Baba Ghanoush\n",
      "Lemon Tabouli\n",
      "Fattoush\n",
      "Almond Citrus Couscous\n",
      "Moroccan Shabbat Fish\n",
      "Jagic Assyrian Cheese Spread\n",
      "Lentil Lemon Soup\n",
      "Bstilla\n",
      "Tabbouleh\n",
      "Sambousa\n",
      "Shuk Shuka\n",
      "Eggplant Roasted Pepper And Chicken Pitas\n",
      "Sues Baba Ghanoush\n",
      "Upside Down\n",
      "Whole Rice And Lentils Majadara\n",
      "Mamas Oh So Savory Lamb And Eggplant Casserole\n",
      "Roasted Eggplant And Garlic Hummus\n",
      "Quick Couscous With Raisins And Carrots\n",
      "Chicken Tava From Turkey\n",
      "Soldier Buttons\n",
      "Apples In Pajamas\n",
      "Umm Ali\n",
      "Turkish Kebabs\n",
      "Kanafa\n",
      "Keftedes Greek Meatballs\n",
      "Lebanese Baked Eggplant\n",
      "Lebanese Style Tabouli\n",
      "A Vegetable Stew Tabakh Rohoo\n",
      "Kofta\n",
      "Rose Petal Pound Cake\n",
      "Semolina Turmeric Cake Sfoof\n",
      "Baba Ghanoush With Yogurt\n",
      "Basboosa\n",
      "Magpies Easy Falafel Cakes\n",
      "Black Bean Hummus With Tahini\n",
      "Lahmacun Turkish Pizza\n",
      "Veggie Bulgur Salad Kisir\n",
      "Chicken Curry And Potatoes\n",
      "Authentic Falafels\n",
      "Kibbee Lebanese Style\n",
      "Shakshuka Middle Eastern Breakfast Dish\n",
      "Ekmek Turkish Bread\n",
      "Tofu Hummus\n",
      "Iskender Kebab\n",
      "Cheese Bourekas\n",
      "Whipped Garlic\n",
      "Middle Eastern White Beans\n",
      "Moutabel\n",
      "Salata\n",
      "Curried Stew With Lamb\n",
      "Fried Cauliflower With Tahini Sauce\n",
      "Tahini Spinach\n",
      "Easy Black Bean Hummus\n",
      "Green Lentils And Rice Assyrian Style\n",
      "Carrots And Lentils\n",
      "Bamieh Middle Eastern Okra Stew\n",
      "Pan Fried Falafel\n",
      "Armenian Shish Kabob\n",
      "Manti Turkish Ravioli With Yogurt Sauce\n",
      "Kuwaiti Traditional Tea\n",
      "Apple And Honey Sorbet\n",
      "Layali Libnan Lebanese Nights\n",
      "Coriander Tabbouleh Salad With Shrimp\n",
      "Meatballs With Raisins And Honey\n",
      "Afghan Tomato Soup Aush Goshti\n",
      "Chef Johns Green Hummus\n",
      "Middle Eastern Garlic Sauce\n",
      "Israeli Stuffed Dates\n",
      "Upside Down Maqluba\n",
      "Kabsa\n",
      "Authentic Homemade Yogurt\n",
      "Easy Lamb Shawarma\n",
      "Turkish Halwa\n",
      "Authentic Tabbouleh\n",
      "Lebanese Bean Salad\n",
      "Lebanese Fattoosh\n",
      "Imas Potato Salad\n",
      "Pomegranate Molasses\n",
      "Quick Sun Dried Tomato And Basil Hummus\n",
      "Muhammara Roasted Pepper Walnut Spread\n",
      "Mellas Family Lamb Stuffed Zucchini Koosa\n",
      "Moms Black Eyed Peas\n",
      "Lamb And Asparagus Stew\n",
      "Lamb Lovers Pilaf\n",
      "Fereni Starch Pudding\n",
      "Qabali Afghani Rice\n",
      "Haydari Turkish Yogurt Dip\n",
      "Beef And Okra Bamia\n",
      "Middle Eastern Tomato Salad\n",
      "Savory Couscous Tabbouleh\n",
      "Cyprus Gyro Burger\n",
      "Pogaca Feta Dumplings\n",
      "Lebanese Seven Spices\n",
      "Mama Maries Moroccan Tuna Brik\n",
      "Lebanese Radish Salad\n",
      "Ground Beef And Tahini\n",
      "Quick Avocado Smoothie\n",
      "Lebanese Mountain Bread\n",
      "Hummus From Scratch\n",
      "Spinach Triangles Fatayer Sabanegh\n",
      "Jacys Middle Eastern Fava Bean Stew\n",
      "Turkish Rissoles\n",
      "Middle Eastern Bean Dip Foul Mudammas\n",
      "Sun Dried Tomato And Fennel Seed Hummus\n",
      "Muhammara\n",
      "Bulgur Pilaf With Lamb\n",
      "Mamool Or Maamoul\n",
      "Lahmajoon\n",
      "Ghraybeh Cookies\n",
      "Namoora Basboosa\n",
      "Arabian Rose Water Pudding Muhalbiyah\n",
      "Mensaf Jordanian Lamb Stew\n",
      "Apricot Almond Pilaf\n",
      "Kibby Kibby Bel Saneeya\n",
      "Not Quite Persian Ghormeh Sabzi Green Stew For The Slow Cooker\n",
      "Adeni Tea\n",
      "Duck Fesenjan\n",
      "Seared Rabbit With Rosemary Potatoes\n",
      "Lebanese Fattoush\n",
      "Matbucha\n",
      "Turkish Coffee\n",
      "Zucchini Salad With Yogurt And Walnuts\n",
      "Babis Bean Salad\n",
      "Kefta\n",
      "Lamb And Bulgur Soup Shorba Freek\n",
      "Algerian Bouzgene Berber Bread With Roasted Pepper Sauce\n",
      "Lamb And Okra Stew\n",
      "Turkish Marinade\n",
      "Hummus Ii\n",
      "Sambusaks Sumboosaks With Chickpeas\n",
      "Manaaeesh Flatbread\n",
      "No Fuss Falafel\n",
      "Southwestern Falafel\n",
      "Baghdad Beef Stew\n",
      "Lebanese Chicken Shawarma\n",
      "Baharat Salmon Cakes With Aioli\n",
      "Tomato Freekeh\n",
      "Lebanese Stuffed Zucchini Coosakoosa\n",
      "Middle Eastern Balela Salad\n",
      "Toasted Buckwheat Tabbouleh\n",
      "Eggless Date Cake\n",
      "Quick And Easy Hummus\n",
      "Date Brownies\n",
      "Vermicelli Pudding\n",
      "Anatolian Bulgur Pilav\n",
      "Basmati With Toasted Noodles\n",
      "Ashure\n",
      "Harisseh Middle Eastern Sweets\n",
      "Strawberry Rosewater Ice Cream\n",
      "Tahini Salad\n",
      "Smoky Eggplant And Yogurt Salad\n",
      "Tava\n",
      "Quick And Easy Falafel Salad\n",
      "Mahallebi\n",
      "Goat Shoulder Braised With Prunes And Preserved Lemons\n",
      "Ground Chicken With Walnuts\n",
      "Kobete Chicken\n",
      "Jiddos Fatayer Sabanegh Spinach Triangles\n",
      "Lebanese Easter Cookies\n",
      "Shakshooka\n",
      "Roasted Red Pepper Salad\n",
      "Baked Sweet Potato Falafel\n",
      "Mujadarra Lentils With Rice\n",
      "Labneh Lebanese Yogurt\n",
      "Fast And Easy Israeli Tahini Cookies\n",
      "Easy Turkish Delight\n",
      "Green Beans In Seasoned Tomato Sauce\n",
      "Hawaijall Purpose Seasoning\n",
      "Wasabi And Soy Sauce Hummus\n",
      "Rebar Revive Shake\n",
      "Savory Saffron Chicken Polow\n",
      "Funky Popcorn\n",
      "Tahini Dressing\n",
      "Vegan Turkish Red Lentil Soup\n",
      "Lemon And Garlic Chicken Wings\n",
      "Mahalabia Middle Eastern Style Milk Pudding\n",
      "Fresh Israeli Salad\n",
      "Turnip Stew Arabic Style\n",
      "Danielles Fattoush Salad\n",
      "Hamusta Soup\n",
      "Rose Water Turkish Delight\n",
      "Lebanese Restaurant Rice Pilaf\n",
      "Rice Pudding With Rose Water\n",
      "Weaams Baba Ghanouj\n",
      "Fullas Roasted Garlic Hummus\n",
      "Spinach Pancake\n",
      "Traditional Muhammara Syrian Hot Pepper Dip\n",
      "Simple Falafel Chickpea Burgers\n",
      "Lamb Carrot And White Bean Curry Stew\n",
      "Falafel Ii\n",
      "Talamee\n",
      "Kubbe\n",
      "Armenian Circulation Juice\n",
      "Yummy Matzo Rolls\n",
      "Strudel Roll Cookies\n",
      "Cheese Sambusa\n",
      "Easy Mediterranean Pasta\n",
      "Eggplants In Red Sauce\n",
      "Mock Sou Boreg Armenian Macaroni And Cheese\n",
      "Turkey Kofta Kabobs\n",
      "Bamia\n",
      "Aunty Tereses Fattoush\n",
      "Potato Pancakes With An Eastern Twist Gluten Free\n",
      "Chanakhi Georgian Lamb Stew\n",
      "Homemade Zaatar\n",
      "Zaatar Pull Apart Rolls\n",
      "North African Sweet Potato Burgers\n",
      "Fava Beans\n",
      "Armenian Jajukh\n",
      "Baharat\n",
      "Azeri Yogurt Marinated Chicken Thighs\n",
      "Zaatar Fried Chicken\n",
      "Easy Fava Bean Salad\n",
      "Afghani Kabli Pulao\n",
      "Lebanese Zaatar Zaatar Bread\n",
      "Red Bean Stew\n",
      "Mast O Laboo Beet Yogurt\n",
      "Rose Water Gelees\n",
      "Salat Yirakot\n",
      "Lebanese Fattoush Bread Salad\n",
      "Falafel Dough Pizza\n",
      "Turkish Walnut Soup\n",
      "Georgian Bean Salad\n",
      "Colossal American Falafel\n",
      "Rose Scented Tapioca Pudding\n",
      "Falafel Crusted Cauliflower\n",
      "Grandma Lous Cheese Boereg\n",
      "Baba Ghanuj\n",
      "Lentil And Bulgur Salad\n",
      "Middle Eastern Style Marzipan\n",
      "Arugula Salad With Sumac\n",
      "Ezogelin Soup Vegan Turkish Soup With Lentils And Bulgur\n",
      "Arugula Salad With Pomegranate Molasses\n",
      "Chicken Livers With Pomegranate Molasses\n",
      "Lebanese Garlic Butter Sauce\n",
      "Alternative Tabbouleh Tabouli\n",
      "Israeli Charoset\n",
      "Tomato Pesto Hummus\n",
      "Roasted Garlic Green Hummus\n",
      "Antalyan Piyaz For Ramadan\n",
      "Special Mutton Leg Roast For Eid Ul Azha\n",
      "Stuffed Dates For Ramadan\n",
      "Moroccan Style Chicken With Butternut Squash Noodles\n",
      "Homemade Tahini\n",
      "Turkish Vegetarian Eggplant Appetizer With Garlic And Walnuts\n",
      "Rose Petal Cookies\n",
      "Vegan Eggplant With Tahini\n",
      "Middle Eastern Rice Pilaf With Pomegranate\n",
      "Middle Eastern Cabbage Rolls\n",
      "Pickled Turnips\n",
      "Vegan Cauliflower With Chickpeas\n",
      "Authentic Turkish Doner Kebab\n",
      "Cypriot Tahini Pies With Orange Flavor\n",
      "Vegan Turkish Baked Eggplant\n",
      "Rosh Hashanah Pilaf With Beets Chard And Beef From Iraqi Kurdistan\n",
      "Mahalabia Lebanese Cardamom Pudding\n",
      "Dukkah Flatbread With Chevre Yogurt Dip\n",
      "Mexican Shakshuka Aka Eggs In A Pot\n",
      "Vegan Turkish Freekeh Salad Firik Salatasi\n",
      "Vegan Biryani Recipe\n",
      "How To Make Preserved Lemons\n",
      "Roasted Carrots With Homemade Zaatar\n",
      "Lentil Balls\n",
      "Sfouf Lebanese Turmeric Cake\n",
      "Roasted Beetroot And Garlic Hummus\n",
      "Middle Eastern Style Burek\n",
      "Fattoush Lebanese Salad\n",
      "Zhug Homemade Yemeni Salsa\n",
      "Kadin Buddu Kofta Turkish Meatballs\n",
      "Kafta Meat Fingers With Tahini\n",
      "Simit Turkish Sesame Bread Rings\n",
      "Vegan Sesame Halvah\n",
      "Meze Fava Beans\n",
      "Turkish Meatballs Kofta\n",
      "Worlds Greatest Grape Leaves Armenian\n",
      "Irmik Helvasi Turkish Semolina Halva\n",
      "Aunt Zanebs Semolina Cake\n",
      "Figs And Rice\n",
      "Yemeni Haroset\n"
     ]
    }
   ],
   "source": [
    "for recipe_in_detail in recipes_in_detail:\n",
    "    print(recipe_in_detail['name'])"
   ]
  },
  {
   "cell_type": "code",
   "execution_count": 94,
   "metadata": {},
   "outputs": [],
   "source": [
    "df_recipes_in_detail = pd.DataFrame(recipes_in_detail)"
   ]
  },
  {
   "cell_type": "code",
   "execution_count": 289,
   "metadata": {},
   "outputs": [],
   "source": [
    "def list_to_string(items):\n",
    "    return \" \".join(items)"
   ]
  },
  {
   "cell_type": "code",
   "execution_count": 290,
   "metadata": {},
   "outputs": [
    {
     "data": {
      "text/plain": [
       "'1 1/2 pounds lean ground beef 1 medium onion, grated 1/2 cup finely chopped fresh parsley 1/4 teaspoon cayenne pepper 1/4 teaspoon ground allspice 1 teaspoon salt, or to taste 1/4 teaspoon black pepper'"
      ]
     },
     "execution_count": 290,
     "metadata": {},
     "output_type": "execute_result"
    }
   ],
   "source": [
    "list_to_string(df_recipes_in_detail['ingredients'][0])"
   ]
  },
  {
   "cell_type": "code",
   "execution_count": 291,
   "metadata": {},
   "outputs": [],
   "source": [
    "df_recipes_in_detail['ingredients_string'] = \\\n",
    "df_recipes_in_detail['ingredients'].apply(list_to_string)"
   ]
  },
  {
   "cell_type": "code",
   "execution_count": 292,
   "metadata": {},
   "outputs": [
    {
     "data": {
      "text/html": [
       "<div>\n",
       "<style scoped>\n",
       "    .dataframe tbody tr th:only-of-type {\n",
       "        vertical-align: middle;\n",
       "    }\n",
       "\n",
       "    .dataframe tbody tr th {\n",
       "        vertical-align: top;\n",
       "    }\n",
       "\n",
       "    .dataframe thead th {\n",
       "        text-align: right;\n",
       "    }\n",
       "</style>\n",
       "<table border=\"1\" class=\"dataframe\">\n",
       "  <thead>\n",
       "    <tr style=\"text-align: right;\">\n",
       "      <th></th>\n",
       "      <th>ingredients</th>\n",
       "      <th>name</th>\n",
       "      <th>url</th>\n",
       "      <th>ingredients_proper</th>\n",
       "      <th>ingredients_string</th>\n",
       "    </tr>\n",
       "  </thead>\n",
       "  <tbody>\n",
       "    <tr>\n",
       "      <th>0</th>\n",
       "      <td>[1, 1/2, pounds, lean, ground, beef, 1, medium...</td>\n",
       "      <td>Kafta</td>\n",
       "      <td>https://www.allrecipes.com/recipe/64519/kafta/</td>\n",
       "      <td>[cayenne, onion, parsley, pepper, salt]</td>\n",
       "      <td>1 1/2 pounds lean ground beef 1 medium onion, ...</td>\n",
       "    </tr>\n",
       "    <tr>\n",
       "      <th>1</th>\n",
       "      <td>[1, clove, garlic, 1, (19, ounce), can, garban...</td>\n",
       "      <td>Real Hummus</td>\n",
       "      <td>https://www.allrecipes.com/recipe/26921/real-h...</td>\n",
       "      <td>[clove, garbanzo, garlic, pepper, salt, tahini]</td>\n",
       "      <td>1 clove garlic 1 (19 ounce) can garbanzo beans...</td>\n",
       "    </tr>\n",
       "    <tr>\n",
       "      <th>2</th>\n",
       "      <td>[1, large, eggplant, 1, head, garlic, 1, table...</td>\n",
       "      <td>Baba Ghanoush</td>\n",
       "      <td>https://www.allrecipes.com/recipe/81603/baba-g...</td>\n",
       "      <td>[eggplant, garlic, oil, tahini]</td>\n",
       "      <td>1 large eggplant 1 head garlic 1 tablespoon re...</td>\n",
       "    </tr>\n",
       "    <tr>\n",
       "      <th>3</th>\n",
       "      <td>[4, leaves, Swiss, chard,, stalks, discarded, ...</td>\n",
       "      <td>Hamusta Soup</td>\n",
       "      <td>https://www.allrecipes.com/recipe/242254/hamus...</td>\n",
       "      <td>[carrot, celery, chard, clove, garlic, potato,...</td>\n",
       "      <td>4 leaves Swiss chard, stalks discarded and lea...</td>\n",
       "    </tr>\n",
       "    <tr>\n",
       "      <th>4</th>\n",
       "      <td>[2, cups, plain, yogurt, 1/4, cup, distilled, ...</td>\n",
       "      <td>Easy Lamb Shawarma</td>\n",
       "      <td>https://www.allrecipes.com/recipe/68828/easy-l...</td>\n",
       "      <td>[bay, cinnamon, clove, garlic, lamb, oil, onio...</td>\n",
       "      <td>2 cups plain yogurt 1/4 cup distilled white vi...</td>\n",
       "    </tr>\n",
       "  </tbody>\n",
       "</table>\n",
       "</div>"
      ],
      "text/plain": [
       "                                         ingredients                name  \\\n",
       "0  [1, 1/2, pounds, lean, ground, beef, 1, medium...               Kafta   \n",
       "1  [1, clove, garlic, 1, (19, ounce), can, garban...         Real Hummus   \n",
       "2  [1, large, eggplant, 1, head, garlic, 1, table...       Baba Ghanoush   \n",
       "3  [4, leaves, Swiss, chard,, stalks, discarded, ...        Hamusta Soup   \n",
       "4  [2, cups, plain, yogurt, 1/4, cup, distilled, ...  Easy Lamb Shawarma   \n",
       "\n",
       "                                                 url  \\\n",
       "0     https://www.allrecipes.com/recipe/64519/kafta/   \n",
       "1  https://www.allrecipes.com/recipe/26921/real-h...   \n",
       "2  https://www.allrecipes.com/recipe/81603/baba-g...   \n",
       "3  https://www.allrecipes.com/recipe/242254/hamus...   \n",
       "4  https://www.allrecipes.com/recipe/68828/easy-l...   \n",
       "\n",
       "                                  ingredients_proper  \\\n",
       "0            [cayenne, onion, parsley, pepper, salt]   \n",
       "1    [clove, garbanzo, garlic, pepper, salt, tahini]   \n",
       "2                    [eggplant, garlic, oil, tahini]   \n",
       "3  [carrot, celery, chard, clove, garlic, potato,...   \n",
       "4  [bay, cinnamon, clove, garlic, lamb, oil, onio...   \n",
       "\n",
       "                                  ingredients_string  \n",
       "0  1 1/2 pounds lean ground beef 1 medium onion, ...  \n",
       "1  1 clove garlic 1 (19 ounce) can garbanzo beans...  \n",
       "2  1 large eggplant 1 head garlic 1 tablespoon re...  \n",
       "3  4 leaves Swiss chard, stalks discarded and lea...  \n",
       "4  2 cups plain yogurt 1/4 cup distilled white vi...  "
      ]
     },
     "execution_count": 292,
     "metadata": {},
     "output_type": "execute_result"
    }
   ],
   "source": [
    "df_recipes_in_detail.head()"
   ]
  },
  {
   "cell_type": "code",
   "execution_count": 293,
   "metadata": {},
   "outputs": [],
   "source": [
    "df_recipes_in_detail.to_csv('ME_recipes_details.csv', index=False)"
   ]
  },
  {
   "cell_type": "code",
   "execution_count": 294,
   "metadata": {},
   "outputs": [],
   "source": [
    "df = pd.read_csv('ME_recipes_details.csv')"
   ]
  },
  {
   "cell_type": "code",
   "execution_count": 295,
   "metadata": {
    "scrolled": true
   },
   "outputs": [
    {
     "data": {
      "text/html": [
       "<div>\n",
       "<style scoped>\n",
       "    .dataframe tbody tr th:only-of-type {\n",
       "        vertical-align: middle;\n",
       "    }\n",
       "\n",
       "    .dataframe tbody tr th {\n",
       "        vertical-align: top;\n",
       "    }\n",
       "\n",
       "    .dataframe thead th {\n",
       "        text-align: right;\n",
       "    }\n",
       "</style>\n",
       "<table border=\"1\" class=\"dataframe\">\n",
       "  <thead>\n",
       "    <tr style=\"text-align: right;\">\n",
       "      <th></th>\n",
       "      <th>ingredients</th>\n",
       "      <th>name</th>\n",
       "      <th>url</th>\n",
       "      <th>ingredients_proper</th>\n",
       "      <th>ingredients_string</th>\n",
       "    </tr>\n",
       "  </thead>\n",
       "  <tbody>\n",
       "    <tr>\n",
       "      <th>331</th>\n",
       "      <td>['2', 'sweet', 'bell', 'peppers,', 'seeded', '...</td>\n",
       "      <td>Traditional Muhammara Syrian Hot Pepper Dip</td>\n",
       "      <td>https://www.allrecipes.com/recipe/220985/tradi...</td>\n",
       "      <td>['clove', 'cumin', 'garlic', 'molasses', 'oil'...</td>\n",
       "      <td>2 sweet bell peppers, seeded and quartered 3 s...</td>\n",
       "    </tr>\n",
       "    <tr>\n",
       "      <th>184</th>\n",
       "      <td>['1/2', 'cup', 'bulgur', '1/2', 'cup', 'hot', ...</td>\n",
       "      <td>Kibbee Lebanese Style</td>\n",
       "      <td>https://www.allrecipes.com/recipe/201182/kibbe...</td>\n",
       "      <td>['bulgur', 'cinnamon', 'lamb', 'mint', 'onion'...</td>\n",
       "      <td>1/2 cup bulgur 1/2 cup hot water 1/2 teaspoon ...</td>\n",
       "    </tr>\n",
       "    <tr>\n",
       "      <th>382</th>\n",
       "      <td>['1', '(15', 'ounce)', 'can', 'chickpeas', '(g...</td>\n",
       "      <td>Tomato Pesto Hummus</td>\n",
       "      <td>https://www.allrecipes.com/recipe/239806/tomat...</td>\n",
       "      <td>['basil', 'chickpea', 'clove', 'garlic', 'lime...</td>\n",
       "      <td>1 (15 ounce) can chickpeas (garbanzo beans), d...</td>\n",
       "    </tr>\n",
       "    <tr>\n",
       "      <th>137</th>\n",
       "      <td>['1', '1/2', 'cups', 'finely', 'ground', 'waln...</td>\n",
       "      <td>The Rebbetzin Chefs Persian Walnut Cookies</td>\n",
       "      <td>https://www.allrecipes.com/recipe/103170/the-r...</td>\n",
       "      <td>['cardamom', 'egg', 'sugar', 'walnut', 'yolk']</td>\n",
       "      <td>1 1/2 cups finely ground walnuts 3 egg yolks 3...</td>\n",
       "    </tr>\n",
       "    <tr>\n",
       "      <th>413</th>\n",
       "      <td>['1', '1/4', 'pounds', 'ground', 'lamb', '1/2'...</td>\n",
       "      <td>Kadin Buddu Kofta Turkish Meatballs</td>\n",
       "      <td>https://www.allrecipes.com/recipe/258399/kadin...</td>\n",
       "      <td>['dill', 'egg', 'flour', 'garam', 'lamb', 'pep...</td>\n",
       "      <td>1 1/4 pounds ground lamb 1/2 cup cooked rice 1...</td>\n",
       "    </tr>\n",
       "  </tbody>\n",
       "</table>\n",
       "</div>"
      ],
      "text/plain": [
       "                                           ingredients  \\\n",
       "331  ['2', 'sweet', 'bell', 'peppers,', 'seeded', '...   \n",
       "184  ['1/2', 'cup', 'bulgur', '1/2', 'cup', 'hot', ...   \n",
       "382  ['1', '(15', 'ounce)', 'can', 'chickpeas', '(g...   \n",
       "137  ['1', '1/2', 'cups', 'finely', 'ground', 'waln...   \n",
       "413  ['1', '1/4', 'pounds', 'ground', 'lamb', '1/2'...   \n",
       "\n",
       "                                            name  \\\n",
       "331  Traditional Muhammara Syrian Hot Pepper Dip   \n",
       "184                        Kibbee Lebanese Style   \n",
       "382                          Tomato Pesto Hummus   \n",
       "137   The Rebbetzin Chefs Persian Walnut Cookies   \n",
       "413          Kadin Buddu Kofta Turkish Meatballs   \n",
       "\n",
       "                                                   url  \\\n",
       "331  https://www.allrecipes.com/recipe/220985/tradi...   \n",
       "184  https://www.allrecipes.com/recipe/201182/kibbe...   \n",
       "382  https://www.allrecipes.com/recipe/239806/tomat...   \n",
       "137  https://www.allrecipes.com/recipe/103170/the-r...   \n",
       "413  https://www.allrecipes.com/recipe/258399/kadin...   \n",
       "\n",
       "                                    ingredients_proper  \\\n",
       "331  ['clove', 'cumin', 'garlic', 'molasses', 'oil'...   \n",
       "184  ['bulgur', 'cinnamon', 'lamb', 'mint', 'onion'...   \n",
       "382  ['basil', 'chickpea', 'clove', 'garlic', 'lime...   \n",
       "137     ['cardamom', 'egg', 'sugar', 'walnut', 'yolk']   \n",
       "413  ['dill', 'egg', 'flour', 'garam', 'lamb', 'pep...   \n",
       "\n",
       "                                    ingredients_string  \n",
       "331  2 sweet bell peppers, seeded and quartered 3 s...  \n",
       "184  1/2 cup bulgur 1/2 cup hot water 1/2 teaspoon ...  \n",
       "382  1 (15 ounce) can chickpeas (garbanzo beans), d...  \n",
       "137  1 1/2 cups finely ground walnuts 3 egg yolks 3...  \n",
       "413  1 1/4 pounds ground lamb 1/2 cup cooked rice 1...  "
      ]
     },
     "execution_count": 295,
     "metadata": {},
     "output_type": "execute_result"
    }
   ],
   "source": [
    "df.sample(5)"
   ]
  },
  {
   "cell_type": "code",
   "execution_count": 296,
   "metadata": {
    "scrolled": true
   },
   "outputs": [
    {
     "name": "stdout",
     "output_type": "stream",
     "text": [
      "<class 'pandas.core.frame.DataFrame'>\n",
      "RangeIndex: 424 entries, 0 to 423\n",
      "Data columns (total 5 columns):\n",
      "ingredients           424 non-null object\n",
      "name                  424 non-null object\n",
      "url                   424 non-null object\n",
      "ingredients_proper    424 non-null object\n",
      "ingredients_string    424 non-null object\n",
      "dtypes: object(5)\n",
      "memory usage: 16.6+ KB\n"
     ]
    }
   ],
   "source": [
    "df.info()"
   ]
  },
  {
   "cell_type": "code",
   "execution_count": 297,
   "metadata": {},
   "outputs": [
    {
     "data": {
      "text/plain": [
       "['1',\n",
       " '1/2',\n",
       " 'pounds',\n",
       " 'lean',\n",
       " 'ground',\n",
       " 'beef',\n",
       " '1',\n",
       " 'medium',\n",
       " 'onion,',\n",
       " 'grated',\n",
       " '1/2',\n",
       " 'cup',\n",
       " 'finely',\n",
       " 'chopped',\n",
       " 'fresh',\n",
       " 'parsley',\n",
       " '1/4',\n",
       " 'teaspoon',\n",
       " 'cayenne',\n",
       " 'pepper',\n",
       " '1/4',\n",
       " 'teaspoon',\n",
       " 'ground',\n",
       " 'allspice',\n",
       " '1',\n",
       " 'teaspoon',\n",
       " 'salt,',\n",
       " 'or',\n",
       " 'to',\n",
       " 'taste',\n",
       " '1/4',\n",
       " 'teaspoon',\n",
       " 'black',\n",
       " 'pepper']"
      ]
     },
     "execution_count": 297,
     "metadata": {},
     "output_type": "execute_result"
    }
   ],
   "source": [
    "df['ingredients_string'][0].split()"
   ]
  },
  {
   "cell_type": "code",
   "execution_count": 146,
   "metadata": {},
   "outputs": [
    {
     "data": {
      "text/plain": [
       "1017"
      ]
     },
     "execution_count": 146,
     "metadata": {},
     "output_type": "execute_result"
    }
   ],
   "source": [
    "me_ingredients_unique = set()\n",
    "for i, ingredient in enumerate(df_recipes_in_detail['ingredients']):\n",
    "    me_ingredients_unique = me_ingredients_unique | set(ingredient)\n",
    "    # if i > 3: break\n",
    "    \n",
    "len(me_ingredients_unique)"
   ]
  },
  {
   "cell_type": "code",
   "execution_count": 178,
   "metadata": {},
   "outputs": [
    {
     "data": {
      "text/plain": [
       "582"
      ]
     },
     "execution_count": 178,
     "metadata": {},
     "output_type": "execute_result"
    }
   ],
   "source": [
    "# Code help from https://stackoverflow.com/questions/40167612/\n",
    "# how-to-keep-only-the-noun-words-in-a-wordlist-python-nltk\n",
    "text=' '.join(me_ingredients_unique)\n",
    "tokens = nltk.word_tokenize(text)\n",
    "tags = nltk.pos_tag(tokens)\n",
    "\n",
    "# ingredients should be nouns\n",
    "nouns = [word for word, pos in tags \n",
    "         if (pos == 'NN' \n",
    "             or pos == 'NNP' \n",
    "             or pos == 'NNS' \n",
    "             or pos == 'NNPS')]\n",
    "\n",
    "len(nouns)"
   ]
  },
  {
   "cell_type": "code",
   "execution_count": 181,
   "metadata": {},
   "outputs": [
    {
     "data": {
      "text/plain": [
       "477"
      ]
     },
     "execution_count": 181,
     "metadata": {},
     "output_type": "execute_result"
    }
   ],
   "source": [
    "nouns = list(set(nouns))\n",
    "len(nouns)"
   ]
  },
  {
   "cell_type": "code",
   "execution_count": 182,
   "metadata": {},
   "outputs": [
    {
     "data": {
      "text/plain": [
       "['%',\n",
       " 'Aleppo',\n",
       " 'Arabic',\n",
       " 'Brine',\n",
       " 'C',\n",
       " 'Cheddar',\n",
       " 'Chevre-Yogurt',\n",
       " 'Condiments',\n",
       " 'Crystal',\n",
       " 'Delicious']"
      ]
     },
     "execution_count": 182,
     "metadata": {},
     "output_type": "execute_result"
    }
   ],
   "source": [
    "nouns.sort()\n",
    "nouns[:10]"
   ]
  },
  {
   "cell_type": "code",
   "execution_count": 183,
   "metadata": {},
   "outputs": [
    {
     "data": {
      "text/plain": [
       "['%',\n",
       " 'aleppo',\n",
       " 'allspice',\n",
       " 'almond',\n",
       " 'almonds',\n",
       " 'amount',\n",
       " 'anchovy',\n",
       " 'apple',\n",
       " 'apples',\n",
       " 'apricots',\n",
       " 'arabic',\n",
       " 'artichokes',\n",
       " 'asafoetida',\n",
       " 'asparagus',\n",
       " 'baby',\n",
       " 'bacon',\n",
       " 'bags',\n",
       " 'banana',\n",
       " 'bananas',\n",
       " 'barberries',\n",
       " 'basil',\n",
       " 'bay',\n",
       " 'bean',\n",
       " 'beans',\n",
       " 'beet',\n",
       " 'beets',\n",
       " 'biber',\n",
       " 'bittersweet',\n",
       " 'boiling',\n",
       " 'boneless',\n",
       " 'bones',\n",
       " 'bouillon',\n",
       " 'bowl',\n",
       " 'box',\n",
       " 'bread',\n",
       " 'breadcrumbs',\n",
       " 'breads',\n",
       " 'breast',\n",
       " 'breasts',\n",
       " 'brine',\n",
       " 'broth',\n",
       " 'buckwheat',\n",
       " 'bulbs',\n",
       " 'bulgur',\n",
       " 'bunches',\n",
       " 'butter',\n",
       " 'buttermilk',\n",
       " 'butternut',\n",
       " 'c',\n",
       " 'cabbage',\n",
       " 'cake',\n",
       " 'cannellini',\n",
       " 'canola',\n",
       " 'cans',\n",
       " 'capers',\n",
       " 'cardamom',\n",
       " 'carrot',\n",
       " 'carrots',\n",
       " 'carton',\n",
       " 'cashew',\n",
       " 'cauliflower',\n",
       " 'cayenne',\n",
       " 'celery',\n",
       " 'cereal',\n",
       " 'chard',\n",
       " 'cheddar',\n",
       " 'cheese',\n",
       " 'chevre-yogurt',\n",
       " 'chicken',\n",
       " 'chickpea',\n",
       " 'chickpeas',\n",
       " 'chili',\n",
       " 'chives',\n",
       " 'chocolate',\n",
       " 'chorizo',\n",
       " 'chunks',\n",
       " 'cilantro',\n",
       " 'cinnamon',\n",
       " 'clove',\n",
       " 'cloves',\n",
       " 'coat',\n",
       " 'coconut',\n",
       " 'coffee',\n",
       " 'collard',\n",
       " 'color',\n",
       " 'coloring',\n",
       " 'condiments',\n",
       " 'confectioners',\n",
       " 'container',\n",
       " 'corn',\n",
       " 'cottage',\n",
       " 'cover',\n",
       " 'crackers',\n",
       " 'cranberries',\n",
       " 'cream',\n",
       " 'creme',\n",
       " 'crosswise',\n",
       " 'crumbs',\n",
       " 'crusts',\n",
       " 'crystal',\n",
       " 'cube',\n",
       " 'cubed',\n",
       " 'cubes',\n",
       " 'cucumber',\n",
       " 'cucumbers',\n",
       " 'cultures',\n",
       " 'cumin',\n",
       " 'cups',\n",
       " 'currants',\n",
       " 'curry',\n",
       " 'dash',\n",
       " 'date',\n",
       " 'dates',\n",
       " 'degrees',\n",
       " 'delicious',\n",
       " 'diamond',\n",
       " 'dijon',\n",
       " 'dill',\n",
       " 'dip',\n",
       " 'dough',\n",
       " 'dressing',\n",
       " 'drops',\n",
       " 'drumsticks',\n",
       " 'dry',\n",
       " 'duck',\n",
       " 'dusting',\n",
       " 'east',\n",
       " 'egg',\n",
       " 'eggplant',\n",
       " 'eggplants',\n",
       " 'eggs',\n",
       " 'english',\n",
       " 'envelopes',\n",
       " 'f',\n",
       " 'f/45',\n",
       " 'falafel',\n",
       " 'farina',\n",
       " 'farmer',\n",
       " 'fat',\n",
       " 'fennel',\n",
       " 'fideo',\n",
       " 'figs',\n",
       " 'fillets',\n",
       " 'filling',\n",
       " 'fine',\n",
       " 'flakes',\n",
       " 'flank',\n",
       " 'flatbread',\n",
       " 'flavor',\n",
       " 'florets',\n",
       " 'flour',\n",
       " 'food',\n",
       " 'fork',\n",
       " 'fraiche',\n",
       " 'french-style',\n",
       " 'fresco',\n",
       " 'fresno',\n",
       " 'fruit',\n",
       " 'frying',\n",
       " 'garam',\n",
       " 'garbanzo',\n",
       " 'garlic',\n",
       " 'garnish',\n",
       " 'gelatin',\n",
       " 'ghee',\n",
       " 'golden',\n",
       " 'graham',\n",
       " 'granny',\n",
       " 'granules',\n",
       " 'grape',\n",
       " 'grapeseed',\n",
       " 'greek',\n",
       " 'greek-style',\n",
       " 'greens',\n",
       " 'groats',\n",
       " 'ground',\n",
       " 'habanero',\n",
       " 'halloumi',\n",
       " 'halves',\n",
       " 'harissa',\n",
       " 'harissa',\n",
       " 'head',\n",
       " 'heads',\n",
       " 'hearts',\n",
       " 'heavy',\n",
       " 'herb',\n",
       " 'high',\n",
       " 'himalayan',\n",
       " 'honey',\n",
       " 'hummus',\n",
       " 'hungarian',\n",
       " 'imitation',\n",
       " 'inch',\n",
       " 'israeli',\n",
       " 'italian-flavored',\n",
       " 'jack',\n",
       " 'jalapeno',\n",
       " 'jam',\n",
       " 'jars',\n",
       " 'jasmine',\n",
       " 'jicama',\n",
       " 'juice',\n",
       " 'kabsa',\n",
       " 'kataifi',\n",
       " 'kernels',\n",
       " 'kidney',\n",
       " 'lamb',\n",
       " 'lamb',\n",
       " 'leaves',\n",
       " 'leg',\n",
       " 'legs',\n",
       " 'lemons',\n",
       " 'lengths',\n",
       " 'lengthwise',\n",
       " 'lentils',\n",
       " 'lettuce',\n",
       " 'lime',\n",
       " 'liquid',\n",
       " 'livers',\n",
       " 'lukewarm',\n",
       " 'mahleb',\n",
       " 'malt',\n",
       " 'mango',\n",
       " 'maple',\n",
       " 'margarine',\n",
       " 'marinade',\n",
       " 'marjoram',\n",
       " 'marzano',\n",
       " 'masala',\n",
       " 'masala',\n",
       " 'mascarpone',\n",
       " 'matzo',\n",
       " 'mayonnaise',\n",
       " 'mccormick',\n",
       " 'meat',\n",
       " 'meatballs',\n",
       " 'medium',\n",
       " 'medjool',\n",
       " 'merguez',\n",
       " 'middle',\n",
       " 'milk',\n",
       " 'mint',\n",
       " 'mix',\n",
       " 'mix',\n",
       " 'mixed',\n",
       " 'molasses',\n",
       " 'monterey',\n",
       " 'moroccan',\n",
       " 'mountain',\n",
       " 'muenster',\n",
       " 'mushroom',\n",
       " 'mushrooms',\n",
       " 'noodles',\n",
       " 'northern',\n",
       " 'nuts',\n",
       " 'oats',\n",
       " 'oil',\n",
       " 'onion',\n",
       " 'onions',\n",
       " 'orange',\n",
       " 'oranges',\n",
       " 'oregano',\n",
       " 'orzo',\n",
       " 'ounce',\n",
       " 'ounces',\n",
       " 'outer',\n",
       " 'package',\n",
       " 'packages',\n",
       " 'paprika',\n",
       " 'parmesan',\n",
       " 'parsley',\n",
       " 'parsley',\n",
       " 'parsnip',\n",
       " 'pasta',\n",
       " 'paste',\n",
       " 'paste',\n",
       " 'pastry',\n",
       " 'peach',\n",
       " 'peaches',\n",
       " 'peanut',\n",
       " 'peanuts',\n",
       " 'pearl',\n",
       " 'peas',\n",
       " 'pecan',\n",
       " 'pecans',\n",
       " 'peel',\n",
       " 'pekoe',\n",
       " 'pepper',\n",
       " 'peppercorns',\n",
       " 'peppers',\n",
       " 'petals',\n",
       " 'phyllo',\n",
       " 'pickles',\n",
       " 'piece',\n",
       " 'pieces',\n",
       " 'pilaf',\n",
       " 'pimento',\n",
       " 'pinch',\n",
       " 'pinches',\n",
       " 'pine',\n",
       " 'pinto',\n",
       " 'pistachio',\n",
       " 'pistachios',\n",
       " 'pizza',\n",
       " 'plain',\n",
       " 'plum',\n",
       " 'pockets',\n",
       " 'pods',\n",
       " 'pomegranate',\n",
       " 'popcorn',\n",
       " 'popper',\n",
       " 'potato',\n",
       " 'potatoes',\n",
       " 'pound',\n",
       " 'pounds',\n",
       " 'powder',\n",
       " 'processor',\n",
       " 'prunes',\n",
       " 'pudding',\n",
       " 'pudding',\n",
       " 'puff',\n",
       " 'puree',\n",
       " 'quarts',\n",
       " 'r',\n",
       " 'rabbit',\n",
       " 'radishes',\n",
       " 'ranch',\n",
       " 'ravioli',\n",
       " 'rectangles',\n",
       " 'ribbons',\n",
       " 'ribs',\n",
       " 'rice',\n",
       " 'rice',\n",
       " 'ricotta',\n",
       " 'rings',\n",
       " 'rise',\n",
       " 'roast',\n",
       " 'roma',\n",
       " 'roma',\n",
       " 'romaine',\n",
       " 'room',\n",
       " 'root',\n",
       " 'rosewater',\n",
       " 'round',\n",
       " 'rounds',\n",
       " 'russet',\n",
       " 'rutabaga',\n",
       " 'saffron',\n",
       " 'sage',\n",
       " 'salad',\n",
       " 'salad',\n",
       " 'salmon',\n",
       " 'salt',\n",
       " 'san',\n",
       " 'sauce',\n",
       " 'sauce',\n",
       " 'sausage',\n",
       " 'scallion',\n",
       " 'scallions',\n",
       " 'sea',\n",
       " 'seasoning',\n",
       " 'seed',\n",
       " 'seedless',\n",
       " 'seeds',\n",
       " 'sella',\n",
       " 'semolina',\n",
       " 'sesame',\n",
       " 'shallot',\n",
       " 'shallots',\n",
       " 'shanks',\n",
       " 'sheets',\n",
       " 'shell',\n",
       " 'shoulder',\n",
       " 'sirloin',\n",
       " 'skin',\n",
       " 'skinless',\n",
       " 'slices',\n",
       " 'slivers',\n",
       " 'smith',\n",
       " 'soda',\n",
       " 'soup',\n",
       " 'sour',\n",
       " 'soybeans',\n",
       " 'spaghetti',\n",
       " 'spice',\n",
       " 'spicy',\n",
       " 'spinach',\n",
       " 'splenda',\n",
       " 'split',\n",
       " 'spray',\n",
       " 'spread',\n",
       " 'spring',\n",
       " 'square',\n",
       " 'squash',\n",
       " 'star',\n",
       " 'steak',\n",
       " 'stew',\n",
       " 'stick',\n",
       " 'sticks',\n",
       " 'stock',\n",
       " 'strawberries',\n",
       " 'strips',\n",
       " 'sugar',\n",
       " 'sultana',\n",
       " 'sumac',\n",
       " 'sunflower',\n",
       " 'syrup',\n",
       " 'syrup',\n",
       " 'syrup',\n",
       " 'tabasco',\n",
       " 'tablespoon',\n",
       " 'tablespoons',\n",
       " 'taco',\n",
       " 'tahini',\n",
       " 'tahini',\n",
       " 'tamari',\n",
       " 'tapioca',\n",
       " 'tarragon',\n",
       " 'taste',\n",
       " 'teaspoon',\n",
       " 'teaspoons',\n",
       " 'temperature',\n",
       " 'tenderloin',\n",
       " 'thick',\n",
       " 'thickly',\n",
       " 'thighs',\n",
       " 'threads',\n",
       " 'thyme',\n",
       " 'tilapia',\n",
       " 'tips',\n",
       " 'tofu',\n",
       " 'tomato',\n",
       " 'tomato',\n",
       " 'tomatoes',\n",
       " 'topping',\n",
       " 'topping',\n",
       " 'toppings',\n",
       " 'tub',\n",
       " 'tuna',\n",
       " 'turkey',\n",
       " 'turkish',\n",
       " 'turkish-style',\n",
       " 'turnip',\n",
       " 'turnips',\n",
       " 'tzatziki',\n",
       " 'urfa',\n",
       " 'vanilla',\n",
       " 'vegetable',\n",
       " 'vegetables',\n",
       " 'vidalia',\n",
       " 'vinegar',\n",
       " 'virgin',\n",
       " 'walnut',\n",
       " 'walnuts',\n",
       " 'wasabi',\n",
       " 'water',\n",
       " 'wedges',\n",
       " 'weed',\n",
       " 'wheat',\n",
       " 'whites',\n",
       " 'whole',\n",
       " 'wine',\n",
       " 'wings',\n",
       " 'wonton',\n",
       " 'worcestershire',\n",
       " 'wrappers',\n",
       " 'yeast',\n",
       " 'yogurt',\n",
       " 'yogurt',\n",
       " 'yolk',\n",
       " 'yolks',\n",
       " 'yoplait',\n",
       " \"za'atar\",\n",
       " \"za'atar\",\n",
       " 'zest',\n",
       " 'zucchini',\n",
       " 'zucchinis']"
      ]
     },
     "execution_count": 183,
     "metadata": {},
     "output_type": "execute_result"
    }
   ],
   "source": [
    "nouns = [noun.lower() for noun in nouns]\n",
    "nouns.sort()\n",
    "nouns"
   ]
  },
  {
   "cell_type": "code",
   "execution_count": 277,
   "metadata": {},
   "outputs": [],
   "source": [
    "me_ingredients_unique = [\n",
    " 'almond',\n",
    " 'almonds',\n",
    " 'anchovy',\n",
    " 'apple',\n",
    " 'apples',\n",
    " 'apricots',\n",
    " 'artichokes',\n",
    " 'asafoetida',\n",
    " 'asparagus',\n",
    "\n",
    " 'bacon',\n",
    " 'banana',\n",
    " 'bananas',\n",
    " 'barberries',\n",
    " 'basil',\n",
    " 'bay',\n",
    " 'beet',\n",
    " 'beets',\n",
    " 'brine',\n",
    " 'buckwheat',\n",
    " \n",
    " 'bulgur',\n",
    " 'butter',\n",
    " 'buttermilk',\n",
    " 'butternut',\n",
    "\n",
    " 'cabbage',\n",
    " 'cannellini',\n",
    " 'canola',\n",
    " 'capers',\n",
    " 'cardamom',\n",
    " 'carrot',\n",
    " 'carrots',\n",
    " 'cashew',\n",
    " 'cauliflower',\n",
    " 'cayenne',\n",
    " 'celery',\n",
    " 'chard',\n",
    " 'cheddar',\n",
    " 'chevre-yogurt',\n",
    " 'chicken',\n",
    " 'chickpea',\n",
    " 'chickpeas',\n",
    " 'chili',\n",
    " 'chives',\n",
    " 'chocolate',\n",
    " 'chorizo',\n",
    " 'cilantro',\n",
    " 'cinnamon',\n",
    " 'clove',\n",
    " 'cloves',\n",
    " 'coconut',\n",
    " 'coffee',\n",
    " 'collard',\n",
    " 'color',\n",
    " 'corn',\n",
    " 'cottage',\n",
    " 'cranberries',\n",
    " 'cream',\n",
    " 'cucumber',\n",
    " 'cucumbers',\n",
    " 'cumin',\n",
    " 'currants',\n",
    "\n",
    " 'date',\n",
    " 'dates',\n",
    " 'dill',\n",
    " 'duck',\n",
    "\n",
    " 'egg',\n",
    " 'eggplant',\n",
    " 'eggplants',\n",
    " 'eggs',\n",
    "\n",
    " 'farina',\n",
    " 'fennel',\n",
    " 'figs',\n",
    " 'flatbread',\n",
    " 'flour',\n",
    " 'fraiche',\n",
    " 'fresco',\n",
    "\n",
    " 'garam',\n",
    " 'garbanzo',\n",
    " 'garlic',\n",
    " 'gelatin',\n",
    " 'ghee',\n",
    " 'graham',\n",
    " 'grape',\n",
    " 'grapeseed',\n",
    " 'greens',\n",
    " \n",
    " 'habanero',\n",
    " 'halloumi',\n",
    " 'harissa',\n",
    " 'honey',\n",
    " 'hummus',\n",
    "\n",
    " 'jalapeno',\n",
    " 'jasmine',\n",
    " 'jicama',\n",
    "\n",
    " 'kabsa',\n",
    "\n",
    " 'lamb',\n",
    " 'lemons',\n",
    " 'lentils',\n",
    " 'lettuce',\n",
    " 'lime',\n",
    " 'livers',\n",
    "\n",
    " 'mahleb',\n",
    " 'mango',\n",
    " 'maple',\n",
    " 'margarine',\n",
    " 'marjoram',\n",
    " 'mascarpone',\n",
    " 'matzo',\n",
    " 'mayonnaise',\n",
    " 'meat',  \n",
    " 'medjool',\n",
    " 'merguez',\n",
    " 'middle',\n",
    " 'milk',\n",
    " 'mint',\n",
    " 'molasses',\n",
    " 'muenster',\n",
    " 'mushroom',\n",
    " 'mushrooms',\n",
    "\n",
    " 'noodles',\n",
    " 'nuts',\n",
    "\n",
    " 'oats',\n",
    " 'oil',\n",
    " 'onion',\n",
    " 'onions',\n",
    " 'orange',\n",
    " 'oranges',\n",
    " 'oregano',\n",
    " 'orzo',\n",
    "\n",
    " 'paprika',\n",
    " 'parmesan',\n",
    " 'parsley',\n",
    " 'parsnip',\n",
    " 'peach',\n",
    " 'peaches',\n",
    " 'peanut',\n",
    " 'peanuts',\n",
    " 'peas',\n",
    " 'pecan',\n",
    " 'pecans',\n",
    " 'pekoe',\n",
    " 'pepper',\n",
    " 'peppercorns',\n",
    " 'peppers',\n",
    " 'phyllo',\n",
    " 'pickles',\n",
    " 'pilaf',\n",
    " 'pimento',\n",
    " 'pine',\n",
    " 'pinto',\n",
    " 'pistachio',\n",
    " 'pistachios',\n",
    " 'plum',\n",
    " 'pomegranate',\n",
    " 'popcorn',\n",
    " 'potato',\n",
    " 'potatoes',\n",
    " 'prunes',\n",
    "\n",
    " 'rabbit',\n",
    " 'radishes',\n",
    " 'ranch',\n",
    " 'ravioli',\n",
    " 'rice',\n",
    " 'ricotta',\n",
    " 'roma',\n",
    " 'romaine',\n",
    " 'rosewater',\n",
    " 'russet',\n",
    " 'rutabaga',\n",
    "\n",
    " 'saffron',\n",
    " 'sage',\n",
    " 'salmon',\n",
    " 'salt',\n",
    " 'sausage',\n",
    " 'scallion',\n",
    " 'scallions',\n",
    " 'semolina',\n",
    " 'sesame',\n",
    " 'shallot',\n",
    " 'shallots',\n",
    " 'sirloin',\n",
    " 'soybeans',\n",
    " 'spaghetti',\n",
    " 'spinach',\n",
    " 'splenda',\n",
    " 'squash',\n",
    " 'steak',\n",
    " 'strawberries',\n",
    " 'sugar',\n",
    " 'sultana',\n",
    " 'sumac',\n",
    " 'sunflower',\n",
    "\n",
    " 'tabasco',\n",
    " 'taco',\n",
    " 'tahini',\n",
    " 'tamari',\n",
    " 'tapioca',\n",
    " 'tarragon',\n",
    " 'thyme',\n",
    " 'tilapia',\n",
    " 'tofu',\n",
    " 'tomato',\n",
    " 'tomatoes',\n",
    " 'tuna',\n",
    " 'turkey',\n",
    " 'turnip',\n",
    " 'turnips',\n",
    " 'tzatziki',\n",
    "\n",
    " 'vanilla',\n",
    " 'vidalia',\n",
    " 'vinegar',\n",
    "\n",
    " 'walnut',\n",
    " 'walnuts',\n",
    " 'wasabi',\n",
    " 'weed',\n",
    " 'wheat',\n",
    " 'wine',\n",
    " 'wonton',\n",
    " 'worcestershire',\n",
    "\n",
    " 'yeast',\n",
    " 'yogurt',\n",
    " 'yolk',\n",
    " 'yolks',   \n",
    "\n",
    " \"za'atar\",\n",
    " 'zest',\n",
    " 'zucchini',\n",
    " 'zucchinis']"
   ]
  },
  {
   "cell_type": "code",
   "execution_count": 278,
   "metadata": {},
   "outputs": [
    {
     "data": {
      "text/plain": [
       "225"
      ]
     },
     "execution_count": 278,
     "metadata": {},
     "output_type": "execute_result"
    }
   ],
   "source": [
    "len(me_ingredients_unique)"
   ]
  },
  {
   "cell_type": "code",
   "execution_count": 279,
   "metadata": {},
   "outputs": [],
   "source": [
    "replace_list_s = ['almosnds', 'apples', 'bananas', 'beans','beets', \n",
    "                  'breads', 'carrots', 'chickpeas', 'cloves', \n",
    "                  'cucumbers', 'eggplants', 'eggs', 'mushrooms', \n",
    "                  'onions', 'oranges', 'peanuts', 'peppers', \n",
    "                  'pistachios',  'scallions', 'shallots', 'turnips',\n",
    "                  'walnuts', 'yolks', 'zucchinis']\n",
    "\n",
    "replace_list_es = ['potatoes', 'tomatoes']"
   ]
  },
  {
   "cell_type": "code",
   "execution_count": 280,
   "metadata": {},
   "outputs": [],
   "source": [
    "def ingredients_proper(ingredients):\n",
    "    \n",
    "    items = [item[:-1] if item.endswith(',') else item\n",
    "             for item in ingredients]\n",
    "    \n",
    "    items = [item for item in items \n",
    "             if item in me_ingredients_unique]\n",
    "    \n",
    "    items = [item[:-1] if item in replace_list_s else item\n",
    "             for item in items] \n",
    "    \n",
    "    items = [item[:-2] if item in replace_list_es else item\n",
    "             for item in items] \n",
    "    \n",
    "    items = list(set(items))\n",
    "    items.sort()\n",
    "    return items\n",
    "    \n",
    "# ingredients_proper(df_recipes_in_detail['ingredients'][11])"
   ]
  },
  {
   "cell_type": "code",
   "execution_count": 281,
   "metadata": {},
   "outputs": [
    {
     "data": {
      "text/plain": [
       "['carrot',\n",
       " 'chicken',\n",
       " 'clove',\n",
       " 'garlic',\n",
       " 'onion',\n",
       " 'pepper',\n",
       " 'potato',\n",
       " 'salt',\n",
       " 'walnut']"
      ]
     },
     "execution_count": 281,
     "metadata": {},
     "output_type": "execute_result"
    }
   ],
   "source": [
    "ingredients_proper(df_recipes_in_detail['ingredients'][300])"
   ]
  },
  {
   "cell_type": "code",
   "execution_count": 282,
   "metadata": {},
   "outputs": [
    {
     "data": {
      "text/plain": [
       "0              [cayenne, onion, parsley, pepper, salt]\n",
       "1      [clove, garbanzo, garlic, pepper, salt, tahini]\n",
       "2                      [eggplant, garlic, oil, tahini]\n",
       "3    [carrot, celery, chard, clove, garlic, potato,...\n",
       "4    [bay, cinnamon, clove, garlic, lamb, oil, onio...\n",
       "Name: ingredients_proper, dtype: object"
      ]
     },
     "execution_count": 282,
     "metadata": {},
     "output_type": "execute_result"
    }
   ],
   "source": [
    "df_recipes_in_detail['ingredients_proper'] = \\\n",
    "df_recipes_in_detail['ingredients'].apply(ingredients_proper)\n",
    "df_recipes_in_detail['ingredients_proper'].head()"
   ]
  },
  {
   "cell_type": "code",
   "execution_count": 283,
   "metadata": {},
   "outputs": [
    {
     "data": {
      "text/plain": [
       "ingredients           [3, 1/2, cups, whole, milk,, or, more, as, nee...\n",
       "ingredients_proper                                  [milk, rice, sugar]\n",
       "Name: 327, dtype: object"
      ]
     },
     "execution_count": 283,
     "metadata": {},
     "output_type": "execute_result"
    }
   ],
   "source": [
    "df_recipes_in_detail.iloc[327][['ingredients', 'ingredients_proper']]"
   ]
  },
  {
   "cell_type": "code",
   "execution_count": 284,
   "metadata": {},
   "outputs": [
    {
     "data": {
      "text/plain": [
       "True"
      ]
     },
     "execution_count": 284,
     "metadata": {},
     "output_type": "execute_result"
    }
   ],
   "source": [
    "'garlic,'.endswith(',')"
   ]
  },
  {
   "cell_type": "code",
   "execution_count": 285,
   "metadata": {},
   "outputs": [
    {
     "data": {
      "text/plain": [
       "['cayenne',\n",
       " 'onion',\n",
       " 'parsley',\n",
       " 'pepper',\n",
       " 'salt',\n",
       " 'clove',\n",
       " 'garbanzo',\n",
       " 'garlic',\n",
       " 'pepper',\n",
       " 'salt']"
      ]
     },
     "execution_count": 285,
     "metadata": {},
     "output_type": "execute_result"
    }
   ],
   "source": [
    "ingredients = []\n",
    "for item in df_recipes_in_detail['ingredients_proper']:\n",
    "    ingredients+=item\n",
    "\n",
    "ingredients[:10]"
   ]
  },
  {
   "cell_type": "code",
   "execution_count": 286,
   "metadata": {},
   "outputs": [],
   "source": [
    "count = pd.Series(ingredients).value_counts()"
   ]
  },
  {
   "cell_type": "code",
   "execution_count": 287,
   "metadata": {},
   "outputs": [
    {
     "data": {
      "text/plain": [
       "salt        254\n",
       "oil         250\n",
       "garlic      217\n",
       "onion       207\n",
       "pepper      204\n",
       "clove       180\n",
       "tomato      124\n",
       "cumin        97\n",
       "parsley      88\n",
       "sugar        78\n",
       "butter       66\n",
       "flour        64\n",
       "egg          57\n",
       "mint         56\n",
       "chicken      54\n",
       "yogurt       52\n",
       "cinnamon     52\n",
       "tahini       50\n",
       "garbanzo     44\n",
       "rice         38\n",
       "dtype: int64"
      ]
     },
     "execution_count": 287,
     "metadata": {},
     "output_type": "execute_result"
    }
   ],
   "source": [
    "count[:20]"
   ]
  },
  {
   "cell_type": "code",
   "execution_count": 288,
   "metadata": {},
   "outputs": [
    {
     "data": {
      "image/png": "[encoded data removed]",
      "text/plain": [
       "<Figure size 1080x360 with 1 Axes>"
      ]
     },
     "metadata": {},
     "output_type": "display_data"
    }
   ],
   "source": [
    "count[:50].plot(kind='bar', figsize=(15, 5), rot = 90, fontsize=16)\n",
    "\n",
    "plt.xlabel('Ingredients', size=20)\n",
    "plt.ylabel('Frequency', size=20)\n",
    "plt.title('Frequency of ingredients in middle-eastern recipes', size=20);"
   ]
  },
  {
   "cell_type": "code",
   "execution_count": null,
   "metadata": {},
   "outputs": [],
   "source": []
  },
  {
   "cell_type": "code",
   "execution_count": null,
   "metadata": {},
   "outputs": [],
   "source": []
  },
  {
   "cell_type": "code",
   "execution_count": null,
   "metadata": {},
   "outputs": [],
   "source": []
  },
  {
   "cell_type": "code",
   "execution_count": null,
   "metadata": {},
   "outputs": [],
   "source": []
  },
  {
   "cell_type": "code",
   "execution_count": null,
   "metadata": {},
   "outputs": [],
   "source": []
  },
  {
   "cell_type": "code",
   "execution_count": 121,
   "metadata": {},
   "outputs": [],
   "source": [
    "def reviews_and_ratings(recipe_url):\n",
    "    \"\"\"Given a url of a recipe returns \n",
    "    the number of reviews and rating\n",
    "    (CAUTION: Applies to allrecipes.com only)\"\"\"    \n",
    "    \n",
    "    res = requests.get(recipe_url)\n",
    "    res.raise_for_status()\n",
    "    soup = bs4.BeautifulSoup(res.text, \"lxml\")\n",
    "    reviews = int(soup.find('span', class_=\"review-count\").getText().split(' ')[0])\n",
    "    rating = float(soup.find('div', class_=\"rating-stars\").get(\"data-ratingstars\"))\n",
    "                          \n",
    "    return reviews, rating"
   ]
  },
  {
   "cell_type": "markdown",
   "metadata": {},
   "source": [
    "# Middle-eastern recipes"
   ]
  },
  {
   "cell_type": "markdown",
   "metadata": {},
   "source": [
    "## Sites to explore"
   ]
  },
  {
   "cell_type": "code",
   "execution_count": 122,
   "metadata": {},
   "outputs": [],
   "source": [
    "NUM_PAGES_ME = 21\n",
    "base_url_me = \"https://www.allrecipes.com/recipes/235/world-cuisine/middle-eastern/?page=\""
   ]
  },
  {
   "cell_type": "code",
   "execution_count": 123,
   "metadata": {},
   "outputs": [
    {
     "data": {
      "image/png": "[encoded data removed]",
      "text/plain": [
       "<Figure size 1080x360 with 1 Axes>"
      ]
     },
     "metadata": {},
     "output_type": "display_data"
    }
   ],
   "source": [
    "# list of urls of recipes \n",
    "recipe_urls = recipe_urls_in_page(url)\n",
    "\n",
    "# list of words in the recipes \n",
    "ingredient_list = []\n",
    "for recipe_url in recipe_urls:\n",
    "    ingredient_list.extend(ingredients(recipe_url))\n",
    "    \n",
    "ingredient_list = [ingredient.lower() for ingredient in ingredient_list]\n",
    "\n",
    "# list of unique words in recipes\n",
    "ingredient_unique = list(set(ingredient_list))\n",
    "\n",
    "# Code help from https://stackoverflow.com/questions/40167612/\n",
    "# how-to-keep-only-the-noun-words-in-a-wordlist-python-nltk\n",
    "text=' '.join(ingredient_unique)\n",
    "tokens = nltk.word_tokenize(text)\n",
    "tags = nltk.pos_tag(tokens)\n",
    "# ingredients should be nouns\n",
    "nouns = [word for word, pos in tags if (pos == 'NN' or pos == 'NNP' \n",
    "                                       or pos == 'NNS' or pos == 'NNPS')]\n",
    "# nouns but not ingredients\n",
    "to_remove_set = {'aleppo', 'beans', 'bittersweet', 'boneless', 'bunch', 'bunches',\n",
    "                  'cooking', 'dressing', 'drumsticks', 'fat', 'firmly', 'flakes','greek-style',\n",
    "                  'ground', 'halves', 'head', 'inch', 'juice', 'leaves', 'leg', 'liquid',\n",
    "                  'mix', 'ounce', 'ounces', 'package', 'paste', 'pieces', 'plus', 'pods',\n",
    "                  'pound', 'pounds', 'romaine', 'russet', 'slices', 'slivers', 'spicy', 'stew',\n",
    "                  'sticks', 'strips', 'tablespoons', 'taste', 'teaspoons', 'water',\n",
    "                  'cup', 'cups', 'tablespoon', 'ripe', 'basmati', 'bell', 'quart', 'pinch',\n",
    "                  'thighs', 'half-and-half', 'cultures'}\n",
    "\n",
    "# unique ingredients\n",
    "ingredients = set(nouns) - to_remove_set\n",
    "\n",
    "# list of actual ingredients in recipes\n",
    "ingredient_list_w_rep = [item for item in ingredient_list if item in ingredients]\n",
    "# replace breads by bread, and so on\n",
    "replace_list = ['breads','onions', 'peppers']\n",
    "ingredient_list_wo_rep = [item if item not in replace_list else item[:-1] \n",
    "                          for item in ingredient_list_w_rep if item in ingredients]\n",
    "\n",
    "ingredient_series = pd.Series(ingredient_list_wo_rep)\n",
    "ingredient_series.value_counts().plot(kind='bar', figsize=(15, 5), rot = 90, fontsize=16)\n",
    "\n",
    "plt.xlabel('Ingredients', size=20)\n",
    "plt.ylabel('Frequency', size=20)\n",
    "plt.title('Frequency of ingredients in middle-eastern recipes', size=20);"
   ]
  },
  {
   "cell_type": "code",
   "execution_count": 124,
   "metadata": {},
   "outputs": [
    {
     "data": {
      "image/png": "[encoded data removed]",
      "text/plain": [
       "<Figure size 432x288 with 1 Axes>"
      ]
     },
     "metadata": {},
     "output_type": "display_data"
    }
   ],
   "source": [
    "# list of reviews and ratings\n",
    "revs_and_rate = []\n",
    "for recipe_url in recipe_urls:\n",
    "    revs_and_rate.append(reviews_and_ratings(recipe_url))\n",
    "df = pd.DataFrame(revs_and_rate, columns=['reviews', 'rating'])\n",
    "\n",
    "plt.scatter(df.reviews, df.rating, c='r', s=50)\n",
    "plt.xticks(size=16)\n",
    "plt.yticks(size=16)\n",
    "plt.xlabel('Reviews', size=16)\n",
    "plt.ylabel('Rating', size=16)\n",
    "plt.title('Correlation (or it absence!) between \\n the number of reviews and rating', size=16);"
   ]
  },
  {
   "cell_type": "code",
   "execution_count": null,
   "metadata": {},
   "outputs": [],
   "source": []
  }
 ],
 "metadata": {
  "kernelspec": {
   "display_name": "Python [conda env:anaconda3]",
   "language": "python",
   "name": "conda-env-anaconda3-py"
  },
  "language_info": {
   "codemirror_mode": {
    "name": "ipython",
    "version": 3
   },
   "file_extension": ".py",
   "mimetype": "text/x-python",
   "name": "python",
   "nbconvert_exporter": "python",
   "pygments_lexer": "ipython3",
   "version": "3.6.4"
  }
 },
 "nbformat": 4,
 "nbformat_minor": 2
}
